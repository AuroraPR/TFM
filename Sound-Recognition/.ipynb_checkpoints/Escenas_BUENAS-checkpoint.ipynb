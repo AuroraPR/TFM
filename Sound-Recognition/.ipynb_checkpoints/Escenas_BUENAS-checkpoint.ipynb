{
 "cells": [
  {
   "cell_type": "markdown",
   "metadata": {},
   "source": [
    "# Generación del modelo"
   ]
  },
  {
   "cell_type": "code",
   "execution_count": 1,
   "metadata": {},
   "outputs": [],
   "source": [
    "import pandas as pd\n",
    "import matplotlib.pyplot as plt\n",
    "import librosa\n",
    "import librosa.display\n",
    "from tqdm import tqdm\n",
    "import numpy as np\n",
    "from sklearn.model_selection import train_test_split\n",
    "import tensorflow as tf\n",
    "import tensorflow.keras.models as models\n",
    "import tensorflow.keras.layers as layers\n",
    "from sklearn.metrics import confusion_matrix\n",
    "from sklearn.metrics import plot_confusion_matrix\n",
    "from sklearn.neighbors import KNeighborsClassifier\n",
    "from sklearn.metrics import accuracy_score\n",
    "from sklearn.svm import SVC\n",
    "from tensorflow.keras.models import Sequential\n",
    "\n",
    "from sklearn.model_selection import KFold\n",
    "from IPython.core.interactiveshell import InteractiveShell\n",
    "InteractiveShell.ast_node_interactivity = \"all\"\n",
    "\n",
    "SCENE=\"4\"\n",
    "CSV_FILE_PATH = \"./dataSetEscena\"+SCENE+\".csv\"  # path of csv file\n",
    "DATA_PATH = \"./sonidosParaEscena\"+SCENE+\"/\" # path to folde"
   ]
  },
  {
   "cell_type": "code",
   "execution_count": 6,
   "metadata": {},
   "outputs": [],
   "source": [
    "from collections.abc import Sequence\n",
    "def get_shape(lst, shape=()):\n",
    "    \"\"\"\n",
    "    returns the shape of nested lists similarly to numpy's shape.\n",
    "\n",
    "    :param lst: the nested list\n",
    "    :param shape: the shape up to the current recursion depth\n",
    "    :return: the shape including the current depth\n",
    "            (finally this will be the full depth)\n",
    "    \"\"\"\n",
    "\n",
    "    if not isinstance(lst, Sequence):\n",
    "        # base case\n",
    "        return shape\n",
    "\n",
    "    # peek ahead and assure all lists in the next depth\n",
    "    # have the same length\n",
    "    if isinstance(lst[0], Sequence):\n",
    "        l = len(lst[0])\n",
    "        if not all(len(item) == l for item in lst):\n",
    "            msg = 'not all lists have the same length'\n",
    "            raise ValueError(msg)\n",
    "\n",
    "    shape += (len(lst), )\n",
    "    \n",
    "    # recurse\n",
    "    shape = get_shape(lst[0], shape)\n",
    "\n",
    "    return shape"
   ]
  },
  {
   "cell_type": "markdown",
   "metadata": {},
   "source": []
  },
  {
   "cell_type": "code",
   "execution_count": 3,
   "metadata": {},
   "outputs": [
    {
     "data": {
      "text/html": [
       "<div>\n",
       "<style scoped>\n",
       "    .dataframe tbody tr th:only-of-type {\n",
       "        vertical-align: middle;\n",
       "    }\n",
       "\n",
       "    .dataframe tbody tr th {\n",
       "        vertical-align: top;\n",
       "    }\n",
       "\n",
       "    .dataframe thead th {\n",
       "        text-align: right;\n",
       "    }\n",
       "</style>\n",
       "<table border=\"1\" class=\"dataframe\">\n",
       "  <thead>\n",
       "    <tr style=\"text-align: right;\">\n",
       "      <th></th>\n",
       "      <th>name</th>\n",
       "      <th>target</th>\n",
       "      <th>category</th>\n",
       "    </tr>\n",
       "  </thead>\n",
       "  <tbody>\n",
       "    <tr>\n",
       "      <th>0</th>\n",
       "      <td>aspirador1.wav</td>\n",
       "      <td>1</td>\n",
       "      <td>aspirador</td>\n",
       "    </tr>\n",
       "    <tr>\n",
       "      <th>1</th>\n",
       "      <td>aspirador2.wav</td>\n",
       "      <td>1</td>\n",
       "      <td>aspirador</td>\n",
       "    </tr>\n",
       "    <tr>\n",
       "      <th>2</th>\n",
       "      <td>aspirador3.wav</td>\n",
       "      <td>1</td>\n",
       "      <td>aspirador</td>\n",
       "    </tr>\n",
       "    <tr>\n",
       "      <th>3</th>\n",
       "      <td>aspirador4.wav</td>\n",
       "      <td>1</td>\n",
       "      <td>aspirador</td>\n",
       "    </tr>\n",
       "    <tr>\n",
       "      <th>4</th>\n",
       "      <td>aspirador5.wav</td>\n",
       "      <td>1</td>\n",
       "      <td>aspirador</td>\n",
       "    </tr>\n",
       "    <tr>\n",
       "      <th>...</th>\n",
       "      <td>...</td>\n",
       "      <td>...</td>\n",
       "      <td>...</td>\n",
       "    </tr>\n",
       "    <tr>\n",
       "      <th>1497</th>\n",
       "      <td>idle48.wav</td>\n",
       "      <td>16</td>\n",
       "      <td>idle</td>\n",
       "    </tr>\n",
       "    <tr>\n",
       "      <th>1498</th>\n",
       "      <td>idle49.wav</td>\n",
       "      <td>16</td>\n",
       "      <td>idle</td>\n",
       "    </tr>\n",
       "    <tr>\n",
       "      <th>1499</th>\n",
       "      <td>idle50.wav</td>\n",
       "      <td>16</td>\n",
       "      <td>idle</td>\n",
       "    </tr>\n",
       "    <tr>\n",
       "      <th>1500</th>\n",
       "      <td>idle51.wav</td>\n",
       "      <td>16</td>\n",
       "      <td>idle</td>\n",
       "    </tr>\n",
       "    <tr>\n",
       "      <th>1501</th>\n",
       "      <td>idle52.wav</td>\n",
       "      <td>16</td>\n",
       "      <td>idle</td>\n",
       "    </tr>\n",
       "  </tbody>\n",
       "</table>\n",
       "<p>1502 rows × 3 columns</p>\n",
       "</div>"
      ],
      "text/plain": [
       "                name  target   category\n",
       "0     aspirador1.wav       1  aspirador\n",
       "1     aspirador2.wav       1  aspirador\n",
       "2     aspirador3.wav       1  aspirador\n",
       "3     aspirador4.wav       1  aspirador\n",
       "4     aspirador5.wav       1  aspirador\n",
       "...              ...     ...        ...\n",
       "1497      idle48.wav      16       idle\n",
       "1498      idle49.wav      16       idle\n",
       "1499      idle50.wav      16       idle\n",
       "1500      idle51.wav      16       idle\n",
       "1501      idle52.wav      16       idle\n",
       "\n",
       "[1502 rows x 3 columns]"
      ]
     },
     "execution_count": 3,
     "metadata": {},
     "output_type": "execute_result"
    }
   ],
   "source": [
    "df = pd.read_csv(CSV_FILE_PATH)\n",
    "df\n"
   ]
  },
  {
   "cell_type": "code",
   "execution_count": 4,
   "metadata": {},
   "outputs": [
    {
     "data": {
      "text/html": [
       "<div>\n",
       "<style scoped>\n",
       "    .dataframe tbody tr th:only-of-type {\n",
       "        vertical-align: middle;\n",
       "    }\n",
       "\n",
       "    .dataframe tbody tr th {\n",
       "        vertical-align: top;\n",
       "    }\n",
       "\n",
       "    .dataframe thead th {\n",
       "        text-align: right;\n",
       "    }\n",
       "</style>\n",
       "<table border=\"1\" class=\"dataframe\">\n",
       "  <thead>\n",
       "    <tr style=\"text-align: right;\">\n",
       "      <th></th>\n",
       "      <th>name</th>\n",
       "      <th>target</th>\n",
       "      <th>category</th>\n",
       "    </tr>\n",
       "  </thead>\n",
       "  <tbody>\n",
       "    <tr>\n",
       "      <th>0</th>\n",
       "      <td>aspirador1.wav</td>\n",
       "      <td>1</td>\n",
       "      <td>aspirador</td>\n",
       "    </tr>\n",
       "    <tr>\n",
       "      <th>100</th>\n",
       "      <td>cisterna1.wav</td>\n",
       "      <td>2</td>\n",
       "      <td>cisterna</td>\n",
       "    </tr>\n",
       "    <tr>\n",
       "      <th>150</th>\n",
       "      <td>conversacion1.wav</td>\n",
       "      <td>3</td>\n",
       "      <td>conversacion</td>\n",
       "    </tr>\n",
       "    <tr>\n",
       "      <th>250</th>\n",
       "      <td>cubiertos_sartenes1.wav</td>\n",
       "      <td>4</td>\n",
       "      <td>cubiertos_sartenes</td>\n",
       "    </tr>\n",
       "    <tr>\n",
       "      <th>350</th>\n",
       "      <td>despertador1.wav</td>\n",
       "      <td>5</td>\n",
       "      <td>despertador</td>\n",
       "    </tr>\n",
       "    <tr>\n",
       "      <th>450</th>\n",
       "      <td>ducha1.wav</td>\n",
       "      <td>6</td>\n",
       "      <td>ducha</td>\n",
       "    </tr>\n",
       "    <tr>\n",
       "      <th>550</th>\n",
       "      <td>estractor1.wav</td>\n",
       "      <td>7</td>\n",
       "      <td>estractor</td>\n",
       "    </tr>\n",
       "    <tr>\n",
       "      <th>650</th>\n",
       "      <td>grifo_banio1.wav</td>\n",
       "      <td>8</td>\n",
       "      <td>grifo_banio</td>\n",
       "    </tr>\n",
       "    <tr>\n",
       "      <th>750</th>\n",
       "      <td>grifo_cocina1.wav</td>\n",
       "      <td>9</td>\n",
       "      <td>grifo_cocina</td>\n",
       "    </tr>\n",
       "    <tr>\n",
       "      <th>850</th>\n",
       "      <td>impresora1.wav</td>\n",
       "      <td>10</td>\n",
       "      <td>impresora</td>\n",
       "    </tr>\n",
       "    <tr>\n",
       "      <th>950</th>\n",
       "      <td>microondas1.wav</td>\n",
       "      <td>11</td>\n",
       "      <td>microondas</td>\n",
       "    </tr>\n",
       "    <tr>\n",
       "      <th>1050</th>\n",
       "      <td>persiana1.wav</td>\n",
       "      <td>12</td>\n",
       "      <td>persiana</td>\n",
       "    </tr>\n",
       "    <tr>\n",
       "      <th>1150</th>\n",
       "      <td>puerta1.wav</td>\n",
       "      <td>13</td>\n",
       "      <td>puerta</td>\n",
       "    </tr>\n",
       "    <tr>\n",
       "      <th>1250</th>\n",
       "      <td>telefono1.wav</td>\n",
       "      <td>14</td>\n",
       "      <td>telefono</td>\n",
       "    </tr>\n",
       "    <tr>\n",
       "      <th>1350</th>\n",
       "      <td>timbre1.wav</td>\n",
       "      <td>15</td>\n",
       "      <td>timbre</td>\n",
       "    </tr>\n",
       "    <tr>\n",
       "      <th>1450</th>\n",
       "      <td>idle1.wav</td>\n",
       "      <td>16</td>\n",
       "      <td>idle</td>\n",
       "    </tr>\n",
       "  </tbody>\n",
       "</table>\n",
       "</div>"
      ],
      "text/plain": [
       "                         name  target            category\n",
       "0              aspirador1.wav       1           aspirador\n",
       "100             cisterna1.wav       2            cisterna\n",
       "150         conversacion1.wav       3        conversacion\n",
       "250   cubiertos_sartenes1.wav       4  cubiertos_sartenes\n",
       "350          despertador1.wav       5         despertador\n",
       "450                ducha1.wav       6               ducha\n",
       "550            estractor1.wav       7           estractor\n",
       "650          grifo_banio1.wav       8         grifo_banio\n",
       "750         grifo_cocina1.wav       9        grifo_cocina\n",
       "850            impresora1.wav      10           impresora\n",
       "950           microondas1.wav      11          microondas\n",
       "1050            persiana1.wav      12            persiana\n",
       "1150              puerta1.wav      13              puerta\n",
       "1250            telefono1.wav      14            telefono\n",
       "1350              timbre1.wav      15              timbre\n",
       "1450                idle1.wav      16                idle"
      ]
     },
     "execution_count": 4,
     "metadata": {},
     "output_type": "execute_result"
    }
   ],
   "source": [
    "sample_df = df.drop_duplicates(subset=['target'])\n",
    "sample_df"
   ]
  },
  {
   "cell_type": "code",
   "execution_count": 7,
   "metadata": {},
   "outputs": [
    {
     "name": "stderr",
     "output_type": "stream",
     "text": [
      "\r",
      "0it [00:00, ?it/s]"
     ]
    },
    {
     "data": {
      "text/plain": [
       "()"
      ]
     },
     "execution_count": 7,
     "metadata": {},
     "output_type": "execute_result"
    },
    {
     "data": {
      "text/plain": [
       "22050"
      ]
     },
     "execution_count": 7,
     "metadata": {},
     "output_type": "execute_result"
    },
    {
     "name": "stderr",
     "output_type": "stream",
     "text": [
      "\r",
      "1it [00:00,  9.30it/s]"
     ]
    },
    {
     "data": {
      "text/plain": [
       "()"
      ]
     },
     "execution_count": 7,
     "metadata": {},
     "output_type": "execute_result"
    },
    {
     "data": {
      "text/plain": [
       "22050"
      ]
     },
     "execution_count": 7,
     "metadata": {},
     "output_type": "execute_result"
    },
    {
     "data": {
      "text/plain": [
       "()"
      ]
     },
     "execution_count": 7,
     "metadata": {},
     "output_type": "execute_result"
    },
    {
     "data": {
      "text/plain": [
       "22050"
      ]
     },
     "execution_count": 7,
     "metadata": {},
     "output_type": "execute_result"
    },
    {
     "name": "stderr",
     "output_type": "stream",
     "text": [
      "\r",
      "3it [00:00,  9.44it/s]"
     ]
    },
    {
     "data": {
      "text/plain": [
       "()"
      ]
     },
     "execution_count": 7,
     "metadata": {},
     "output_type": "execute_result"
    },
    {
     "data": {
      "text/plain": [
       "22050"
      ]
     },
     "execution_count": 7,
     "metadata": {},
     "output_type": "execute_result"
    },
    {
     "name": "stderr",
     "output_type": "stream",
     "text": [
      "\r",
      "4it [00:00,  9.37it/s]"
     ]
    },
    {
     "data": {
      "text/plain": [
       "()"
      ]
     },
     "execution_count": 7,
     "metadata": {},
     "output_type": "execute_result"
    },
    {
     "data": {
      "text/plain": [
       "22050"
      ]
     },
     "execution_count": 7,
     "metadata": {},
     "output_type": "execute_result"
    },
    {
     "name": "stderr",
     "output_type": "stream",
     "text": [
      "\r",
      "5it [00:00,  9.16it/s]"
     ]
    },
    {
     "data": {
      "text/plain": [
       "()"
      ]
     },
     "execution_count": 7,
     "metadata": {},
     "output_type": "execute_result"
    },
    {
     "data": {
      "text/plain": [
       "22050"
      ]
     },
     "execution_count": 7,
     "metadata": {},
     "output_type": "execute_result"
    },
    {
     "name": "stderr",
     "output_type": "stream",
     "text": [
      "\r",
      "6it [00:00,  9.38it/s]"
     ]
    },
    {
     "data": {
      "text/plain": [
       "()"
      ]
     },
     "execution_count": 7,
     "metadata": {},
     "output_type": "execute_result"
    },
    {
     "data": {
      "text/plain": [
       "22050"
      ]
     },
     "execution_count": 7,
     "metadata": {},
     "output_type": "execute_result"
    },
    {
     "name": "stderr",
     "output_type": "stream",
     "text": [
      "\r",
      "7it [00:00,  9.54it/s]"
     ]
    },
    {
     "data": {
      "text/plain": [
       "()"
      ]
     },
     "execution_count": 7,
     "metadata": {},
     "output_type": "execute_result"
    },
    {
     "data": {
      "text/plain": [
       "22050"
      ]
     },
     "execution_count": 7,
     "metadata": {},
     "output_type": "execute_result"
    },
    {
     "name": "stderr",
     "output_type": "stream",
     "text": [
      "\r",
      "8it [00:00,  9.35it/s]"
     ]
    },
    {
     "data": {
      "text/plain": [
       "()"
      ]
     },
     "execution_count": 7,
     "metadata": {},
     "output_type": "execute_result"
    },
    {
     "data": {
      "text/plain": [
       "22050"
      ]
     },
     "execution_count": 7,
     "metadata": {},
     "output_type": "execute_result"
    },
    {
     "name": "stderr",
     "output_type": "stream",
     "text": [
      "\r",
      "9it [00:00,  9.31it/s]"
     ]
    },
    {
     "data": {
      "text/plain": [
       "()"
      ]
     },
     "execution_count": 7,
     "metadata": {},
     "output_type": "execute_result"
    },
    {
     "data": {
      "text/plain": [
       "22050"
      ]
     },
     "execution_count": 7,
     "metadata": {},
     "output_type": "execute_result"
    },
    {
     "name": "stderr",
     "output_type": "stream",
     "text": [
      "\r",
      "10it [00:01,  9.25it/s]"
     ]
    },
    {
     "data": {
      "text/plain": [
       "()"
      ]
     },
     "execution_count": 7,
     "metadata": {},
     "output_type": "execute_result"
    },
    {
     "data": {
      "text/plain": [
       "22050"
      ]
     },
     "execution_count": 7,
     "metadata": {},
     "output_type": "execute_result"
    },
    {
     "name": "stderr",
     "output_type": "stream",
     "text": [
      "\r",
      "11it [00:01,  9.11it/s]"
     ]
    },
    {
     "data": {
      "text/plain": [
       "()"
      ]
     },
     "execution_count": 7,
     "metadata": {},
     "output_type": "execute_result"
    },
    {
     "data": {
      "text/plain": [
       "22050"
      ]
     },
     "execution_count": 7,
     "metadata": {},
     "output_type": "execute_result"
    },
    {
     "data": {
      "text/plain": [
       "()"
      ]
     },
     "execution_count": 7,
     "metadata": {},
     "output_type": "execute_result"
    },
    {
     "data": {
      "text/plain": [
       "22050"
      ]
     },
     "execution_count": 7,
     "metadata": {},
     "output_type": "execute_result"
    },
    {
     "name": "stderr",
     "output_type": "stream",
     "text": [
      "\r",
      "13it [00:01,  9.26it/s]"
     ]
    },
    {
     "data": {
      "text/plain": [
       "()"
      ]
     },
     "execution_count": 7,
     "metadata": {},
     "output_type": "execute_result"
    },
    {
     "data": {
      "text/plain": [
       "22050"
      ]
     },
     "execution_count": 7,
     "metadata": {},
     "output_type": "execute_result"
    },
    {
     "name": "stderr",
     "output_type": "stream",
     "text": [
      "\r",
      "14it [00:01,  9.37it/s]"
     ]
    },
    {
     "data": {
      "text/plain": [
       "()"
      ]
     },
     "execution_count": 7,
     "metadata": {},
     "output_type": "execute_result"
    },
    {
     "data": {
      "text/plain": [
       "22050"
      ]
     },
     "execution_count": 7,
     "metadata": {},
     "output_type": "execute_result"
    },
    {
     "name": "stderr",
     "output_type": "stream",
     "text": [
      "\r",
      "15it [00:01,  9.45it/s]"
     ]
    },
    {
     "data": {
      "text/plain": [
       "()"
      ]
     },
     "execution_count": 7,
     "metadata": {},
     "output_type": "execute_result"
    },
    {
     "data": {
      "text/plain": [
       "22050"
      ]
     },
     "execution_count": 7,
     "metadata": {},
     "output_type": "execute_result"
    },
    {
     "name": "stderr",
     "output_type": "stream",
     "text": [
      "16it [00:01,  9.26it/s]\n"
     ]
    },
    {
     "data": {
      "image/png": "[encoded data removed]",
      "text/plain": [
       "<Figure size 2880x1440 with 16 Axes>"
      ]
     },
     "metadata": {
      "needs_background": "light"
     },
     "output_type": "display_data"
    }
   ],
   "source": [
    "signals = {}\n",
    "mel_spectrograms = {}\n",
    "mfccs = {}\n",
    "\n",
    "for row in tqdm(sample_df.iterrows()):  # every row will be like [[index], [filename , target , category]]\n",
    "    signal , rate = librosa.load(DATA_PATH+ row[1][0])\n",
    "    get_shape(signal)\n",
    "    signals[row[1][2]] = signal    # row[1][2] will be the category of that signal. eg. signal[\"dog\"] = signal of dog sound\n",
    "    #rate\n",
    "    \n",
    "    mel_spec = librosa.feature.melspectrogram(y=signal , sr=rate ,  n_fft=2048, hop_length=512)\n",
    "    mel_spec = librosa.power_to_db(mel_spec, ref=np.max)  #visualizing mel_spectrogram directly gives black image. So, coverting from power_to_db is required\n",
    "    mel_spectrograms[row[1][2]] = mel_spec\n",
    "    \n",
    "    mfcc = librosa.feature.mfcc(signal , rate , n_mfcc=13, dct_type=3)\n",
    "    mfccs[row[1][2]] = mfcc\n",
    "    \n",
    "def dis_feature(mfccs, cmap=None):\n",
    "    \"\"\"\n",
    "    this function will take the mfcc/mel_spectrogram dictionary and plot the signals\n",
    "    \"\"\"\n",
    "    fig ,axes= plt.subplots(nrows=4 , ncols=4 , sharex=False, sharey=True , figsize=(40,20))\n",
    "    fig.suptitle('mel')\n",
    "    i=0\n",
    "    for x in range(4):\n",
    "        for y in range(4):\n",
    "            axes[x,y].set_title(list(mfccs.keys())[i])\n",
    "            axes[x,y].imshow(list(mfccs.values())[i], cmap=cmap,interpolation='nearest')\n",
    "            axes[x,y].get_xaxis().set_visible(False)\n",
    "            axes[x,y].get_yaxis().set_visible(False)\n",
    "            i+=1\n",
    "            \n",
    "def plot_signal(signal):\n",
    "    \"\"\"\n",
    "    this function will take the signal dictionary and plot the signals\n",
    "    \"\"\"\n",
    "    fig , axes = plt.subplots(nrows=4 , ncols=4 , sharex =False ,sharey=True,\n",
    "                             figsize=(40,20))\n",
    "    fig.suptitle('Time series',size=16)\n",
    "    i=0\n",
    "    for x in range(4):\n",
    "        for y in range(4):\n",
    "            axes[x,y].set_title(list(signal.keys())[i])\n",
    "            axes[x,y].plot(list(signal.values())[i])\n",
    "            axes[x,y].get_xaxis().set_visible(False)\n",
    "            axes[x,y].get_yaxis().set_visible(False)\n",
    "            i +=1\n",
    "\n",
    "plot_signal(signals)\n",
    "#dis_feature(mel_spectrograms)\n",
    "#dis_feature(mfccs, cmap='hot')"
   ]
  },
  {
   "cell_type": "code",
   "execution_count": null,
   "metadata": {},
   "outputs": [],
   "source": [
    "X , y = [] , []\n",
    "for data in tqdm(df.iterrows()):\n",
    "  data  \n",
    "  sig , sr = librosa.load(DATA_PATH+data[1][0])\n",
    "  sr\n",
    "  mfcc_ = librosa.feature.mfcc(sig , sr=sr, n_mfcc=13)\n",
    "  X.append(mfcc_)\n",
    "  y.append(data[1][1])\n",
    "\n",
    "# convert list to numpy array\n",
    "X = np.array(X) \n",
    "y = np.array(y)\n",
    "\n",
    "#one-hot encoding the target\n",
    "y = tf.keras.utils.to_categorical(y-1 , num_classes=16)\n",
    "\n",
    "# our tensorflow model takes input as (no_of_sample , height , width , channel).\n",
    "# here X has dimension (no_of_sample , height , width).\n",
    "# So, the below code will reshape it to (no_of_sample , height , width , 1).\n",
    "X = X.reshape(X.shape[0], X.shape[1], X.shape[2], 1)\n",
    "X.shape\n",
    "y.shape\n"
   ]
  },
  {
   "cell_type": "code",
   "execution_count": null,
   "metadata": {},
   "outputs": [],
   "source": [
    "x_train , x_val , y_train , y_val = train_test_split(X , y ,test_size=0.2, random_state=2020)\n",
    "\n",
    "INPUTSHAPE = (13,130,1)\n",
    "NUM_CLASSES=16\n",
    "\n",
    "model =  models.Sequential([\n",
    "                          layers.Conv2D(16 , (3,3),activation = 'relu',padding='valid', input_shape = INPUTSHAPE),\n",
    "                          layers.Conv2D(16, (3,3), activation='relu',padding='valid'),\n",
    "\n",
    "                          layers.Conv2D(32, (3,3), activation='relu',padding='valid'),\n",
    "                          layers.Conv2D(64, (3,3), activation='relu',padding='valid'),\n",
    "\n",
    "                          layers.Conv2D(128, (3,3), activation='relu',padding='valid'),\n",
    "                          layers.Conv2D(256, (3,3), activation='relu',padding='valid'),\n",
    "\n",
    "                          layers.GlobalAveragePooling2D(),\n",
    "\n",
    "\n",
    "                          layers.Dense(1024 , activation = 'relu'),\n",
    "                          layers.Dense(1024 , activation = 'relu'),\n",
    "    \n",
    "                          layers.Dense(NUM_CLASSES , activation = 'softmax')\n",
    "])\n",
    "\n",
    "model.compile(loss = 'categorical_crossentropy', optimizer = 'adam', metrics = 'acc')\n",
    "\n",
    "model.summary()"
   ]
  },
  {
   "cell_type": "code",
   "execution_count": null,
   "metadata": {},
   "outputs": [],
   "source": [
    "LOGDIR = \"logs\"\n",
    "CPKT = \"cpkt/\"\n",
    "\n",
    "#this callback is used to prevent overfitting.\n",
    "callback_1 = tf.keras.callbacks.EarlyStopping(\n",
    "    monitor='val_loss', min_delta=0, patience=3, verbose=0, mode='auto',\n",
    "    baseline=None, restore_best_weights=False\n",
    ")\n",
    "\n",
    "#this checkpoint saves the best weights of model at every epoch\n",
    "callback_2 = tf.keras.callbacks.ModelCheckpoint(\n",
    "    CPKT, monitor='val_loss', verbose=0, save_best_only=True,\n",
    "    save_weights_only=True, mode='auto', save_freq='epoch', options=None\n",
    ")\n",
    "\n",
    "#this is for tensorboard\n",
    "tensorboard_callback = tf.keras.callbacks.TensorBoard(log_dir=LOGDIR)\n",
    "\n",
    "\n",
    "history = model.fit(x_train,y_train ,\n",
    "            validation_data=(x_val,y_val),\n",
    "            epochs=40)\n",
    "# Guardar el Modelo\n",
    "model.save(\"my_model_Escena\"+SCENE+\".h5\")"
   ]
  },
  {
   "cell_type": "code",
   "execution_count": null,
   "metadata": {},
   "outputs": [],
   "source": [
    "#Confution Matrix\n",
    "\n",
    "y_pred = np.argmax(model.predict(x_val),axis=1)\n",
    "print('Confusion Matrix')\n",
    "confusionMatrix = confusion_matrix(y_pred, np.argmax(y_val,axis=1))\n",
    "print(confusionMatrix)"
   ]
  },
  {
   "cell_type": "markdown",
   "metadata": {},
   "source": [
    "# Predicción del modelo con los sonidos de la escena grabada"
   ]
  },
  {
   "cell_type": "code",
   "execution_count": null,
   "metadata": {},
   "outputs": [],
   "source": [
    "#------------------------Cargar los 100 audios de la escena------------------------\n",
    "CSV_FILE_PATH = \"./escena\"+SCENE+\"_etiquetada.csv\"  # path of csv file\n",
    "DATA_PATH = \"./Escena\"+SCENE+\"/\" # path to folde\n",
    "\n",
    "df = pd.read_csv(CSV_FILE_PATH)\n",
    "df\n",
    "\n",
    "sample_df = df.drop_duplicates(subset=['target'])\n",
    "sample_df\n",
    "\n",
    "model = models.load_model(\"my_model_Escena\"+SCENE+\".h5\")"
   ]
  },
  {
   "cell_type": "code",
   "execution_count": null,
   "metadata": {},
   "outputs": [],
   "source": [
    "signals = {}\n",
    "mel_spectrograms = {}\n",
    "mfccs = {}\n",
    "\n",
    "for row in tqdm(sample_df.iterrows()):  # every row will be like [[index], [filename , target , category]]\n",
    "    signal , rate = librosa.load(DATA_PATH+ row[1][0])\n",
    "    signals[row[1][2]] = signal    # row[1][2] will be the category of that signal. eg. signal[\"dog\"] = signal of dog sound\n",
    "    rate\n",
    "    \n",
    "    mel_spec = librosa.feature.melspectrogram(y=signal , sr=rate ,  n_fft=2048, hop_length=512)\n",
    "    mel_spec = librosa.power_to_db(mel_spec, ref=np.max)  #visualizing mel_spectrogram directly gives black image. So, coverting from power_to_db is required\n",
    "    mel_spectrograms[row[1][2]] = mel_spec\n",
    "    \n",
    "    mfcc = librosa.feature.mfcc(signal , rate , n_mfcc=13, dct_type=3)\n",
    "    mfccs[row[1][2]] = mfcc\n",
    "    \n",
    "def dis_feature(mfccs, cmap=None):\n",
    "    \"\"\"\n",
    "    this function will take the mfcc/mel_spectrogram dictionary and plot the signals\n",
    "    \"\"\"\n",
    "    fig ,axes= plt.subplots(nrows=2 , ncols=4 , sharex=False, sharey=True , figsize=(40,20))\n",
    "    fig.suptitle('mel')\n",
    "    i=0\n",
    "    for x in range(2):\n",
    "        for y in range(4):\n",
    "            axes[x,y].set_title(list(mfccs.keys())[i])\n",
    "            axes[x,y].imshow(list(mfccs.values())[i], cmap=cmap,interpolation='nearest')\n",
    "            axes[x,y].get_xaxis().set_visible(False)\n",
    "            axes[x,y].get_yaxis().set_visible(False)\n",
    "            i+=1\n",
    "            \n",
    "def plot_signal(signal):\n",
    "    \"\"\"\n",
    "    this function will take the signal dictionary and plot the signals\n",
    "    \"\"\"\n",
    "    fig , axes = plt.subplots(nrows=2 , ncols=4 , sharex =False ,sharey=True,\n",
    "                             figsize=(40,20))\n",
    "    fig.suptitle('Time series',size=8)\n",
    "    i=0\n",
    "    for x in range(2):\n",
    "        for y in range(4):\n",
    "            axes[x,y].set_title(list(signal.keys())[i])\n",
    "            axes[x,y].plot(list(signal.values())[i])\n",
    "            axes[x,y].get_xaxis().set_visible(False)\n",
    "            axes[x,y].get_yaxis().set_visible(False)\n",
    "            i +=1\n",
    "\n",
    "#plot_signal(signals)\n",
    "#dis_feature(mel_spectrograms)\n",
    "#dis_feature(mfccs, cmap='hot')"
   ]
  },
  {
   "cell_type": "code",
   "execution_count": null,
   "metadata": {},
   "outputs": [],
   "source": [
    "X , y = [] , []\n",
    "for data in tqdm(df.iterrows()):\n",
    "  data  \n",
    "  sig , sr = librosa.load(DATA_PATH+data[1][0])\n",
    "  sr\n",
    "  mfcc_ = librosa.feature.mfcc(sig , sr=sr, n_mfcc=13)\n",
    "  X.append(mfcc_)\n",
    "  y.append(data[1][1])\n",
    "\n",
    "# convert list to numpy array\n",
    "X = np.array(X) \n",
    "y = np.array(y)\n",
    "\n",
    "#one-hot encoding the target\n",
    "y = tf.keras.utils.to_categorical(y-1 , num_classes=16)\n",
    "\n",
    "# our tensorflow model takes input as (no_of_sample , height , width , channel).\n",
    "# here X has dimension (no_of_sample , height , width).\n",
    "# So, the below code will reshape it to (no_of_sample , height , width , 1).\n",
    "X = X.reshape(X.shape[0], X.shape[1], X.shape[2], 1)\n",
    "X.shape\n",
    "y.shape"
   ]
  },
  {
   "cell_type": "code",
   "execution_count": null,
   "metadata": {},
   "outputs": [],
   "source": [
    "#------------------------Predecir Escena------------------------\n",
    "# Merge inputs and targets\n",
    "inputs = X #los 100 audios de la escena elegida\n",
    "targets = y #las etiquetas de los 100 audios de X\n",
    "# K-fold Cross Validation model evaluation\n",
    "fold_no = 1\n",
    "acc_per_fold = []\n",
    "loss_per_fold = []\n",
    "confusionMatrix =[]\n",
    "no_epochs = 40 \n",
    "\n",
    "# Generate generalization metrics\n",
    "scores = model.evaluate(inputs, targets, verbose=0)\n",
    "print(f'Score for fold {fold_no}: {model.metrics_names[0]} of {scores[0]}; {model.metrics_names[1]} of {scores[1]*100}%')\n",
    "acc_per_fold.append(scores[1] * 100)\n",
    "loss_per_fold.append(scores[0])\n",
    "#Confution Matrix\n",
    "targets_pred = np.argmax(model.predict(inputs),axis=1)\n",
    "confusionMatrix.append(confusion_matrix(targets_pred, np.argmax(targets,axis=1)))\n",
    "\n",
    "# Increase fold number\n",
    "fold_no = fold_no + 1\n",
    "    \n",
    "# == Provide average scores ==\n",
    "print('------------------------------------------------------------------------')\n",
    "print('Score per fold')\n",
    "for i in range(0, len(acc_per_fold)):\n",
    "    print('------------------------------------------------------------------------')\n",
    "    print(f'> Fold {i+1} - Loss: {loss_per_fold[i]} - Accuracy: {acc_per_fold[i]}%')\n",
    "print('------------------------------------------------------------------------')\n",
    "print('Average scores for all folds:')\n",
    "print(f'> Accuracy: {np.mean(acc_per_fold)} (+- {np.std(acc_per_fold)})')\n",
    "print(f'> Loss: {np.mean(loss_per_fold)}')\n",
    "print('------------------------------------------------------------------------')"
   ]
  },
  {
   "cell_type": "code",
   "execution_count": null,
   "metadata": {},
   "outputs": [],
   "source": [
    "for i in confusionMatrix:\n",
    "    print(i)"
   ]
  },
  {
   "cell_type": "code",
   "execution_count": null,
   "metadata": {},
   "outputs": [],
   "source": [
    "#print('texto',end=\"\")\n",
    "#print(' mas texto')\n",
    "\n",
    "#z = [[0 for _ in range(16)] for _ in range(16)]\n",
    "#for i in z:\n",
    "    #print('impresora ',end=\"\")\n",
    "    #print(i)"
   ]
  },
  {
   "cell_type": "markdown",
   "metadata": {},
   "source": [
    "# Cargo el modelo y vuelvo a predecir la escena y genero mi timeSheet"
   ]
  },
  {
   "cell_type": "code",
   "execution_count": null,
   "metadata": {
    "scrolled": false
   },
   "outputs": [],
   "source": [
    "new_model = models.load_model(\"my_model_Escena\"+SCENE+\".h5\")\n",
    "matriz_de_confusion = [[0 for _ in range(16)] for _ in range(16)]\n",
    "def getLabel(i):\n",
    "    if i==0:\n",
    "        return \"aspirador\"\n",
    "    if i==1:\n",
    "        return \"cisterna\"\n",
    "    if i==2:\n",
    "        return \"conversacion\"\n",
    "    if i==3:\n",
    "        return \"cubiertos_sartenes\"\n",
    "    if i==4:\n",
    "        return \"despertador\"\n",
    "    if i==5:\n",
    "        return \"ducha\"\n",
    "    if i==6:\n",
    "        return \"estractor\"\n",
    "    if i==7:\n",
    "        return \"grifo_banio\"\n",
    "    if i==8:\n",
    "        return \"grifo_cocina\"\n",
    "    if i==9:\n",
    "        return \"impresora\"\n",
    "    if i==10:\n",
    "        return \"microondas\"\n",
    "    if i==11:\n",
    "        return \"persiana\"\n",
    "    if i==12:\n",
    "        return \"puerta\"\n",
    "    if i==13:\n",
    "        return \"telefono\"\n",
    "    if i==14:\n",
    "        return \"timbre\"\n",
    "    return \"idle\"\n",
    "\n",
    "indice = 0\n",
    "aciertos = 0\n",
    "print(\"Generando csv timeSheet\")\n",
    "ytest_metrics=[]\n",
    "ypred_metrics=[]\n",
    "ficheroCSV =\"sonido, prediccion\"\n",
    "for sonido in df[\"name\"]:\n",
    "    sig_temp , sr = librosa.load(\"Escena\"+SCENE+\"/\"+sonido)\n",
    "    mfcc_temp = librosa.feature.mfcc(sig_temp , sr=sr, n_mfcc=13)\n",
    "    X_temp=[]\n",
    "    X_temp.append(mfcc_temp)\n",
    "    X_temp = np.array(X_temp) \n",
    "    X_temp = X_temp.reshape(X_temp.shape[0], X_temp.shape[1], X_temp.shape[2], 1)\n",
    "    Y_temp=new_model.predict(X_temp)\n",
    "    #print(\"sonido: \"+ sonido+ \" --------------->\", getLabel(np.argmax(Y_temp)))\n",
    "    ficheroCSV+='\\n\"'+df[\"category\"][indice]+'\",\"'+ getLabel(np.argmax(Y_temp))+'\"'\n",
    "    #Matriz de confusion:\n",
    "    matriz_de_confusion[np.argmax(Y_temp)][(df[\"target\"][indice])-1] = matriz_de_confusion[np.argmax(Y_temp)][(df[\"target\"][indice])-1]+1\n",
    "    ypred_metrics.append(np.argmax(Y_temp))\n",
    "    ytest_metrics.append((df[\"target\"][indice])-1)\n",
    "    if(getLabel(np.argmax(Y_temp)) == df[\"category\"][indice]):\n",
    "        aciertos = aciertos+1\n",
    "    indice = indice+1\n",
    "    \n",
    "print(\"aciertos: \",aciertos)\n",
    "\n",
    "ficheroMatrizConfusion =\"aspirador,cisterna,conversacion,cubiertos_sartenes,despertador,ducha,estractor,grifo_banio,grifo_cocina,impresora,microondas,persiana,puerta,telefono,timbre,idle\\n\"\n",
    "for i in range(len(matriz_de_confusion)):\n",
    "    for j in range(len(matriz_de_confusion[i])):\n",
    "        ficheroMatrizConfusion+=str(matriz_de_confusion[i][j])+ \",\"\n",
    "    ficheroMatrizConfusion+='\\n'\n",
    "with open(\"matriz_confusion_my_model_escena\"+SCENE+\"_BUENA.csv\", 'w') as f:\n",
    "    #f.write(ficheroCSV)\n",
    "    f.write(ficheroMatrizConfusion)\n",
    "with open(\"timesheet_escena\"+SCENE+\"_BUENA.csv\", 'w') as f:\n",
    "    f.write(ficheroCSV)\n",
    "    #f.write(ficheroMatrizConfusion)\n",
    "\n",
    "print(\"fichero CSV generado exitosamente.\")"
   ]
  },
  {
   "cell_type": "code",
   "execution_count": null,
   "metadata": {},
   "outputs": [],
   "source": [
    "print(ytest_metrics)"
   ]
  },
  {
   "cell_type": "code",
   "execution_count": null,
   "metadata": {
    "scrolled": true
   },
   "outputs": [],
   "source": [
    "from numpy import array\n",
    "from numpy import argmax\n",
    "from keras.utils import to_categorical\n",
    "data = array(ytest_metrics)\n",
    "print(data)\n",
    "# one hot encode\n",
    "encoded = to_categorical(data)\n",
    "print(encoded)\n",
    "# invert encoding\n",
    "inverted = argmax(encoded[0])\n",
    "print(inverted)\n",
    "# convert array into dataframe\n",
    "DF = pd.DataFrame(encoded)\n",
    "# save the dataframe as a csv file\n",
    "DF.to_csv(\"onehotencodeTEST_escena_\"+SCENE+\"_BUENA.csv\")\n",
    "\n",
    "data = array(ypred_metrics)\n",
    "print(data)\n",
    "# one hot encode\n",
    "encoded = to_categorical(data)\n",
    "print(encoded)\n",
    "# invert encoding\n",
    "inverted = argmax(encoded[0])\n",
    "print(inverted)\n",
    "# convert array into dataframe\n",
    "DF = pd.DataFrame(encoded)\n",
    "# save the dataframe as a csv file\n",
    "DF.to_csv(\"onehotencodePRED_escena_\"+SCENE+\"_BUENA.csv\")"
   ]
  },
  {
   "cell_type": "code",
   "execution_count": null,
   "metadata": {},
   "outputs": [],
   "source": [
    "from sklearn.metrics import classification_report\n",
    "classification = classification_report(ytest_metrics, ypred_metrics,output_dict=False)\n",
    "print(classification)\n",
    "\n",
    "classification = classification_report(ytest_metrics, ypred_metrics,output_dict=True)\n",
    "dataframe = pd.DataFrame(classification).transpose()\n",
    "dataframe.to_csv(\"metrics_escena_\"+SCENE+\"_BUENA.csv\", index = False)"
   ]
  },
  {
   "cell_type": "code",
   "execution_count": null,
   "metadata": {},
   "outputs": [],
   "source": []
  }
 ],
 "metadata": {
  "kernelspec": {
   "display_name": "Python 3",
   "language": "python",
   "name": "python3"
  },
  "language_info": {
   "codemirror_mode": {
    "name": "ipython",
    "version": 3
   },
   "file_extension": ".py",
   "mimetype": "text/x-python",
   "name": "python",
   "nbconvert_exporter": "python",
   "pygments_lexer": "ipython3",
   "version": "3.8.5"
  }
 },
 "nbformat": 4,
 "nbformat_minor": 5
}
