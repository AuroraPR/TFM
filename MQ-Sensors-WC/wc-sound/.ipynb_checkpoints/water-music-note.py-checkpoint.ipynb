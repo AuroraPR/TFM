{
 "cells": [
  {
   "cell_type": "code",
   "execution_count": 18,
   "metadata": {},
   "outputs": [],
   "source": [
    "import pandas as pd\n",
    "import matplotlib.pyplot as plt\n",
    "import librosa\n",
    "import librosa.display\n",
    "from tqdm import tqdm\n",
    "import numpy as np\n",
    "from sklearn.model_selection import train_test_split\n",
    "import tensorflow as tf\n",
    "import tensorflow.keras.models as models\n",
    "import tensorflow.keras.layers as layers\n",
    "\n",
    "from IPython.core.interactiveshell import InteractiveShell\n",
    "InteractiveShell.ast_node_interactivity = \"all\"\n",
    "\n",
    "CSV_FILE_PATH = \"./wc_audio/audio_wc.csv\"  # path of csv file\n",
    "DATA_PATH = \"./wc_audio/sounds/\" # path to folde\n"
   ]
  },
  {
   "cell_type": "code",
   "execution_count": 19,
   "metadata": {},
   "outputs": [
    {
     "data": {
      "text/html": [
       "<div>\n",
       "<style scoped>\n",
       "    .dataframe tbody tr th:only-of-type {\n",
       "        vertical-align: middle;\n",
       "    }\n",
       "\n",
       "    .dataframe tbody tr th {\n",
       "        vertical-align: top;\n",
       "    }\n",
       "\n",
       "    .dataframe thead th {\n",
       "        text-align: right;\n",
       "    }\n",
       "</style>\n",
       "<table border=\"1\" class=\"dataframe\">\n",
       "  <thead>\n",
       "    <tr style=\"text-align: right;\">\n",
       "      <th></th>\n",
       "      <th>name</th>\n",
       "      <th>target</th>\n",
       "      <th>category</th>\n",
       "    </tr>\n",
       "  </thead>\n",
       "  <tbody>\n",
       "    <tr>\n",
       "      <th>0</th>\n",
       "      <td>bash-0.wav</td>\n",
       "      <td>3</td>\n",
       "      <td>bash</td>\n",
       "    </tr>\n",
       "    <tr>\n",
       "      <th>1</th>\n",
       "      <td>bash-1.wav</td>\n",
       "      <td>3</td>\n",
       "      <td>bash</td>\n",
       "    </tr>\n",
       "    <tr>\n",
       "      <th>2</th>\n",
       "      <td>bash-10.wav</td>\n",
       "      <td>3</td>\n",
       "      <td>bash</td>\n",
       "    </tr>\n",
       "    <tr>\n",
       "      <th>3</th>\n",
       "      <td>bash-11.wav</td>\n",
       "      <td>3</td>\n",
       "      <td>bash</td>\n",
       "    </tr>\n",
       "    <tr>\n",
       "      <th>4</th>\n",
       "      <td>bash-12.wav</td>\n",
       "      <td>3</td>\n",
       "      <td>bash</td>\n",
       "    </tr>\n",
       "    <tr>\n",
       "      <th>...</th>\n",
       "      <td>...</td>\n",
       "      <td>...</td>\n",
       "      <td>...</td>\n",
       "    </tr>\n",
       "    <tr>\n",
       "      <th>115</th>\n",
       "      <td>wc-3D.wav</td>\n",
       "      <td>1</td>\n",
       "      <td>wc</td>\n",
       "    </tr>\n",
       "    <tr>\n",
       "      <th>116</th>\n",
       "      <td>wc-4A.wav</td>\n",
       "      <td>1</td>\n",
       "      <td>wc</td>\n",
       "    </tr>\n",
       "    <tr>\n",
       "      <th>117</th>\n",
       "      <td>wc-4B.wav</td>\n",
       "      <td>1</td>\n",
       "      <td>wc</td>\n",
       "    </tr>\n",
       "    <tr>\n",
       "      <th>118</th>\n",
       "      <td>wc-4C.wav</td>\n",
       "      <td>1</td>\n",
       "      <td>wc</td>\n",
       "    </tr>\n",
       "    <tr>\n",
       "      <th>119</th>\n",
       "      <td>wc-4D.wav</td>\n",
       "      <td>1</td>\n",
       "      <td>wc</td>\n",
       "    </tr>\n",
       "  </tbody>\n",
       "</table>\n",
       "<p>120 rows × 3 columns</p>\n",
       "</div>"
      ],
      "text/plain": [
       "            name  target category\n",
       "0     bash-0.wav       3     bash\n",
       "1     bash-1.wav       3     bash\n",
       "2    bash-10.wav       3     bash\n",
       "3    bash-11.wav       3     bash\n",
       "4    bash-12.wav       3     bash\n",
       "..           ...     ...      ...\n",
       "115    wc-3D.wav       1       wc\n",
       "116    wc-4A.wav       1       wc\n",
       "117    wc-4B.wav       1       wc\n",
       "118    wc-4C.wav       1       wc\n",
       "119    wc-4D.wav       1       wc\n",
       "\n",
       "[120 rows x 3 columns]"
      ]
     },
     "execution_count": 19,
     "metadata": {},
     "output_type": "execute_result"
    }
   ],
   "source": [
    "df = pd.read_csv(CSV_FILE_PATH)\n",
    "df\n"
   ]
  },
  {
   "cell_type": "code",
   "execution_count": 21,
   "metadata": {},
   "outputs": [
    {
     "data": {
      "text/html": [
       "<div>\n",
       "<style scoped>\n",
       "    .dataframe tbody tr th:only-of-type {\n",
       "        vertical-align: middle;\n",
       "    }\n",
       "\n",
       "    .dataframe tbody tr th {\n",
       "        vertical-align: top;\n",
       "    }\n",
       "\n",
       "    .dataframe thead th {\n",
       "        text-align: right;\n",
       "    }\n",
       "</style>\n",
       "<table border=\"1\" class=\"dataframe\">\n",
       "  <thead>\n",
       "    <tr style=\"text-align: right;\">\n",
       "      <th></th>\n",
       "      <th>name</th>\n",
       "      <th>target</th>\n",
       "      <th>category</th>\n",
       "    </tr>\n",
       "  </thead>\n",
       "  <tbody>\n",
       "    <tr>\n",
       "      <th>0</th>\n",
       "      <td>bash-0.wav</td>\n",
       "      <td>3</td>\n",
       "      <td>bash</td>\n",
       "    </tr>\n",
       "    <tr>\n",
       "      <th>20</th>\n",
       "      <td>dryer-0.wav</td>\n",
       "      <td>4</td>\n",
       "      <td>dryer</td>\n",
       "    </tr>\n",
       "    <tr>\n",
       "      <th>40</th>\n",
       "      <td>other-0.wav</td>\n",
       "      <td>5</td>\n",
       "      <td>other</td>\n",
       "    </tr>\n",
       "    <tr>\n",
       "      <th>60</th>\n",
       "      <td>silence-0.wav</td>\n",
       "      <td>0</td>\n",
       "      <td>silence</td>\n",
       "    </tr>\n",
       "    <tr>\n",
       "      <th>80</th>\n",
       "      <td>tap-0.wav</td>\n",
       "      <td>2</td>\n",
       "      <td>tap</td>\n",
       "    </tr>\n",
       "    <tr>\n",
       "      <th>100</th>\n",
       "      <td>wc-0A.wav</td>\n",
       "      <td>1</td>\n",
       "      <td>wc</td>\n",
       "    </tr>\n",
       "  </tbody>\n",
       "</table>\n",
       "</div>"
      ],
      "text/plain": [
       "              name  target category\n",
       "0       bash-0.wav       3     bash\n",
       "20     dryer-0.wav       4    dryer\n",
       "40     other-0.wav       5    other\n",
       "60   silence-0.wav       0  silence\n",
       "80       tap-0.wav       2      tap\n",
       "100      wc-0A.wav       1       wc"
      ]
     },
     "execution_count": 21,
     "metadata": {},
     "output_type": "execute_result"
    }
   ],
   "source": [
    "sample_df = df.drop_duplicates(subset=['target'])\n",
    "sample_df"
   ]
  },
  {
   "cell_type": "code",
   "execution_count": 22,
   "metadata": {},
   "outputs": [
    {
     "name": "stderr",
     "output_type": "stream",
     "text": [
      "\r",
      "0it [00:00, ?it/s]"
     ]
    },
    {
     "data": {
      "text/plain": [
       "22050"
      ]
     },
     "execution_count": 22,
     "metadata": {},
     "output_type": "execute_result"
    },
    {
     "name": "stderr",
     "output_type": "stream",
     "text": [
      "\r",
      "1it [00:00,  7.21it/s]"
     ]
    },
    {
     "data": {
      "text/plain": [
       "22050"
      ]
     },
     "execution_count": 22,
     "metadata": {},
     "output_type": "execute_result"
    },
    {
     "name": "stderr",
     "output_type": "stream",
     "text": [
      "\r",
      "2it [00:00,  7.23it/s]"
     ]
    },
    {
     "data": {
      "text/plain": [
       "22050"
      ]
     },
     "execution_count": 22,
     "metadata": {},
     "output_type": "execute_result"
    },
    {
     "name": "stderr",
     "output_type": "stream",
     "text": [
      "\r",
      "3it [00:00,  7.04it/s]"
     ]
    },
    {
     "data": {
      "text/plain": [
       "22050"
      ]
     },
     "execution_count": 22,
     "metadata": {},
     "output_type": "execute_result"
    },
    {
     "name": "stderr",
     "output_type": "stream",
     "text": [
      "\r",
      "4it [00:00,  7.46it/s]"
     ]
    },
    {
     "data": {
      "text/plain": [
       "22050"
      ]
     },
     "execution_count": 22,
     "metadata": {},
     "output_type": "execute_result"
    },
    {
     "name": "stderr",
     "output_type": "stream",
     "text": [
      "\r",
      "5it [00:00,  7.43it/s]"
     ]
    },
    {
     "data": {
      "text/plain": [
       "22050"
      ]
     },
     "execution_count": 22,
     "metadata": {},
     "output_type": "execute_result"
    },
    {
     "name": "stderr",
     "output_type": "stream",
     "text": [
      "6it [00:00,  7.39it/s]\n"
     ]
    },
    {
     "data": {
      "image/png": "[encoded data removed]",
      "text/plain": [
       "<Figure size 2880x1440 with 10 Axes>"
      ]
     },
     "metadata": {
      "needs_background": "light"
     },
     "output_type": "display_data"
    },
    {
     "data": {
      "image/png": "[encoded data removed]",
      "text/plain": [
       "<Figure size 2880x1440 with 10 Axes>"
      ]
     },
     "metadata": {
      "needs_background": "light"
     },
     "output_type": "display_data"
    },
    {
     "data": {
      "image/png": "[encoded data removed]",
      "text/plain": [
       "<Figure size 2880x1440 with 10 Axes>"
      ]
     },
     "metadata": {
      "needs_background": "light"
     },
     "output_type": "display_data"
    }
   ],
   "source": [
    "signals = {}\n",
    "mel_spectrograms = {}\n",
    "mfccs = {}\n",
    "\n",
    "for row in tqdm(sample_df.iterrows()):  # every row will be like [[index], [filename , target , category]]\n",
    "    signal , rate = librosa.load(DATA_PATH+ row[1][0])\n",
    "    signals[row[1][2]] = signal    # row[1][2] will be the category of that signal. eg. signal[\"dog\"] = signal of dog sound\n",
    "    rate\n",
    "    \n",
    "    mel_spec = librosa.feature.melspectrogram(y=signal , sr=rate ,  n_fft=2048, hop_length=512)\n",
    "    mel_spec = librosa.power_to_db(mel_spec, ref=np.max)  #visualizing mel_spectrogram directly gives black image. So, coverting from power_to_db is required\n",
    "    mel_spectrograms[row[1][2]] = mel_spec\n",
    "    \n",
    "    mfcc = librosa.feature.mfcc(signal , rate , n_mfcc=13, dct_type=3)\n",
    "    mfccs[row[1][2]] = mfcc\n",
    "    \n",
    "def dis_feature(mfccs, cmap=None):\n",
    "    \"\"\"\n",
    "    this function will take the mfcc/mel_spectrogram dictionary and plot the signals\n",
    "    \"\"\"\n",
    "    fig ,axes= plt.subplots(nrows=5 , ncols=2 , sharex=False, sharey=True , figsize=(40,20))\n",
    "    fig.suptitle('mel')\n",
    "    i=0\n",
    "    for x in range(3):\n",
    "        for y in range(2):\n",
    "            axes[x,y].set_title(list(mfccs.keys())[i])\n",
    "            axes[x,y].imshow(list(mfccs.values())[i], cmap=cmap,interpolation='nearest')\n",
    "            axes[x,y].get_xaxis().set_visible(False)\n",
    "            axes[x,y].get_yaxis().set_visible(False)\n",
    "            i+=1\n",
    "            \n",
    "def plot_signal(signal):\n",
    "    \"\"\"\n",
    "    this function will take the signal dictionary and plot the signals\n",
    "    \"\"\"\n",
    "    fig , axes = plt.subplots(nrows=5 , ncols=2 , sharex =False ,sharey=True,\n",
    "                             figsize=(40,20))\n",
    "    fig.suptitle('Time series',size=15)\n",
    "    i=0\n",
    "    for x in range(3):\n",
    "        for y in range(2):\n",
    "            axes[x,y].set_title(list(signal.keys())[i])\n",
    "            axes[x,y].plot(list(signal.values())[i])\n",
    "            axes[x,y].get_xaxis().set_visible(False)\n",
    "            axes[x,y].get_yaxis().set_visible(False)\n",
    "            i +=1\n",
    "\n",
    "plot_signal(signals)\n",
    "dis_feature(mel_spectrograms)\n",
    "dis_feature(mfccs, cmap='hot')"
   ]
  },
  {
   "cell_type": "code",
   "execution_count": 23,
   "metadata": {},
   "outputs": [
    {
     "name": "stderr",
     "output_type": "stream",
     "text": [
      "\r",
      "0it [00:00, ?it/s]"
     ]
    },
    {
     "data": {
      "text/plain": [
       "(0,\n",
       " name        bash-0.wav\n",
       " target               3\n",
       " category          bash\n",
       " Name: 0, dtype: object)"
      ]
     },
     "execution_count": 23,
     "metadata": {},
     "output_type": "execute_result"
    },
    {
     "data": {
      "text/plain": [
       "22050"
      ]
     },
     "execution_count": 23,
     "metadata": {},
     "output_type": "execute_result"
    },
    {
     "name": "stderr",
     "output_type": "stream",
     "text": [
      "\r",
      "1it [00:00,  7.48it/s]"
     ]
    },
    {
     "data": {
      "text/plain": [
       "(1,\n",
       " name        bash-1.wav\n",
       " target               3\n",
       " category          bash\n",
       " Name: 1, dtype: object)"
      ]
     },
     "execution_count": 23,
     "metadata": {},
     "output_type": "execute_result"
    },
    {
     "data": {
      "text/plain": [
       "22050"
      ]
     },
     "execution_count": 23,
     "metadata": {},
     "output_type": "execute_result"
    },
    {
     "name": "stderr",
     "output_type": "stream",
     "text": [
      "\r",
      "2it [00:00,  7.67it/s]"
     ]
    },
    {
     "data": {
      "text/plain": [
       "(2,\n",
       " name        bash-10.wav\n",
       " target                3\n",
       " category           bash\n",
       " Name: 2, dtype: object)"
      ]
     },
     "execution_count": 23,
     "metadata": {},
     "output_type": "execute_result"
    },
    {
     "data": {
      "text/plain": [
       "22050"
      ]
     },
     "execution_count": 23,
     "metadata": {},
     "output_type": "execute_result"
    },
    {
     "name": "stderr",
     "output_type": "stream",
     "text": [
      "\r",
      "3it [00:00,  7.61it/s]"
     ]
    },
    {
     "data": {
      "text/plain": [
       "(3,\n",
       " name        bash-11.wav\n",
       " target                3\n",
       " category           bash\n",
       " Name: 3, dtype: object)"
      ]
     },
     "execution_count": 23,
     "metadata": {},
     "output_type": "execute_result"
    },
    {
     "data": {
      "text/plain": [
       "22050"
      ]
     },
     "execution_count": 23,
     "metadata": {},
     "output_type": "execute_result"
    },
    {
     "name": "stderr",
     "output_type": "stream",
     "text": [
      "\r",
      "4it [00:00,  7.52it/s]"
     ]
    },
    {
     "data": {
      "text/plain": [
       "(4,\n",
       " name        bash-12.wav\n",
       " target                3\n",
       " category           bash\n",
       " Name: 4, dtype: object)"
      ]
     },
     "execution_count": 23,
     "metadata": {},
     "output_type": "execute_result"
    },
    {
     "data": {
      "text/plain": [
       "22050"
      ]
     },
     "execution_count": 23,
     "metadata": {},
     "output_type": "execute_result"
    },
    {
     "name": "stderr",
     "output_type": "stream",
     "text": [
      "\r",
      "5it [00:00,  7.60it/s]"
     ]
    },
    {
     "data": {
      "text/plain": [
       "(5,\n",
       " name        bash-13.wav\n",
       " target                3\n",
       " category           bash\n",
       " Name: 5, dtype: object)"
      ]
     },
     "execution_count": 23,
     "metadata": {},
     "output_type": "execute_result"
    },
    {
     "data": {
      "text/plain": [
       "22050"
      ]
     },
     "execution_count": 23,
     "metadata": {},
     "output_type": "execute_result"
    },
    {
     "name": "stderr",
     "output_type": "stream",
     "text": [
      "\r",
      "6it [00:00,  7.83it/s]"
     ]
    },
    {
     "data": {
      "text/plain": [
       "(6,\n",
       " name        bash-14.wav\n",
       " target                3\n",
       " category           bash\n",
       " Name: 6, dtype: object)"
      ]
     },
     "execution_count": 23,
     "metadata": {},
     "output_type": "execute_result"
    },
    {
     "data": {
      "text/plain": [
       "22050"
      ]
     },
     "execution_count": 23,
     "metadata": {},
     "output_type": "execute_result"
    },
    {
     "name": "stderr",
     "output_type": "stream",
     "text": [
      "\r",
      "7it [00:00,  7.98it/s]"
     ]
    },
    {
     "data": {
      "text/plain": [
       "(7,\n",
       " name        bash-15.wav\n",
       " target                3\n",
       " category           bash\n",
       " Name: 7, dtype: object)"
      ]
     },
     "execution_count": 23,
     "metadata": {},
     "output_type": "execute_result"
    },
    {
     "data": {
      "text/plain": [
       "22050"
      ]
     },
     "execution_count": 23,
     "metadata": {},
     "output_type": "execute_result"
    },
    {
     "name": "stderr",
     "output_type": "stream",
     "text": [
      "\r",
      "8it [00:01,  8.07it/s]"
     ]
    },
    {
     "data": {
      "text/plain": [
       "(8,\n",
       " name        bash-16.wav\n",
       " target                3\n",
       " category           bash\n",
       " Name: 8, dtype: object)"
      ]
     },
     "execution_count": 23,
     "metadata": {},
     "output_type": "execute_result"
    },
    {
     "data": {
      "text/plain": [
       "22050"
      ]
     },
     "execution_count": 23,
     "metadata": {},
     "output_type": "execute_result"
    },
    {
     "name": "stderr",
     "output_type": "stream",
     "text": [
      "\r",
      "9it [00:01,  8.05it/s]"
     ]
    },
    {
     "data": {
      "text/plain": [
       "(9,\n",
       " name        bash-17.wav\n",
       " target                3\n",
       " category           bash\n",
       " Name: 9, dtype: object)"
      ]
     },
     "execution_count": 23,
     "metadata": {},
     "output_type": "execute_result"
    },
    {
     "data": {
      "text/plain": [
       "22050"
      ]
     },
     "execution_count": 23,
     "metadata": {},
     "output_type": "execute_result"
    },
    {
     "name": "stderr",
     "output_type": "stream",
     "text": [
      "\r",
      "10it [00:01,  8.12it/s]"
     ]
    },
    {
     "data": {
      "text/plain": [
       "(10,\n",
       " name        bash-18.wav\n",
       " target                3\n",
       " category           bash\n",
       " Name: 10, dtype: object)"
      ]
     },
     "execution_count": 23,
     "metadata": {},
     "output_type": "execute_result"
    },
    {
     "data": {
      "text/plain": [
       "22050"
      ]
     },
     "execution_count": 23,
     "metadata": {},
     "output_type": "execute_result"
    },
    {
     "name": "stderr",
     "output_type": "stream",
     "text": [
      "\r",
      "11it [00:01,  7.83it/s]"
     ]
    },
    {
     "data": {
      "text/plain": [
       "(11,\n",
       " name        bash-19.wav\n",
       " target                3\n",
       " category           bash\n",
       " Name: 11, dtype: object)"
      ]
     },
     "execution_count": 23,
     "metadata": {},
     "output_type": "execute_result"
    },
    {
     "data": {
      "text/plain": [
       "22050"
      ]
     },
     "execution_count": 23,
     "metadata": {},
     "output_type": "execute_result"
    },
    {
     "name": "stderr",
     "output_type": "stream",
     "text": [
      "\r",
      "12it [00:01,  7.51it/s]"
     ]
    },
    {
     "data": {
      "text/plain": [
       "(12,\n",
       " name        bash-2.wav\n",
       " target               3\n",
       " category          bash\n",
       " Name: 12, dtype: object)"
      ]
     },
     "execution_count": 23,
     "metadata": {},
     "output_type": "execute_result"
    },
    {
     "data": {
      "text/plain": [
       "22050"
      ]
     },
     "execution_count": 23,
     "metadata": {},
     "output_type": "execute_result"
    },
    {
     "name": "stderr",
     "output_type": "stream",
     "text": [
      "\r",
      "13it [00:01,  7.34it/s]"
     ]
    },
    {
     "data": {
      "text/plain": [
       "(13,\n",
       " name        bash-3.wav\n",
       " target               3\n",
       " category          bash\n",
       " Name: 13, dtype: object)"
      ]
     },
     "execution_count": 23,
     "metadata": {},
     "output_type": "execute_result"
    },
    {
     "data": {
      "text/plain": [
       "22050"
      ]
     },
     "execution_count": 23,
     "metadata": {},
     "output_type": "execute_result"
    },
    {
     "name": "stderr",
     "output_type": "stream",
     "text": [
      "\r",
      "14it [00:01,  6.83it/s]"
     ]
    },
    {
     "data": {
      "text/plain": [
       "(14,\n",
       " name        bash-4.wav\n",
       " target               3\n",
       " category          bash\n",
       " Name: 14, dtype: object)"
      ]
     },
     "execution_count": 23,
     "metadata": {},
     "output_type": "execute_result"
    },
    {
     "data": {
      "text/plain": [
       "22050"
      ]
     },
     "execution_count": 23,
     "metadata": {},
     "output_type": "execute_result"
    },
    {
     "name": "stderr",
     "output_type": "stream",
     "text": [
      "\r",
      "15it [00:01,  7.07it/s]"
     ]
    },
    {
     "data": {
      "text/plain": [
       "(15,\n",
       " name        bash-5.wav\n",
       " target               3\n",
       " category          bash\n",
       " Name: 15, dtype: object)"
      ]
     },
     "execution_count": 23,
     "metadata": {},
     "output_type": "execute_result"
    },
    {
     "data": {
      "text/plain": [
       "22050"
      ]
     },
     "execution_count": 23,
     "metadata": {},
     "output_type": "execute_result"
    },
    {
     "name": "stderr",
     "output_type": "stream",
     "text": [
      "\r",
      "16it [00:02,  7.08it/s]"
     ]
    },
    {
     "data": {
      "text/plain": [
       "(16,\n",
       " name        bash-6.wav\n",
       " target               3\n",
       " category          bash\n",
       " Name: 16, dtype: object)"
      ]
     },
     "execution_count": 23,
     "metadata": {},
     "output_type": "execute_result"
    },
    {
     "data": {
      "text/plain": [
       "22050"
      ]
     },
     "execution_count": 23,
     "metadata": {},
     "output_type": "execute_result"
    },
    {
     "name": "stderr",
     "output_type": "stream",
     "text": [
      "\r",
      "17it [00:02,  7.20it/s]"
     ]
    },
    {
     "data": {
      "text/plain": [
       "(17,\n",
       " name        bash-7.wav\n",
       " target               3\n",
       " category          bash\n",
       " Name: 17, dtype: object)"
      ]
     },
     "execution_count": 23,
     "metadata": {},
     "output_type": "execute_result"
    },
    {
     "data": {
      "text/plain": [
       "22050"
      ]
     },
     "execution_count": 23,
     "metadata": {},
     "output_type": "execute_result"
    },
    {
     "name": "stderr",
     "output_type": "stream",
     "text": [
      "\r",
      "18it [00:02,  7.56it/s]"
     ]
    },
    {
     "data": {
      "text/plain": [
       "(18,\n",
       " name        bash-8.wav\n",
       " target               3\n",
       " category          bash\n",
       " Name: 18, dtype: object)"
      ]
     },
     "execution_count": 23,
     "metadata": {},
     "output_type": "execute_result"
    },
    {
     "data": {
      "text/plain": [
       "22050"
      ]
     },
     "execution_count": 23,
     "metadata": {},
     "output_type": "execute_result"
    },
    {
     "name": "stderr",
     "output_type": "stream",
     "text": [
      "\r",
      "19it [00:02,  7.77it/s]"
     ]
    },
    {
     "data": {
      "text/plain": [
       "(19,\n",
       " name        bash-9.wav\n",
       " target               3\n",
       " category          bash\n",
       " Name: 19, dtype: object)"
      ]
     },
     "execution_count": 23,
     "metadata": {},
     "output_type": "execute_result"
    },
    {
     "data": {
      "text/plain": [
       "22050"
      ]
     },
     "execution_count": 23,
     "metadata": {},
     "output_type": "execute_result"
    },
    {
     "name": "stderr",
     "output_type": "stream",
     "text": [
      "\r",
      "20it [00:02,  7.54it/s]"
     ]
    },
    {
     "data": {
      "text/plain": [
       "(20,\n",
       " name        dryer-0.wav\n",
       " target                4\n",
       " category          dryer\n",
       " Name: 20, dtype: object)"
      ]
     },
     "execution_count": 23,
     "metadata": {},
     "output_type": "execute_result"
    },
    {
     "data": {
      "text/plain": [
       "22050"
      ]
     },
     "execution_count": 23,
     "metadata": {},
     "output_type": "execute_result"
    },
    {
     "name": "stderr",
     "output_type": "stream",
     "text": [
      "\r",
      "21it [00:02,  7.71it/s]"
     ]
    },
    {
     "data": {
      "text/plain": [
       "(21,\n",
       " name        dryer-1.wav\n",
       " target                4\n",
       " category          dryer\n",
       " Name: 21, dtype: object)"
      ]
     },
     "execution_count": 23,
     "metadata": {},
     "output_type": "execute_result"
    },
    {
     "data": {
      "text/plain": [
       "22050"
      ]
     },
     "execution_count": 23,
     "metadata": {},
     "output_type": "execute_result"
    },
    {
     "name": "stderr",
     "output_type": "stream",
     "text": [
      "\r",
      "22it [00:02,  7.86it/s]"
     ]
    },
    {
     "data": {
      "text/plain": [
       "(22,\n",
       " name        dryer-10.wav\n",
       " target                 4\n",
       " category           dryer\n",
       " Name: 22, dtype: object)"
      ]
     },
     "execution_count": 23,
     "metadata": {},
     "output_type": "execute_result"
    },
    {
     "data": {
      "text/plain": [
       "22050"
      ]
     },
     "execution_count": 23,
     "metadata": {},
     "output_type": "execute_result"
    },
    {
     "name": "stderr",
     "output_type": "stream",
     "text": [
      "\r",
      "23it [00:03,  7.72it/s]"
     ]
    },
    {
     "data": {
      "text/plain": [
       "(23,\n",
       " name        dryer-11.wav\n",
       " target                 4\n",
       " category           dryer\n",
       " Name: 23, dtype: object)"
      ]
     },
     "execution_count": 23,
     "metadata": {},
     "output_type": "execute_result"
    },
    {
     "data": {
      "text/plain": [
       "22050"
      ]
     },
     "execution_count": 23,
     "metadata": {},
     "output_type": "execute_result"
    },
    {
     "name": "stderr",
     "output_type": "stream",
     "text": [
      "\r",
      "24it [00:03,  7.67it/s]"
     ]
    },
    {
     "data": {
      "text/plain": [
       "(24,\n",
       " name        dryer-12.wav\n",
       " target                 4\n",
       " category           dryer\n",
       " Name: 24, dtype: object)"
      ]
     },
     "execution_count": 23,
     "metadata": {},
     "output_type": "execute_result"
    },
    {
     "data": {
      "text/plain": [
       "22050"
      ]
     },
     "execution_count": 23,
     "metadata": {},
     "output_type": "execute_result"
    },
    {
     "name": "stderr",
     "output_type": "stream",
     "text": [
      "\r",
      "25it [00:03,  7.53it/s]"
     ]
    },
    {
     "data": {
      "text/plain": [
       "(25,\n",
       " name        dryer-13.wav\n",
       " target                 4\n",
       " category           dryer\n",
       " Name: 25, dtype: object)"
      ]
     },
     "execution_count": 23,
     "metadata": {},
     "output_type": "execute_result"
    },
    {
     "data": {
      "text/plain": [
       "22050"
      ]
     },
     "execution_count": 23,
     "metadata": {},
     "output_type": "execute_result"
    },
    {
     "name": "stderr",
     "output_type": "stream",
     "text": [
      "\r",
      "26it [00:03,  7.77it/s]"
     ]
    },
    {
     "data": {
      "text/plain": [
       "(26,\n",
       " name        dryer-14.wav\n",
       " target                 4\n",
       " category           dryer\n",
       " Name: 26, dtype: object)"
      ]
     },
     "execution_count": 23,
     "metadata": {},
     "output_type": "execute_result"
    },
    {
     "data": {
      "text/plain": [
       "22050"
      ]
     },
     "execution_count": 23,
     "metadata": {},
     "output_type": "execute_result"
    },
    {
     "name": "stderr",
     "output_type": "stream",
     "text": [
      "\r",
      "27it [00:03,  7.90it/s]"
     ]
    },
    {
     "data": {
      "text/plain": [
       "(27,\n",
       " name        dryer-15.wav\n",
       " target                 4\n",
       " category           dryer\n",
       " Name: 27, dtype: object)"
      ]
     },
     "execution_count": 23,
     "metadata": {},
     "output_type": "execute_result"
    },
    {
     "data": {
      "text/plain": [
       "22050"
      ]
     },
     "execution_count": 23,
     "metadata": {},
     "output_type": "execute_result"
    },
    {
     "name": "stderr",
     "output_type": "stream",
     "text": [
      "\r",
      "28it [00:03,  8.03it/s]"
     ]
    },
    {
     "data": {
      "text/plain": [
       "(28,\n",
       " name        dryer-16.wav\n",
       " target                 4\n",
       " category           dryer\n",
       " Name: 28, dtype: object)"
      ]
     },
     "execution_count": 23,
     "metadata": {},
     "output_type": "execute_result"
    },
    {
     "data": {
      "text/plain": [
       "22050"
      ]
     },
     "execution_count": 23,
     "metadata": {},
     "output_type": "execute_result"
    },
    {
     "name": "stderr",
     "output_type": "stream",
     "text": [
      "\r",
      "29it [00:03,  7.92it/s]"
     ]
    },
    {
     "data": {
      "text/plain": [
       "(29,\n",
       " name        dryer-17.wav\n",
       " target                 4\n",
       " category           dryer\n",
       " Name: 29, dtype: object)"
      ]
     },
     "execution_count": 23,
     "metadata": {},
     "output_type": "execute_result"
    },
    {
     "data": {
      "text/plain": [
       "22050"
      ]
     },
     "execution_count": 23,
     "metadata": {},
     "output_type": "execute_result"
    },
    {
     "name": "stderr",
     "output_type": "stream",
     "text": [
      "\r",
      "30it [00:03,  8.14it/s]"
     ]
    },
    {
     "data": {
      "text/plain": [
       "(30,\n",
       " name        dryer-18.wav\n",
       " target                 4\n",
       " category           dryer\n",
       " Name: 30, dtype: object)"
      ]
     },
     "execution_count": 23,
     "metadata": {},
     "output_type": "execute_result"
    },
    {
     "data": {
      "text/plain": [
       "22050"
      ]
     },
     "execution_count": 23,
     "metadata": {},
     "output_type": "execute_result"
    },
    {
     "name": "stderr",
     "output_type": "stream",
     "text": [
      "\r",
      "31it [00:04,  8.29it/s]"
     ]
    },
    {
     "data": {
      "text/plain": [
       "(31,\n",
       " name        dryer-19.wav\n",
       " target                 4\n",
       " category           dryer\n",
       " Name: 31, dtype: object)"
      ]
     },
     "execution_count": 23,
     "metadata": {},
     "output_type": "execute_result"
    },
    {
     "data": {
      "text/plain": [
       "22050"
      ]
     },
     "execution_count": 23,
     "metadata": {},
     "output_type": "execute_result"
    },
    {
     "name": "stderr",
     "output_type": "stream",
     "text": [
      "\r",
      "32it [00:04,  8.09it/s]"
     ]
    },
    {
     "data": {
      "text/plain": [
       "(32,\n",
       " name        dryer-2.wav\n",
       " target                4\n",
       " category          dryer\n",
       " Name: 32, dtype: object)"
      ]
     },
     "execution_count": 23,
     "metadata": {},
     "output_type": "execute_result"
    },
    {
     "data": {
      "text/plain": [
       "22050"
      ]
     },
     "execution_count": 23,
     "metadata": {},
     "output_type": "execute_result"
    },
    {
     "name": "stderr",
     "output_type": "stream",
     "text": [
      "\r",
      "33it [00:04,  7.93it/s]"
     ]
    },
    {
     "data": {
      "text/plain": [
       "(33,\n",
       " name        dryer-3.wav\n",
       " target                4\n",
       " category          dryer\n",
       " Name: 33, dtype: object)"
      ]
     },
     "execution_count": 23,
     "metadata": {},
     "output_type": "execute_result"
    },
    {
     "data": {
      "text/plain": [
       "22050"
      ]
     },
     "execution_count": 23,
     "metadata": {},
     "output_type": "execute_result"
    },
    {
     "name": "stderr",
     "output_type": "stream",
     "text": [
      "\r",
      "34it [00:04,  8.15it/s]"
     ]
    },
    {
     "data": {
      "text/plain": [
       "(34,\n",
       " name        dryer-4.wav\n",
       " target                4\n",
       " category          dryer\n",
       " Name: 34, dtype: object)"
      ]
     },
     "execution_count": 23,
     "metadata": {},
     "output_type": "execute_result"
    },
    {
     "data": {
      "text/plain": [
       "22050"
      ]
     },
     "execution_count": 23,
     "metadata": {},
     "output_type": "execute_result"
    },
    {
     "name": "stderr",
     "output_type": "stream",
     "text": [
      "\r",
      "35it [00:04,  8.29it/s]"
     ]
    },
    {
     "data": {
      "text/plain": [
       "(35,\n",
       " name        dryer-5.wav\n",
       " target                4\n",
       " category          dryer\n",
       " Name: 35, dtype: object)"
      ]
     },
     "execution_count": 23,
     "metadata": {},
     "output_type": "execute_result"
    },
    {
     "data": {
      "text/plain": [
       "22050"
      ]
     },
     "execution_count": 23,
     "metadata": {},
     "output_type": "execute_result"
    },
    {
     "name": "stderr",
     "output_type": "stream",
     "text": [
      "\r",
      "36it [00:04,  8.61it/s]"
     ]
    },
    {
     "data": {
      "text/plain": [
       "(36,\n",
       " name        dryer-6.wav\n",
       " target                4\n",
       " category          dryer\n",
       " Name: 36, dtype: object)"
      ]
     },
     "execution_count": 23,
     "metadata": {},
     "output_type": "execute_result"
    },
    {
     "data": {
      "text/plain": [
       "22050"
      ]
     },
     "execution_count": 23,
     "metadata": {},
     "output_type": "execute_result"
    },
    {
     "name": "stderr",
     "output_type": "stream",
     "text": [
      "\r",
      "37it [00:04,  8.73it/s]"
     ]
    },
    {
     "data": {
      "text/plain": [
       "(37,\n",
       " name        dryer-7.wav\n",
       " target                4\n",
       " category          dryer\n",
       " Name: 37, dtype: object)"
      ]
     },
     "execution_count": 23,
     "metadata": {},
     "output_type": "execute_result"
    },
    {
     "data": {
      "text/plain": [
       "22050"
      ]
     },
     "execution_count": 23,
     "metadata": {},
     "output_type": "execute_result"
    },
    {
     "name": "stderr",
     "output_type": "stream",
     "text": [
      "\r",
      "38it [00:04,  8.82it/s]"
     ]
    },
    {
     "data": {
      "text/plain": [
       "(38,\n",
       " name        dryer-8.wav\n",
       " target                4\n",
       " category          dryer\n",
       " Name: 38, dtype: object)"
      ]
     },
     "execution_count": 23,
     "metadata": {},
     "output_type": "execute_result"
    },
    {
     "data": {
      "text/plain": [
       "22050"
      ]
     },
     "execution_count": 23,
     "metadata": {},
     "output_type": "execute_result"
    },
    {
     "name": "stderr",
     "output_type": "stream",
     "text": [
      "\r",
      "39it [00:04,  8.84it/s]"
     ]
    },
    {
     "data": {
      "text/plain": [
       "(39,\n",
       " name        dryer-9.wav\n",
       " target                4\n",
       " category          dryer\n",
       " Name: 39, dtype: object)"
      ]
     },
     "execution_count": 23,
     "metadata": {},
     "output_type": "execute_result"
    },
    {
     "data": {
      "text/plain": [
       "22050"
      ]
     },
     "execution_count": 23,
     "metadata": {},
     "output_type": "execute_result"
    },
    {
     "name": "stderr",
     "output_type": "stream",
     "text": [
      "\r",
      "40it [00:05,  9.02it/s]"
     ]
    },
    {
     "data": {
      "text/plain": [
       "(40,\n",
       " name        other-0.wav\n",
       " target                5\n",
       " category          other\n",
       " Name: 40, dtype: object)"
      ]
     },
     "execution_count": 23,
     "metadata": {},
     "output_type": "execute_result"
    },
    {
     "data": {
      "text/plain": [
       "22050"
      ]
     },
     "execution_count": 23,
     "metadata": {},
     "output_type": "execute_result"
    },
    {
     "name": "stderr",
     "output_type": "stream",
     "text": [
      "\r",
      "41it [00:05,  9.09it/s]"
     ]
    },
    {
     "data": {
      "text/plain": [
       "(41,\n",
       " name        other-1.wav\n",
       " target                5\n",
       " category          other\n",
       " Name: 41, dtype: object)"
      ]
     },
     "execution_count": 23,
     "metadata": {},
     "output_type": "execute_result"
    },
    {
     "data": {
      "text/plain": [
       "22050"
      ]
     },
     "execution_count": 23,
     "metadata": {},
     "output_type": "execute_result"
    },
    {
     "name": "stderr",
     "output_type": "stream",
     "text": [
      "\r",
      "42it [00:05,  8.86it/s]"
     ]
    },
    {
     "data": {
      "text/plain": [
       "(42,\n",
       " name        other-10.wav\n",
       " target                 5\n",
       " category           other\n",
       " Name: 42, dtype: object)"
      ]
     },
     "execution_count": 23,
     "metadata": {},
     "output_type": "execute_result"
    },
    {
     "data": {
      "text/plain": [
       "22050"
      ]
     },
     "execution_count": 23,
     "metadata": {},
     "output_type": "execute_result"
    },
    {
     "name": "stderr",
     "output_type": "stream",
     "text": [
      "\r",
      "43it [00:05,  7.96it/s]"
     ]
    },
    {
     "data": {
      "text/plain": [
       "(43,\n",
       " name        other-11.wav\n",
       " target                 5\n",
       " category           other\n",
       " Name: 43, dtype: object)"
      ]
     },
     "execution_count": 23,
     "metadata": {},
     "output_type": "execute_result"
    },
    {
     "data": {
      "text/plain": [
       "22050"
      ]
     },
     "execution_count": 23,
     "metadata": {},
     "output_type": "execute_result"
    },
    {
     "name": "stderr",
     "output_type": "stream",
     "text": [
      "\r",
      "44it [00:05,  8.05it/s]"
     ]
    },
    {
     "data": {
      "text/plain": [
       "(44,\n",
       " name        other-12.wav\n",
       " target                 5\n",
       " category           other\n",
       " Name: 44, dtype: object)"
      ]
     },
     "execution_count": 23,
     "metadata": {},
     "output_type": "execute_result"
    },
    {
     "data": {
      "text/plain": [
       "22050"
      ]
     },
     "execution_count": 23,
     "metadata": {},
     "output_type": "execute_result"
    },
    {
     "name": "stderr",
     "output_type": "stream",
     "text": [
      "\r",
      "45it [00:05,  8.14it/s]"
     ]
    },
    {
     "data": {
      "text/plain": [
       "(45,\n",
       " name        other-13.wav\n",
       " target                 5\n",
       " category           other\n",
       " Name: 45, dtype: object)"
      ]
     },
     "execution_count": 23,
     "metadata": {},
     "output_type": "execute_result"
    },
    {
     "data": {
      "text/plain": [
       "22050"
      ]
     },
     "execution_count": 23,
     "metadata": {},
     "output_type": "execute_result"
    },
    {
     "name": "stderr",
     "output_type": "stream",
     "text": [
      "\r",
      "46it [00:05,  7.99it/s]"
     ]
    },
    {
     "data": {
      "text/plain": [
       "(46,\n",
       " name        other-14.wav\n",
       " target                 5\n",
       " category           other\n",
       " Name: 46, dtype: object)"
      ]
     },
     "execution_count": 23,
     "metadata": {},
     "output_type": "execute_result"
    },
    {
     "data": {
      "text/plain": [
       "22050"
      ]
     },
     "execution_count": 23,
     "metadata": {},
     "output_type": "execute_result"
    },
    {
     "name": "stderr",
     "output_type": "stream",
     "text": [
      "\r",
      "47it [00:05,  7.98it/s]"
     ]
    },
    {
     "data": {
      "text/plain": [
       "(47,\n",
       " name        other-15.wav\n",
       " target                 5\n",
       " category           other\n",
       " Name: 47, dtype: object)"
      ]
     },
     "execution_count": 23,
     "metadata": {},
     "output_type": "execute_result"
    },
    {
     "data": {
      "text/plain": [
       "22050"
      ]
     },
     "execution_count": 23,
     "metadata": {},
     "output_type": "execute_result"
    },
    {
     "name": "stderr",
     "output_type": "stream",
     "text": [
      "\r",
      "48it [00:06,  8.05it/s]"
     ]
    },
    {
     "data": {
      "text/plain": [
       "(48,\n",
       " name        other-16.wav\n",
       " target                 5\n",
       " category           other\n",
       " Name: 48, dtype: object)"
      ]
     },
     "execution_count": 23,
     "metadata": {},
     "output_type": "execute_result"
    },
    {
     "data": {
      "text/plain": [
       "22050"
      ]
     },
     "execution_count": 23,
     "metadata": {},
     "output_type": "execute_result"
    },
    {
     "name": "stderr",
     "output_type": "stream",
     "text": [
      "\r",
      "49it [00:06,  8.20it/s]"
     ]
    },
    {
     "data": {
      "text/plain": [
       "(49,\n",
       " name        other-17.wav\n",
       " target                 5\n",
       " category           other\n",
       " Name: 49, dtype: object)"
      ]
     },
     "execution_count": 23,
     "metadata": {},
     "output_type": "execute_result"
    },
    {
     "data": {
      "text/plain": [
       "22050"
      ]
     },
     "execution_count": 23,
     "metadata": {},
     "output_type": "execute_result"
    },
    {
     "name": "stderr",
     "output_type": "stream",
     "text": [
      "\r",
      "50it [00:06,  7.70it/s]"
     ]
    },
    {
     "data": {
      "text/plain": [
       "(50,\n",
       " name        other-18.wav\n",
       " target                 5\n",
       " category           other\n",
       " Name: 50, dtype: object)"
      ]
     },
     "execution_count": 23,
     "metadata": {},
     "output_type": "execute_result"
    },
    {
     "data": {
      "text/plain": [
       "22050"
      ]
     },
     "execution_count": 23,
     "metadata": {},
     "output_type": "execute_result"
    },
    {
     "name": "stderr",
     "output_type": "stream",
     "text": [
      "\r",
      "51it [00:06,  7.48it/s]"
     ]
    },
    {
     "data": {
      "text/plain": [
       "(51,\n",
       " name        other-19.wav\n",
       " target                 5\n",
       " category           other\n",
       " Name: 51, dtype: object)"
      ]
     },
     "execution_count": 23,
     "metadata": {},
     "output_type": "execute_result"
    },
    {
     "data": {
      "text/plain": [
       "22050"
      ]
     },
     "execution_count": 23,
     "metadata": {},
     "output_type": "execute_result"
    },
    {
     "name": "stderr",
     "output_type": "stream",
     "text": [
      "\r",
      "52it [00:06,  7.23it/s]"
     ]
    },
    {
     "data": {
      "text/plain": [
       "(52,\n",
       " name        other-2.wav\n",
       " target                5\n",
       " category          other\n",
       " Name: 52, dtype: object)"
      ]
     },
     "execution_count": 23,
     "metadata": {},
     "output_type": "execute_result"
    },
    {
     "data": {
      "text/plain": [
       "22050"
      ]
     },
     "execution_count": 23,
     "metadata": {},
     "output_type": "execute_result"
    },
    {
     "name": "stderr",
     "output_type": "stream",
     "text": [
      "\r",
      "53it [00:06,  7.34it/s]"
     ]
    },
    {
     "data": {
      "text/plain": [
       "(53,\n",
       " name        other-3.wav\n",
       " target                5\n",
       " category          other\n",
       " Name: 53, dtype: object)"
      ]
     },
     "execution_count": 23,
     "metadata": {},
     "output_type": "execute_result"
    },
    {
     "data": {
      "text/plain": [
       "22050"
      ]
     },
     "execution_count": 23,
     "metadata": {},
     "output_type": "execute_result"
    },
    {
     "name": "stderr",
     "output_type": "stream",
     "text": [
      "\r",
      "54it [00:06,  7.63it/s]"
     ]
    },
    {
     "data": {
      "text/plain": [
       "(54,\n",
       " name        other-4.wav\n",
       " target                5\n",
       " category          other\n",
       " Name: 54, dtype: object)"
      ]
     },
     "execution_count": 23,
     "metadata": {},
     "output_type": "execute_result"
    },
    {
     "data": {
      "text/plain": [
       "22050"
      ]
     },
     "execution_count": 23,
     "metadata": {},
     "output_type": "execute_result"
    },
    {
     "name": "stderr",
     "output_type": "stream",
     "text": [
      "\r",
      "55it [00:06,  7.66it/s]"
     ]
    },
    {
     "data": {
      "text/plain": [
       "(55,\n",
       " name        other-5.wav\n",
       " target                5\n",
       " category          other\n",
       " Name: 55, dtype: object)"
      ]
     },
     "execution_count": 23,
     "metadata": {},
     "output_type": "execute_result"
    },
    {
     "data": {
      "text/plain": [
       "22050"
      ]
     },
     "execution_count": 23,
     "metadata": {},
     "output_type": "execute_result"
    },
    {
     "name": "stderr",
     "output_type": "stream",
     "text": [
      "\r",
      "56it [00:07,  7.62it/s]"
     ]
    },
    {
     "data": {
      "text/plain": [
       "(56,\n",
       " name        other-6.wav\n",
       " target                5\n",
       " category          other\n",
       " Name: 56, dtype: object)"
      ]
     },
     "execution_count": 23,
     "metadata": {},
     "output_type": "execute_result"
    },
    {
     "data": {
      "text/plain": [
       "22050"
      ]
     },
     "execution_count": 23,
     "metadata": {},
     "output_type": "execute_result"
    },
    {
     "name": "stderr",
     "output_type": "stream",
     "text": [
      "\r",
      "57it [00:07,  7.74it/s]"
     ]
    },
    {
     "data": {
      "text/plain": [
       "(57,\n",
       " name        other-7.wav\n",
       " target                5\n",
       " category          other\n",
       " Name: 57, dtype: object)"
      ]
     },
     "execution_count": 23,
     "metadata": {},
     "output_type": "execute_result"
    },
    {
     "data": {
      "text/plain": [
       "22050"
      ]
     },
     "execution_count": 23,
     "metadata": {},
     "output_type": "execute_result"
    },
    {
     "name": "stderr",
     "output_type": "stream",
     "text": [
      "\r",
      "58it [00:07,  7.88it/s]"
     ]
    },
    {
     "data": {
      "text/plain": [
       "(58,\n",
       " name        other-8.wav\n",
       " target                5\n",
       " category          other\n",
       " Name: 58, dtype: object)"
      ]
     },
     "execution_count": 23,
     "metadata": {},
     "output_type": "execute_result"
    },
    {
     "data": {
      "text/plain": [
       "22050"
      ]
     },
     "execution_count": 23,
     "metadata": {},
     "output_type": "execute_result"
    },
    {
     "name": "stderr",
     "output_type": "stream",
     "text": [
      "\r",
      "59it [00:07,  8.13it/s]"
     ]
    },
    {
     "data": {
      "text/plain": [
       "(59,\n",
       " name        other-9.wav\n",
       " target                5\n",
       " category          other\n",
       " Name: 59, dtype: object)"
      ]
     },
     "execution_count": 23,
     "metadata": {},
     "output_type": "execute_result"
    },
    {
     "data": {
      "text/plain": [
       "22050"
      ]
     },
     "execution_count": 23,
     "metadata": {},
     "output_type": "execute_result"
    },
    {
     "name": "stderr",
     "output_type": "stream",
     "text": [
      "\r",
      "60it [00:07,  7.83it/s]"
     ]
    },
    {
     "data": {
      "text/plain": [
       "(60,\n",
       " name        silence-0.wav\n",
       " target                  0\n",
       " category          silence\n",
       " Name: 60, dtype: object)"
      ]
     },
     "execution_count": 23,
     "metadata": {},
     "output_type": "execute_result"
    },
    {
     "data": {
      "text/plain": [
       "22050"
      ]
     },
     "execution_count": 23,
     "metadata": {},
     "output_type": "execute_result"
    },
    {
     "name": "stderr",
     "output_type": "stream",
     "text": [
      "\r",
      "61it [00:07,  7.22it/s]"
     ]
    },
    {
     "data": {
      "text/plain": [
       "(61,\n",
       " name        silence-1.wav\n",
       " target                  0\n",
       " category          silence\n",
       " Name: 61, dtype: object)"
      ]
     },
     "execution_count": 23,
     "metadata": {},
     "output_type": "execute_result"
    },
    {
     "data": {
      "text/plain": [
       "22050"
      ]
     },
     "execution_count": 23,
     "metadata": {},
     "output_type": "execute_result"
    },
    {
     "name": "stderr",
     "output_type": "stream",
     "text": [
      "\r",
      "62it [00:07,  6.89it/s]"
     ]
    },
    {
     "data": {
      "text/plain": [
       "(62,\n",
       " name        silence-10.wav\n",
       " target                   0\n",
       " category           silence\n",
       " Name: 62, dtype: object)"
      ]
     },
     "execution_count": 23,
     "metadata": {},
     "output_type": "execute_result"
    },
    {
     "data": {
      "text/plain": [
       "22050"
      ]
     },
     "execution_count": 23,
     "metadata": {},
     "output_type": "execute_result"
    },
    {
     "name": "stderr",
     "output_type": "stream",
     "text": [
      "\r",
      "63it [00:08,  7.26it/s]"
     ]
    },
    {
     "data": {
      "text/plain": [
       "(63,\n",
       " name        silence-11.wav\n",
       " target                   0\n",
       " category           silence\n",
       " Name: 63, dtype: object)"
      ]
     },
     "execution_count": 23,
     "metadata": {},
     "output_type": "execute_result"
    },
    {
     "data": {
      "text/plain": [
       "22050"
      ]
     },
     "execution_count": 23,
     "metadata": {},
     "output_type": "execute_result"
    },
    {
     "name": "stderr",
     "output_type": "stream",
     "text": [
      "\r",
      "64it [00:08,  7.28it/s]"
     ]
    },
    {
     "data": {
      "text/plain": [
       "(64,\n",
       " name        silence-12.wav\n",
       " target                   0\n",
       " category           silence\n",
       " Name: 64, dtype: object)"
      ]
     },
     "execution_count": 23,
     "metadata": {},
     "output_type": "execute_result"
    },
    {
     "data": {
      "text/plain": [
       "22050"
      ]
     },
     "execution_count": 23,
     "metadata": {},
     "output_type": "execute_result"
    },
    {
     "name": "stderr",
     "output_type": "stream",
     "text": [
      "\r",
      "65it [00:08,  7.42it/s]"
     ]
    },
    {
     "data": {
      "text/plain": [
       "(65,\n",
       " name        silence-13.wav\n",
       " target                   0\n",
       " category           silence\n",
       " Name: 65, dtype: object)"
      ]
     },
     "execution_count": 23,
     "metadata": {},
     "output_type": "execute_result"
    },
    {
     "data": {
      "text/plain": [
       "22050"
      ]
     },
     "execution_count": 23,
     "metadata": {},
     "output_type": "execute_result"
    },
    {
     "name": "stderr",
     "output_type": "stream",
     "text": [
      "\r",
      "66it [00:08,  7.49it/s]"
     ]
    },
    {
     "data": {
      "text/plain": [
       "(66,\n",
       " name        silence-14.wav\n",
       " target                   0\n",
       " category           silence\n",
       " Name: 66, dtype: object)"
      ]
     },
     "execution_count": 23,
     "metadata": {},
     "output_type": "execute_result"
    },
    {
     "data": {
      "text/plain": [
       "22050"
      ]
     },
     "execution_count": 23,
     "metadata": {},
     "output_type": "execute_result"
    },
    {
     "name": "stderr",
     "output_type": "stream",
     "text": [
      "\r",
      "67it [00:08,  7.34it/s]"
     ]
    },
    {
     "data": {
      "text/plain": [
       "(67,\n",
       " name        silence-15.wav\n",
       " target                   0\n",
       " category           silence\n",
       " Name: 67, dtype: object)"
      ]
     },
     "execution_count": 23,
     "metadata": {},
     "output_type": "execute_result"
    },
    {
     "data": {
      "text/plain": [
       "22050"
      ]
     },
     "execution_count": 23,
     "metadata": {},
     "output_type": "execute_result"
    },
    {
     "name": "stderr",
     "output_type": "stream",
     "text": [
      "\r",
      "68it [00:08,  7.30it/s]"
     ]
    },
    {
     "data": {
      "text/plain": [
       "(68,\n",
       " name        silence-16.wav\n",
       " target                   0\n",
       " category           silence\n",
       " Name: 68, dtype: object)"
      ]
     },
     "execution_count": 23,
     "metadata": {},
     "output_type": "execute_result"
    },
    {
     "data": {
      "text/plain": [
       "22050"
      ]
     },
     "execution_count": 23,
     "metadata": {},
     "output_type": "execute_result"
    },
    {
     "name": "stderr",
     "output_type": "stream",
     "text": [
      "\r",
      "69it [00:08,  7.26it/s]"
     ]
    },
    {
     "data": {
      "text/plain": [
       "(69,\n",
       " name        silence-17.wav\n",
       " target                   0\n",
       " category           silence\n",
       " Name: 69, dtype: object)"
      ]
     },
     "execution_count": 23,
     "metadata": {},
     "output_type": "execute_result"
    },
    {
     "data": {
      "text/plain": [
       "22050"
      ]
     },
     "execution_count": 23,
     "metadata": {},
     "output_type": "execute_result"
    },
    {
     "name": "stderr",
     "output_type": "stream",
     "text": [
      "\r",
      "70it [00:09,  6.97it/s]"
     ]
    },
    {
     "data": {
      "text/plain": [
       "(70,\n",
       " name        silence-18.wav\n",
       " target                   0\n",
       " category           silence\n",
       " Name: 70, dtype: object)"
      ]
     },
     "execution_count": 23,
     "metadata": {},
     "output_type": "execute_result"
    },
    {
     "data": {
      "text/plain": [
       "22050"
      ]
     },
     "execution_count": 23,
     "metadata": {},
     "output_type": "execute_result"
    },
    {
     "name": "stderr",
     "output_type": "stream",
     "text": [
      "\r",
      "71it [00:09,  7.03it/s]"
     ]
    },
    {
     "data": {
      "text/plain": [
       "(71,\n",
       " name        silence-19.wav\n",
       " target                   0\n",
       " category           silence\n",
       " Name: 71, dtype: object)"
      ]
     },
     "execution_count": 23,
     "metadata": {},
     "output_type": "execute_result"
    },
    {
     "data": {
      "text/plain": [
       "22050"
      ]
     },
     "execution_count": 23,
     "metadata": {},
     "output_type": "execute_result"
    },
    {
     "name": "stderr",
     "output_type": "stream",
     "text": [
      "\r",
      "72it [00:09,  7.46it/s]"
     ]
    },
    {
     "data": {
      "text/plain": [
       "(72,\n",
       " name        silence-2.wav\n",
       " target                  0\n",
       " category          silence\n",
       " Name: 72, dtype: object)"
      ]
     },
     "execution_count": 23,
     "metadata": {},
     "output_type": "execute_result"
    },
    {
     "data": {
      "text/plain": [
       "22050"
      ]
     },
     "execution_count": 23,
     "metadata": {},
     "output_type": "execute_result"
    },
    {
     "name": "stderr",
     "output_type": "stream",
     "text": [
      "\r",
      "73it [00:09,  7.85it/s]"
     ]
    },
    {
     "data": {
      "text/plain": [
       "(73,\n",
       " name        silence-3.wav\n",
       " target                  0\n",
       " category          silence\n",
       " Name: 73, dtype: object)"
      ]
     },
     "execution_count": 23,
     "metadata": {},
     "output_type": "execute_result"
    },
    {
     "data": {
      "text/plain": [
       "22050"
      ]
     },
     "execution_count": 23,
     "metadata": {},
     "output_type": "execute_result"
    },
    {
     "name": "stderr",
     "output_type": "stream",
     "text": [
      "\r",
      "74it [00:09,  7.67it/s]"
     ]
    },
    {
     "data": {
      "text/plain": [
       "(74,\n",
       " name        silence-4.wav\n",
       " target                  0\n",
       " category          silence\n",
       " Name: 74, dtype: object)"
      ]
     },
     "execution_count": 23,
     "metadata": {},
     "output_type": "execute_result"
    },
    {
     "data": {
      "text/plain": [
       "22050"
      ]
     },
     "execution_count": 23,
     "metadata": {},
     "output_type": "execute_result"
    },
    {
     "name": "stderr",
     "output_type": "stream",
     "text": [
      "\r",
      "75it [00:09,  7.66it/s]"
     ]
    },
    {
     "data": {
      "text/plain": [
       "(75,\n",
       " name        silence-5.wav\n",
       " target                  0\n",
       " category          silence\n",
       " Name: 75, dtype: object)"
      ]
     },
     "execution_count": 23,
     "metadata": {},
     "output_type": "execute_result"
    },
    {
     "data": {
      "text/plain": [
       "22050"
      ]
     },
     "execution_count": 23,
     "metadata": {},
     "output_type": "execute_result"
    },
    {
     "name": "stderr",
     "output_type": "stream",
     "text": [
      "\r",
      "76it [00:09,  7.63it/s]"
     ]
    },
    {
     "data": {
      "text/plain": [
       "(76,\n",
       " name        silence-6.wav\n",
       " target                  0\n",
       " category          silence\n",
       " Name: 76, dtype: object)"
      ]
     },
     "execution_count": 23,
     "metadata": {},
     "output_type": "execute_result"
    },
    {
     "data": {
      "text/plain": [
       "22050"
      ]
     },
     "execution_count": 23,
     "metadata": {},
     "output_type": "execute_result"
    },
    {
     "name": "stderr",
     "output_type": "stream",
     "text": [
      "\r",
      "77it [00:09,  7.67it/s]"
     ]
    },
    {
     "data": {
      "text/plain": [
       "(77,\n",
       " name        silence-7.wav\n",
       " target                  0\n",
       " category          silence\n",
       " Name: 77, dtype: object)"
      ]
     },
     "execution_count": 23,
     "metadata": {},
     "output_type": "execute_result"
    },
    {
     "data": {
      "text/plain": [
       "22050"
      ]
     },
     "execution_count": 23,
     "metadata": {},
     "output_type": "execute_result"
    },
    {
     "name": "stderr",
     "output_type": "stream",
     "text": [
      "\r",
      "78it [00:10,  7.65it/s]"
     ]
    },
    {
     "data": {
      "text/plain": [
       "(78,\n",
       " name        silence-8.wav\n",
       " target                  0\n",
       " category          silence\n",
       " Name: 78, dtype: object)"
      ]
     },
     "execution_count": 23,
     "metadata": {},
     "output_type": "execute_result"
    },
    {
     "data": {
      "text/plain": [
       "22050"
      ]
     },
     "execution_count": 23,
     "metadata": {},
     "output_type": "execute_result"
    },
    {
     "name": "stderr",
     "output_type": "stream",
     "text": [
      "\r",
      "79it [00:10,  7.01it/s]"
     ]
    },
    {
     "data": {
      "text/plain": [
       "(79,\n",
       " name        silence-9.wav\n",
       " target                  0\n",
       " category          silence\n",
       " Name: 79, dtype: object)"
      ]
     },
     "execution_count": 23,
     "metadata": {},
     "output_type": "execute_result"
    },
    {
     "data": {
      "text/plain": [
       "22050"
      ]
     },
     "execution_count": 23,
     "metadata": {},
     "output_type": "execute_result"
    },
    {
     "name": "stderr",
     "output_type": "stream",
     "text": [
      "\r",
      "80it [00:10,  6.91it/s]"
     ]
    },
    {
     "data": {
      "text/plain": [
       "(80,\n",
       " name        tap-0.wav\n",
       " target              2\n",
       " category          tap\n",
       " Name: 80, dtype: object)"
      ]
     },
     "execution_count": 23,
     "metadata": {},
     "output_type": "execute_result"
    },
    {
     "data": {
      "text/plain": [
       "22050"
      ]
     },
     "execution_count": 23,
     "metadata": {},
     "output_type": "execute_result"
    },
    {
     "name": "stderr",
     "output_type": "stream",
     "text": [
      "\r",
      "81it [00:10,  7.24it/s]"
     ]
    },
    {
     "data": {
      "text/plain": [
       "(81,\n",
       " name        tap-1.wav\n",
       " target              2\n",
       " category          tap\n",
       " Name: 81, dtype: object)"
      ]
     },
     "execution_count": 23,
     "metadata": {},
     "output_type": "execute_result"
    },
    {
     "data": {
      "text/plain": [
       "22050"
      ]
     },
     "execution_count": 23,
     "metadata": {},
     "output_type": "execute_result"
    },
    {
     "name": "stderr",
     "output_type": "stream",
     "text": [
      "\r",
      "82it [00:10,  7.47it/s]"
     ]
    },
    {
     "data": {
      "text/plain": [
       "(82,\n",
       " name        tap-10.wav\n",
       " target               2\n",
       " category           tap\n",
       " Name: 82, dtype: object)"
      ]
     },
     "execution_count": 23,
     "metadata": {},
     "output_type": "execute_result"
    },
    {
     "data": {
      "text/plain": [
       "22050"
      ]
     },
     "execution_count": 23,
     "metadata": {},
     "output_type": "execute_result"
    },
    {
     "name": "stderr",
     "output_type": "stream",
     "text": [
      "\r",
      "83it [00:10,  7.36it/s]"
     ]
    },
    {
     "data": {
      "text/plain": [
       "(83,\n",
       " name        tap-11.wav\n",
       " target               2\n",
       " category           tap\n",
       " Name: 83, dtype: object)"
      ]
     },
     "execution_count": 23,
     "metadata": {},
     "output_type": "execute_result"
    },
    {
     "data": {
      "text/plain": [
       "22050"
      ]
     },
     "execution_count": 23,
     "metadata": {},
     "output_type": "execute_result"
    },
    {
     "name": "stderr",
     "output_type": "stream",
     "text": [
      "\r",
      "84it [00:10,  7.32it/s]"
     ]
    },
    {
     "data": {
      "text/plain": [
       "(84,\n",
       " name        tap-12.wav\n",
       " target               2\n",
       " category           tap\n",
       " Name: 84, dtype: object)"
      ]
     },
     "execution_count": 23,
     "metadata": {},
     "output_type": "execute_result"
    },
    {
     "data": {
      "text/plain": [
       "22050"
      ]
     },
     "execution_count": 23,
     "metadata": {},
     "output_type": "execute_result"
    },
    {
     "name": "stderr",
     "output_type": "stream",
     "text": [
      "\r",
      "85it [00:11,  7.53it/s]"
     ]
    },
    {
     "data": {
      "text/plain": [
       "(85,\n",
       " name        tap-13.wav\n",
       " target               2\n",
       " category           tap\n",
       " Name: 85, dtype: object)"
      ]
     },
     "execution_count": 23,
     "metadata": {},
     "output_type": "execute_result"
    },
    {
     "data": {
      "text/plain": [
       "22050"
      ]
     },
     "execution_count": 23,
     "metadata": {},
     "output_type": "execute_result"
    },
    {
     "name": "stderr",
     "output_type": "stream",
     "text": [
      "\r",
      "86it [00:11,  7.34it/s]"
     ]
    },
    {
     "data": {
      "text/plain": [
       "(86,\n",
       " name        tap-14.wav\n",
       " target               2\n",
       " category           tap\n",
       " Name: 86, dtype: object)"
      ]
     },
     "execution_count": 23,
     "metadata": {},
     "output_type": "execute_result"
    },
    {
     "data": {
      "text/plain": [
       "22050"
      ]
     },
     "execution_count": 23,
     "metadata": {},
     "output_type": "execute_result"
    },
    {
     "name": "stderr",
     "output_type": "stream",
     "text": [
      "\r",
      "87it [00:11,  7.33it/s]"
     ]
    },
    {
     "data": {
      "text/plain": [
       "(87,\n",
       " name        tap-15.wav\n",
       " target               2\n",
       " category           tap\n",
       " Name: 87, dtype: object)"
      ]
     },
     "execution_count": 23,
     "metadata": {},
     "output_type": "execute_result"
    },
    {
     "data": {
      "text/plain": [
       "22050"
      ]
     },
     "execution_count": 23,
     "metadata": {},
     "output_type": "execute_result"
    },
    {
     "name": "stderr",
     "output_type": "stream",
     "text": [
      "\r",
      "88it [00:11,  7.26it/s]"
     ]
    },
    {
     "data": {
      "text/plain": [
       "(88,\n",
       " name        tap-16.wav\n",
       " target               2\n",
       " category           tap\n",
       " Name: 88, dtype: object)"
      ]
     },
     "execution_count": 23,
     "metadata": {},
     "output_type": "execute_result"
    },
    {
     "data": {
      "text/plain": [
       "22050"
      ]
     },
     "execution_count": 23,
     "metadata": {},
     "output_type": "execute_result"
    },
    {
     "name": "stderr",
     "output_type": "stream",
     "text": [
      "\r",
      "89it [00:11,  7.38it/s]"
     ]
    },
    {
     "data": {
      "text/plain": [
       "(89,\n",
       " name        tap-17.wav\n",
       " target               2\n",
       " category           tap\n",
       " Name: 89, dtype: object)"
      ]
     },
     "execution_count": 23,
     "metadata": {},
     "output_type": "execute_result"
    },
    {
     "data": {
      "text/plain": [
       "22050"
      ]
     },
     "execution_count": 23,
     "metadata": {},
     "output_type": "execute_result"
    },
    {
     "name": "stderr",
     "output_type": "stream",
     "text": [
      "\r",
      "90it [00:11,  7.52it/s]"
     ]
    },
    {
     "data": {
      "text/plain": [
       "(90,\n",
       " name        tap-18.wav\n",
       " target               2\n",
       " category           tap\n",
       " Name: 90, dtype: object)"
      ]
     },
     "execution_count": 23,
     "metadata": {},
     "output_type": "execute_result"
    },
    {
     "data": {
      "text/plain": [
       "22050"
      ]
     },
     "execution_count": 23,
     "metadata": {},
     "output_type": "execute_result"
    },
    {
     "name": "stderr",
     "output_type": "stream",
     "text": [
      "\r",
      "91it [00:11,  7.45it/s]"
     ]
    },
    {
     "data": {
      "text/plain": [
       "(91,\n",
       " name        tap-19.wav\n",
       " target               2\n",
       " category           tap\n",
       " Name: 91, dtype: object)"
      ]
     },
     "execution_count": 23,
     "metadata": {},
     "output_type": "execute_result"
    },
    {
     "data": {
      "text/plain": [
       "22050"
      ]
     },
     "execution_count": 23,
     "metadata": {},
     "output_type": "execute_result"
    },
    {
     "name": "stderr",
     "output_type": "stream",
     "text": [
      "\r",
      "92it [00:11,  7.66it/s]"
     ]
    },
    {
     "data": {
      "text/plain": [
       "(92,\n",
       " name        tap-2.wav\n",
       " target              2\n",
       " category          tap\n",
       " Name: 92, dtype: object)"
      ]
     },
     "execution_count": 23,
     "metadata": {},
     "output_type": "execute_result"
    },
    {
     "data": {
      "text/plain": [
       "22050"
      ]
     },
     "execution_count": 23,
     "metadata": {},
     "output_type": "execute_result"
    },
    {
     "name": "stderr",
     "output_type": "stream",
     "text": [
      "\r",
      "93it [00:12,  7.75it/s]"
     ]
    },
    {
     "data": {
      "text/plain": [
       "(93,\n",
       " name        tap-3.wav\n",
       " target              2\n",
       " category          tap\n",
       " Name: 93, dtype: object)"
      ]
     },
     "execution_count": 23,
     "metadata": {},
     "output_type": "execute_result"
    },
    {
     "data": {
      "text/plain": [
       "22050"
      ]
     },
     "execution_count": 23,
     "metadata": {},
     "output_type": "execute_result"
    },
    {
     "name": "stderr",
     "output_type": "stream",
     "text": [
      "\r",
      "94it [00:12,  7.88it/s]"
     ]
    },
    {
     "data": {
      "text/plain": [
       "(94,\n",
       " name        tap-4.wav\n",
       " target              2\n",
       " category          tap\n",
       " Name: 94, dtype: object)"
      ]
     },
     "execution_count": 23,
     "metadata": {},
     "output_type": "execute_result"
    },
    {
     "data": {
      "text/plain": [
       "22050"
      ]
     },
     "execution_count": 23,
     "metadata": {},
     "output_type": "execute_result"
    },
    {
     "name": "stderr",
     "output_type": "stream",
     "text": [
      "\r",
      "95it [00:12,  7.89it/s]"
     ]
    },
    {
     "data": {
      "text/plain": [
       "(95,\n",
       " name        tap-5.wav\n",
       " target              2\n",
       " category          tap\n",
       " Name: 95, dtype: object)"
      ]
     },
     "execution_count": 23,
     "metadata": {},
     "output_type": "execute_result"
    },
    {
     "data": {
      "text/plain": [
       "22050"
      ]
     },
     "execution_count": 23,
     "metadata": {},
     "output_type": "execute_result"
    },
    {
     "name": "stderr",
     "output_type": "stream",
     "text": [
      "\r",
      "96it [00:12,  7.80it/s]"
     ]
    },
    {
     "data": {
      "text/plain": [
       "(96,\n",
       " name        tap-6.wav\n",
       " target              2\n",
       " category          tap\n",
       " Name: 96, dtype: object)"
      ]
     },
     "execution_count": 23,
     "metadata": {},
     "output_type": "execute_result"
    },
    {
     "data": {
      "text/plain": [
       "22050"
      ]
     },
     "execution_count": 23,
     "metadata": {},
     "output_type": "execute_result"
    },
    {
     "name": "stderr",
     "output_type": "stream",
     "text": [
      "\r",
      "97it [00:12,  7.48it/s]"
     ]
    },
    {
     "data": {
      "text/plain": [
       "(97,\n",
       " name        tap-7.wav\n",
       " target              2\n",
       " category          tap\n",
       " Name: 97, dtype: object)"
      ]
     },
     "execution_count": 23,
     "metadata": {},
     "output_type": "execute_result"
    },
    {
     "data": {
      "text/plain": [
       "22050"
      ]
     },
     "execution_count": 23,
     "metadata": {},
     "output_type": "execute_result"
    },
    {
     "name": "stderr",
     "output_type": "stream",
     "text": [
      "\r",
      "98it [00:12,  6.49it/s]"
     ]
    },
    {
     "data": {
      "text/plain": [
       "(98,\n",
       " name        tap-8.wav\n",
       " target              2\n",
       " category          tap\n",
       " Name: 98, dtype: object)"
      ]
     },
     "execution_count": 23,
     "metadata": {},
     "output_type": "execute_result"
    },
    {
     "data": {
      "text/plain": [
       "22050"
      ]
     },
     "execution_count": 23,
     "metadata": {},
     "output_type": "execute_result"
    },
    {
     "name": "stderr",
     "output_type": "stream",
     "text": [
      "\r",
      "99it [00:12,  6.69it/s]"
     ]
    },
    {
     "data": {
      "text/plain": [
       "(99,\n",
       " name        tap-9.wav\n",
       " target              2\n",
       " category          tap\n",
       " Name: 99, dtype: object)"
      ]
     },
     "execution_count": 23,
     "metadata": {},
     "output_type": "execute_result"
    },
    {
     "data": {
      "text/plain": [
       "22050"
      ]
     },
     "execution_count": 23,
     "metadata": {},
     "output_type": "execute_result"
    },
    {
     "name": "stderr",
     "output_type": "stream",
     "text": [
      "\r",
      "100it [00:13,  7.01it/s]"
     ]
    },
    {
     "data": {
      "text/plain": [
       "(100,\n",
       " name        wc-0A.wav\n",
       " target              1\n",
       " category           wc\n",
       " Name: 100, dtype: object)"
      ]
     },
     "execution_count": 23,
     "metadata": {},
     "output_type": "execute_result"
    },
    {
     "data": {
      "text/plain": [
       "22050"
      ]
     },
     "execution_count": 23,
     "metadata": {},
     "output_type": "execute_result"
    },
    {
     "name": "stderr",
     "output_type": "stream",
     "text": [
      "\r",
      "101it [00:13,  7.19it/s]"
     ]
    },
    {
     "data": {
      "text/plain": [
       "(101,\n",
       " name        wc-0B.wav\n",
       " target              1\n",
       " category           wc\n",
       " Name: 101, dtype: object)"
      ]
     },
     "execution_count": 23,
     "metadata": {},
     "output_type": "execute_result"
    },
    {
     "data": {
      "text/plain": [
       "22050"
      ]
     },
     "execution_count": 23,
     "metadata": {},
     "output_type": "execute_result"
    },
    {
     "name": "stderr",
     "output_type": "stream",
     "text": [
      "\r",
      "102it [00:13,  7.42it/s]"
     ]
    },
    {
     "data": {
      "text/plain": [
       "(102,\n",
       " name        wc-0C.wav\n",
       " target              1\n",
       " category           wc\n",
       " Name: 102, dtype: object)"
      ]
     },
     "execution_count": 23,
     "metadata": {},
     "output_type": "execute_result"
    },
    {
     "data": {
      "text/plain": [
       "22050"
      ]
     },
     "execution_count": 23,
     "metadata": {},
     "output_type": "execute_result"
    },
    {
     "name": "stderr",
     "output_type": "stream",
     "text": [
      "\r",
      "103it [00:13,  7.37it/s]"
     ]
    },
    {
     "data": {
      "text/plain": [
       "(103,\n",
       " name        wc-0D.wav\n",
       " target              1\n",
       " category           wc\n",
       " Name: 103, dtype: object)"
      ]
     },
     "execution_count": 23,
     "metadata": {},
     "output_type": "execute_result"
    },
    {
     "data": {
      "text/plain": [
       "22050"
      ]
     },
     "execution_count": 23,
     "metadata": {},
     "output_type": "execute_result"
    },
    {
     "name": "stderr",
     "output_type": "stream",
     "text": [
      "\r",
      "104it [00:13,  7.58it/s]"
     ]
    },
    {
     "data": {
      "text/plain": [
       "(104,\n",
       " name        wc-1A.wav\n",
       " target              1\n",
       " category           wc\n",
       " Name: 104, dtype: object)"
      ]
     },
     "execution_count": 23,
     "metadata": {},
     "output_type": "execute_result"
    },
    {
     "data": {
      "text/plain": [
       "22050"
      ]
     },
     "execution_count": 23,
     "metadata": {},
     "output_type": "execute_result"
    },
    {
     "name": "stderr",
     "output_type": "stream",
     "text": [
      "\r",
      "105it [00:13,  7.16it/s]"
     ]
    },
    {
     "data": {
      "text/plain": [
       "(105,\n",
       " name        wc-1B.wav\n",
       " target              1\n",
       " category           wc\n",
       " Name: 105, dtype: object)"
      ]
     },
     "execution_count": 23,
     "metadata": {},
     "output_type": "execute_result"
    },
    {
     "data": {
      "text/plain": [
       "22050"
      ]
     },
     "execution_count": 23,
     "metadata": {},
     "output_type": "execute_result"
    },
    {
     "name": "stderr",
     "output_type": "stream",
     "text": [
      "\r",
      "106it [00:13,  6.34it/s]"
     ]
    },
    {
     "data": {
      "text/plain": [
       "(106,\n",
       " name        wc-1C.wav\n",
       " target              1\n",
       " category           wc\n",
       " Name: 106, dtype: object)"
      ]
     },
     "execution_count": 23,
     "metadata": {},
     "output_type": "execute_result"
    },
    {
     "data": {
      "text/plain": [
       "22050"
      ]
     },
     "execution_count": 23,
     "metadata": {},
     "output_type": "execute_result"
    },
    {
     "name": "stderr",
     "output_type": "stream",
     "text": [
      "\r",
      "107it [00:14,  6.85it/s]"
     ]
    },
    {
     "data": {
      "text/plain": [
       "(107,\n",
       " name        wc-1D.wav\n",
       " target              1\n",
       " category           wc\n",
       " Name: 107, dtype: object)"
      ]
     },
     "execution_count": 23,
     "metadata": {},
     "output_type": "execute_result"
    },
    {
     "data": {
      "text/plain": [
       "22050"
      ]
     },
     "execution_count": 23,
     "metadata": {},
     "output_type": "execute_result"
    },
    {
     "name": "stderr",
     "output_type": "stream",
     "text": [
      "\r",
      "108it [00:14,  7.34it/s]"
     ]
    },
    {
     "data": {
      "text/plain": [
       "(108,\n",
       " name        wc-2A.wav\n",
       " target              1\n",
       " category           wc\n",
       " Name: 108, dtype: object)"
      ]
     },
     "execution_count": 23,
     "metadata": {},
     "output_type": "execute_result"
    },
    {
     "data": {
      "text/plain": [
       "22050"
      ]
     },
     "execution_count": 23,
     "metadata": {},
     "output_type": "execute_result"
    },
    {
     "name": "stderr",
     "output_type": "stream",
     "text": [
      "\r",
      "109it [00:14,  7.14it/s]"
     ]
    },
    {
     "data": {
      "text/plain": [
       "(109,\n",
       " name        wc-2B.wav\n",
       " target              1\n",
       " category           wc\n",
       " Name: 109, dtype: object)"
      ]
     },
     "execution_count": 23,
     "metadata": {},
     "output_type": "execute_result"
    },
    {
     "data": {
      "text/plain": [
       "22050"
      ]
     },
     "execution_count": 23,
     "metadata": {},
     "output_type": "execute_result"
    },
    {
     "name": "stderr",
     "output_type": "stream",
     "text": [
      "\r",
      "110it [00:14,  6.84it/s]"
     ]
    },
    {
     "data": {
      "text/plain": [
       "(110,\n",
       " name        wc-2C.wav\n",
       " target              1\n",
       " category           wc\n",
       " Name: 110, dtype: object)"
      ]
     },
     "execution_count": 23,
     "metadata": {},
     "output_type": "execute_result"
    },
    {
     "data": {
      "text/plain": [
       "22050"
      ]
     },
     "execution_count": 23,
     "metadata": {},
     "output_type": "execute_result"
    },
    {
     "name": "stderr",
     "output_type": "stream",
     "text": [
      "\r",
      "111it [00:14,  6.50it/s]"
     ]
    },
    {
     "data": {
      "text/plain": [
       "(111,\n",
       " name        wc-2D.wav\n",
       " target              1\n",
       " category           wc\n",
       " Name: 111, dtype: object)"
      ]
     },
     "execution_count": 23,
     "metadata": {},
     "output_type": "execute_result"
    },
    {
     "data": {
      "text/plain": [
       "22050"
      ]
     },
     "execution_count": 23,
     "metadata": {},
     "output_type": "execute_result"
    },
    {
     "name": "stderr",
     "output_type": "stream",
     "text": [
      "\r",
      "112it [00:14,  6.18it/s]"
     ]
    },
    {
     "data": {
      "text/plain": [
       "(112,\n",
       " name        wc-3A.wav\n",
       " target              1\n",
       " category           wc\n",
       " Name: 112, dtype: object)"
      ]
     },
     "execution_count": 23,
     "metadata": {},
     "output_type": "execute_result"
    },
    {
     "data": {
      "text/plain": [
       "22050"
      ]
     },
     "execution_count": 23,
     "metadata": {},
     "output_type": "execute_result"
    },
    {
     "name": "stderr",
     "output_type": "stream",
     "text": [
      "\r",
      "113it [00:15,  6.41it/s]"
     ]
    },
    {
     "data": {
      "text/plain": [
       "(113,\n",
       " name        wc-3B.wav\n",
       " target              1\n",
       " category           wc\n",
       " Name: 113, dtype: object)"
      ]
     },
     "execution_count": 23,
     "metadata": {},
     "output_type": "execute_result"
    },
    {
     "data": {
      "text/plain": [
       "22050"
      ]
     },
     "execution_count": 23,
     "metadata": {},
     "output_type": "execute_result"
    },
    {
     "name": "stderr",
     "output_type": "stream",
     "text": [
      "\r",
      "114it [00:15,  6.62it/s]"
     ]
    },
    {
     "data": {
      "text/plain": [
       "(114,\n",
       " name        wc-3C.wav\n",
       " target              1\n",
       " category           wc\n",
       " Name: 114, dtype: object)"
      ]
     },
     "execution_count": 23,
     "metadata": {},
     "output_type": "execute_result"
    },
    {
     "data": {
      "text/plain": [
       "22050"
      ]
     },
     "execution_count": 23,
     "metadata": {},
     "output_type": "execute_result"
    },
    {
     "name": "stderr",
     "output_type": "stream",
     "text": [
      "\r",
      "115it [00:15,  6.96it/s]"
     ]
    },
    {
     "data": {
      "text/plain": [
       "(115,\n",
       " name        wc-3D.wav\n",
       " target              1\n",
       " category           wc\n",
       " Name: 115, dtype: object)"
      ]
     },
     "execution_count": 23,
     "metadata": {},
     "output_type": "execute_result"
    },
    {
     "data": {
      "text/plain": [
       "22050"
      ]
     },
     "execution_count": 23,
     "metadata": {},
     "output_type": "execute_result"
    },
    {
     "name": "stderr",
     "output_type": "stream",
     "text": [
      "\r",
      "116it [00:15,  6.31it/s]"
     ]
    },
    {
     "data": {
      "text/plain": [
       "(116,\n",
       " name        wc-4A.wav\n",
       " target              1\n",
       " category           wc\n",
       " Name: 116, dtype: object)"
      ]
     },
     "execution_count": 23,
     "metadata": {},
     "output_type": "execute_result"
    },
    {
     "data": {
      "text/plain": [
       "22050"
      ]
     },
     "execution_count": 23,
     "metadata": {},
     "output_type": "execute_result"
    },
    {
     "name": "stderr",
     "output_type": "stream",
     "text": [
      "\r",
      "117it [00:15,  6.18it/s]"
     ]
    },
    {
     "data": {
      "text/plain": [
       "(117,\n",
       " name        wc-4B.wav\n",
       " target              1\n",
       " category           wc\n",
       " Name: 117, dtype: object)"
      ]
     },
     "execution_count": 23,
     "metadata": {},
     "output_type": "execute_result"
    },
    {
     "data": {
      "text/plain": [
       "22050"
      ]
     },
     "execution_count": 23,
     "metadata": {},
     "output_type": "execute_result"
    },
    {
     "name": "stderr",
     "output_type": "stream",
     "text": [
      "\r",
      "118it [00:15,  6.24it/s]"
     ]
    },
    {
     "data": {
      "text/plain": [
       "(118,\n",
       " name        wc-4C.wav\n",
       " target              1\n",
       " category           wc\n",
       " Name: 118, dtype: object)"
      ]
     },
     "execution_count": 23,
     "metadata": {},
     "output_type": "execute_result"
    },
    {
     "data": {
      "text/plain": [
       "22050"
      ]
     },
     "execution_count": 23,
     "metadata": {},
     "output_type": "execute_result"
    },
    {
     "name": "stderr",
     "output_type": "stream",
     "text": [
      "\r",
      "119it [00:15,  6.23it/s]"
     ]
    },
    {
     "data": {
      "text/plain": [
       "(119,\n",
       " name        wc-4D.wav\n",
       " target              1\n",
       " category           wc\n",
       " Name: 119, dtype: object)"
      ]
     },
     "execution_count": 23,
     "metadata": {},
     "output_type": "execute_result"
    },
    {
     "data": {
      "text/plain": [
       "22050"
      ]
     },
     "execution_count": 23,
     "metadata": {},
     "output_type": "execute_result"
    },
    {
     "name": "stderr",
     "output_type": "stream",
     "text": [
      "120it [00:16,  7.47it/s]\n"
     ]
    },
    {
     "data": {
      "text/plain": [
       "(120, 13, 130, 1)"
      ]
     },
     "execution_count": 23,
     "metadata": {},
     "output_type": "execute_result"
    },
    {
     "data": {
      "text/plain": [
       "(120, 6)"
      ]
     },
     "execution_count": 23,
     "metadata": {},
     "output_type": "execute_result"
    }
   ],
   "source": [
    "X , y = [] , []\n",
    "for data in tqdm(df.iterrows()):\n",
    "  data  \n",
    "  sig , sr = librosa.load(DATA_PATH+data[1][0])\n",
    "  sr\n",
    "  mfcc_ = librosa.feature.mfcc(sig , sr=sr, n_mfcc=13)\n",
    "  X.append(mfcc_)\n",
    "  y.append(data[1][1])\n",
    "\n",
    "# convert list to numpy array\n",
    "X = np.array(X) \n",
    "y = np.array(y)\n",
    "\n",
    "#one-hot encoding the target\n",
    "y = tf.keras.utils.to_categorical(y , num_classes=6)\n",
    "\n",
    "# our tensorflow model takes input as (no_of_sample , height , width , channel).\n",
    "# here X has dimension (no_of_sample , height , width).\n",
    "# So, the below code will reshape it to (no_of_sample , height , width , 1).\n",
    "X = X.reshape(X.shape[0], X.shape[1], X.shape[2], 1)\n",
    "X.shape\n",
    "y.shape\n"
   ]
  },
  {
   "cell_type": "code",
   "execution_count": 25,
   "metadata": {},
   "outputs": [
    {
     "name": "stdout",
     "output_type": "stream",
     "text": [
      "Model: \"sequential_1\"\n",
      "_________________________________________________________________\n",
      "Layer (type)                 Output Shape              Param #   \n",
      "=================================================================\n",
      "conv2d_6 (Conv2D)            (None, 11, 128, 16)       160       \n",
      "_________________________________________________________________\n",
      "conv2d_7 (Conv2D)            (None, 9, 126, 16)        2320      \n",
      "_________________________________________________________________\n",
      "conv2d_8 (Conv2D)            (None, 7, 124, 32)        4640      \n",
      "_________________________________________________________________\n",
      "conv2d_9 (Conv2D)            (None, 5, 122, 64)        18496     \n",
      "_________________________________________________________________\n",
      "conv2d_10 (Conv2D)           (None, 3, 120, 128)       73856     \n",
      "_________________________________________________________________\n",
      "conv2d_11 (Conv2D)           (None, 1, 118, 256)       295168    \n",
      "_________________________________________________________________\n",
      "global_average_pooling2d_1 ( (None, 256)               0         \n",
      "_________________________________________________________________\n",
      "dense_2 (Dense)              (None, 1024)              263168    \n",
      "_________________________________________________________________\n",
      "dense_3 (Dense)              (None, 6)                 6150      \n",
      "=================================================================\n",
      "Total params: 663,958\n",
      "Trainable params: 663,958\n",
      "Non-trainable params: 0\n",
      "_________________________________________________________________\n"
     ]
    }
   ],
   "source": [
    "\n",
    "x_train , x_val , y_train , y_val = train_test_split(X , y ,test_size=0.2, random_state=2020)\n",
    "\n",
    "INPUTSHAPE = (13,130,1)\n",
    "\n",
    "model =  models.Sequential([\n",
    "                          layers.Conv2D(16 , (3,3),activation = 'relu',padding='valid', input_shape = INPUTSHAPE),\n",
    "                          layers.Conv2D(16, (3,3), activation='relu',padding='valid'),\n",
    "\n",
    "                          layers.Conv2D(32, (3,3), activation='relu',padding='valid'),\n",
    "                          layers.Conv2D(64, (3,3), activation='relu',padding='valid'),\n",
    "\n",
    "                          layers.Conv2D(128, (3,3), activation='relu',padding='valid'),\n",
    "                          layers.Conv2D(256, (3,3), activation='relu',padding='valid'),\n",
    "                          layers.GlobalAveragePooling2D(),\n",
    "\n",
    "\n",
    "                          layers.Dense(1024 , activation = 'relu'),\n",
    "                          layers.Dense(6 , activation = 'softmax')\n",
    "])\n",
    "\n",
    "model.compile(loss = 'categorical_crossentropy', optimizer = 'adam', metrics = 'acc')\n",
    "\n",
    "model.summary()\n"
   ]
  },
  {
   "cell_type": "code",
   "execution_count": 26,
   "metadata": {},
   "outputs": [
    {
     "name": "stdout",
     "output_type": "stream",
     "text": [
      "Epoch 1/40\n",
      "3/3 [==============================] - 1s 257ms/step - loss: 1.7100 - acc: 0.2682 - val_loss: 1.6561 - val_acc: 0.2083\n",
      "Epoch 2/40\n",
      "3/3 [==============================] - 1s 183ms/step - loss: 1.3313 - acc: 0.3724 - val_loss: 1.1642 - val_acc: 0.5417\n",
      "Epoch 3/40\n",
      "3/3 [==============================] - 0s 169ms/step - loss: 0.7486 - acc: 0.7005 - val_loss: 0.6720 - val_acc: 0.8750\n",
      "Epoch 4/40\n",
      "3/3 [==============================] - 0s 170ms/step - loss: 0.4871 - acc: 0.8151 - val_loss: 0.8422 - val_acc: 0.6667\n",
      "Epoch 5/40\n",
      "3/3 [==============================] - 1s 230ms/step - loss: 0.5429 - acc: 0.7747 - val_loss: 0.8258 - val_acc: 0.7917\n",
      "Epoch 6/40\n",
      "3/3 [==============================] - 1s 195ms/step - loss: 0.3404 - acc: 0.8385 - val_loss: 0.5551 - val_acc: 0.8750\n",
      "Epoch 7/40\n",
      "3/3 [==============================] - 0s 180ms/step - loss: 0.2321 - acc: 0.8893 - val_loss: 0.6145 - val_acc: 0.8750\n",
      "Epoch 8/40\n",
      "3/3 [==============================] - 0s 175ms/step - loss: 0.1120 - acc: 0.9779 - val_loss: 0.5243 - val_acc: 0.9167\n",
      "Epoch 9/40\n",
      "3/3 [==============================] - 0s 178ms/step - loss: 0.1188 - acc: 0.9583 - val_loss: 0.6631 - val_acc: 0.8750\n",
      "Epoch 10/40\n",
      "3/3 [==============================] - 1s 181ms/step - loss: 0.0362 - acc: 1.0000 - val_loss: 1.0965 - val_acc: 0.8333\n",
      "Epoch 11/40\n",
      "3/3 [==============================] - 0s 174ms/step - loss: 0.0934 - acc: 0.9688 - val_loss: 0.7981 - val_acc: 0.8750\n",
      "Epoch 12/40\n",
      "3/3 [==============================] - 0s 170ms/step - loss: 0.0106 - acc: 1.0000 - val_loss: 0.6078 - val_acc: 0.8750\n",
      "Epoch 13/40\n",
      "3/3 [==============================] - 0s 178ms/step - loss: 0.0191 - acc: 0.9948 - val_loss: 0.6586 - val_acc: 0.8750\n",
      "Epoch 14/40\n",
      "3/3 [==============================] - 1s 175ms/step - loss: 0.0197 - acc: 0.9948 - val_loss: 0.9271 - val_acc: 0.8333\n",
      "Epoch 15/40\n",
      "3/3 [==============================] - 0s 175ms/step - loss: 0.0224 - acc: 0.9909 - val_loss: 1.0555 - val_acc: 0.8750\n",
      "Epoch 16/40\n",
      "3/3 [==============================] - 1s 232ms/step - loss: 0.0684 - acc: 0.9661 - val_loss: 1.1116 - val_acc: 0.8750\n",
      "Epoch 17/40\n",
      "3/3 [==============================] - 0s 170ms/step - loss: 0.0083 - acc: 1.0000 - val_loss: 1.2343 - val_acc: 0.8333\n",
      "Epoch 18/40\n",
      "3/3 [==============================] - 0s 175ms/step - loss: 0.0536 - acc: 0.9661 - val_loss: 1.3263 - val_acc: 0.7917\n",
      "Epoch 19/40\n",
      "3/3 [==============================] - 1s 188ms/step - loss: 0.0743 - acc: 0.9583 - val_loss: 1.1783 - val_acc: 0.8750\n",
      "Epoch 20/40\n",
      "3/3 [==============================] - 1s 204ms/step - loss: 0.0137 - acc: 1.0000 - val_loss: 2.3791 - val_acc: 0.6667\n",
      "Epoch 21/40\n",
      "3/3 [==============================] - 1s 181ms/step - loss: 0.7039 - acc: 0.8815 - val_loss: 1.0140 - val_acc: 0.8750\n",
      "Epoch 22/40\n",
      "3/3 [==============================] - 0s 172ms/step - loss: 0.3190 - acc: 0.9115 - val_loss: 0.9246 - val_acc: 0.8750\n",
      "Epoch 23/40\n",
      "3/3 [==============================] - 1s 181ms/step - loss: 0.0675 - acc: 0.9727 - val_loss: 0.7889 - val_acc: 0.8750\n",
      "Epoch 24/40\n",
      "3/3 [==============================] - 1s 190ms/step - loss: 0.1309 - acc: 0.9440 - val_loss: 0.9371 - val_acc: 0.8750\n",
      "Epoch 25/40\n",
      "3/3 [==============================] - 0s 181ms/step - loss: 0.1365 - acc: 0.9544 - val_loss: 0.9068 - val_acc: 0.8750\n",
      "Epoch 26/40\n",
      "3/3 [==============================] - 0s 170ms/step - loss: 0.0585 - acc: 0.9740 - val_loss: 0.8321 - val_acc: 0.8333\n",
      "Epoch 27/40\n",
      "3/3 [==============================] - 1s 187ms/step - loss: 0.0389 - acc: 0.9948 - val_loss: 0.9675 - val_acc: 0.8750\n",
      "Epoch 28/40\n",
      "3/3 [==============================] - 0s 170ms/step - loss: 0.0740 - acc: 0.9831 - val_loss: 1.0999 - val_acc: 0.8750\n",
      "Epoch 29/40\n",
      "3/3 [==============================] - 1s 177ms/step - loss: 0.0389 - acc: 1.0000 - val_loss: 1.0860 - val_acc: 0.8750\n",
      "Epoch 30/40\n",
      "3/3 [==============================] - 1s 183ms/step - loss: 0.0143 - acc: 1.0000 - val_loss: 0.9298 - val_acc: 0.8333\n",
      "Epoch 31/40\n",
      "3/3 [==============================] - 0s 170ms/step - loss: 0.0048 - acc: 1.0000 - val_loss: 0.9223 - val_acc: 0.8750\n",
      "Epoch 32/40\n",
      "3/3 [==============================] - 1s 177ms/step - loss: 0.0057 - acc: 1.0000 - val_loss: 0.9197 - val_acc: 0.8750\n",
      "Epoch 33/40\n",
      "3/3 [==============================] - 1s 181ms/step - loss: 0.0046 - acc: 1.0000 - val_loss: 0.8350 - val_acc: 0.8333\n",
      "Epoch 34/40\n",
      "3/3 [==============================] - 0s 174ms/step - loss: 0.0021 - acc: 1.0000 - val_loss: 0.8254 - val_acc: 0.8333\n",
      "Epoch 35/40\n",
      "3/3 [==============================] - 1s 178ms/step - loss: 0.0010 - acc: 1.0000 - val_loss: 0.8494 - val_acc: 0.8333\n",
      "Epoch 36/40\n",
      "3/3 [==============================] - 1s 180ms/step - loss: 9.4354e-04 - acc: 1.0000 - val_loss: 0.8757 - val_acc: 0.8750\n",
      "Epoch 37/40\n",
      "3/3 [==============================] - 1s 172ms/step - loss: 8.8701e-04 - acc: 1.0000 - val_loss: 0.8927 - val_acc: 0.8750\n",
      "Epoch 38/40\n",
      "3/3 [==============================] - 1s 236ms/step - loss: 7.2510e-04 - acc: 1.0000 - val_loss: 0.8998 - val_acc: 0.8750\n",
      "Epoch 39/40\n",
      "3/3 [==============================] - 1s 181ms/step - loss: 7.9401e-04 - acc: 1.0000 - val_loss: 0.8963 - val_acc: 0.8750\n",
      "Epoch 40/40\n",
      "3/3 [==============================] - 0s 175ms/step - loss: 3.5150e-04 - acc: 1.0000 - val_loss: 0.8894 - val_acc: 0.8750\n"
     ]
    }
   ],
   "source": [
    "LOGDIR = \"logs\"\n",
    "CPKT = \"cpkt/\"\n",
    "\n",
    "#this callback is used to prevent overfitting.\n",
    "callback_1 = tf.keras.callbacks.EarlyStopping(\n",
    "    monitor='val_loss', min_delta=0, patience=3, verbose=0, mode='auto',\n",
    "    baseline=None, restore_best_weights=False\n",
    ")\n",
    "\n",
    "#this checkpoint saves the best weights of model at every epoch\n",
    "callback_2 = tf.keras.callbacks.ModelCheckpoint(\n",
    "    CPKT, monitor='val_loss', verbose=0, save_best_only=True,\n",
    "    save_weights_only=True, mode='auto', save_freq='epoch', options=None\n",
    ")\n",
    "\n",
    "#this is for tensorboard\n",
    "tensorboard_callback = tf.keras.callbacks.TensorBoard(log_dir=LOGDIR)\n",
    "\n",
    "\n",
    "history = model.fit(x_train,y_train ,\n",
    "            validation_data=(x_val,y_val),\n",
    "            epochs=40)\n",
    "# Guardar el Modelo\n",
    "model.save('my_model.h5')\n",
    "\n"
   ]
  },
  {
   "cell_type": "code",
   "execution_count": null,
   "metadata": {},
   "outputs": [],
   "source": []
  },
  {
   "cell_type": "code",
   "execution_count": 27,
   "metadata": {},
   "outputs": [
    {
     "data": {
      "text/plain": [
       "'silence'"
      ]
     },
     "execution_count": 27,
     "metadata": {},
     "output_type": "execute_result"
    },
    {
     "data": {
      "text/plain": [
       "'other'"
      ]
     },
     "execution_count": 27,
     "metadata": {},
     "output_type": "execute_result"
    },
    {
     "data": {
      "text/plain": [
       "'other'"
      ]
     },
     "execution_count": 27,
     "metadata": {},
     "output_type": "execute_result"
    },
    {
     "data": {
      "text/plain": [
       "'other'"
      ]
     },
     "execution_count": 27,
     "metadata": {},
     "output_type": "execute_result"
    },
    {
     "data": {
      "text/plain": [
       "'other'"
      ]
     },
     "execution_count": 27,
     "metadata": {},
     "output_type": "execute_result"
    },
    {
     "data": {
      "text/plain": [
       "'other'"
      ]
     },
     "execution_count": 27,
     "metadata": {},
     "output_type": "execute_result"
    },
    {
     "data": {
      "text/plain": [
       "'wc'"
      ]
     },
     "execution_count": 27,
     "metadata": {},
     "output_type": "execute_result"
    },
    {
     "data": {
      "text/plain": [
       "'wc'"
      ]
     },
     "execution_count": 27,
     "metadata": {},
     "output_type": "execute_result"
    },
    {
     "data": {
      "text/plain": [
       "'wc'"
      ]
     },
     "execution_count": 27,
     "metadata": {},
     "output_type": "execute_result"
    },
    {
     "data": {
      "text/plain": [
       "'wc'"
      ]
     },
     "execution_count": 27,
     "metadata": {},
     "output_type": "execute_result"
    },
    {
     "data": {
      "text/plain": [
       "'wc'"
      ]
     },
     "execution_count": 27,
     "metadata": {},
     "output_type": "execute_result"
    },
    {
     "data": {
      "text/plain": [
       "'wc'"
      ]
     },
     "execution_count": 27,
     "metadata": {},
     "output_type": "execute_result"
    },
    {
     "data": {
      "text/plain": [
       "'wc'"
      ]
     },
     "execution_count": 27,
     "metadata": {},
     "output_type": "execute_result"
    },
    {
     "data": {
      "text/plain": [
       "'wc'"
      ]
     },
     "execution_count": 27,
     "metadata": {},
     "output_type": "execute_result"
    },
    {
     "data": {
      "text/plain": [
       "'wc'"
      ]
     },
     "execution_count": 27,
     "metadata": {},
     "output_type": "execute_result"
    },
    {
     "data": {
      "text/plain": [
       "'wc'"
      ]
     },
     "execution_count": 27,
     "metadata": {},
     "output_type": "execute_result"
    },
    {
     "data": {
      "text/plain": [
       "'other'"
      ]
     },
     "execution_count": 27,
     "metadata": {},
     "output_type": "execute_result"
    },
    {
     "data": {
      "text/plain": [
       "'other'"
      ]
     },
     "execution_count": 27,
     "metadata": {},
     "output_type": "execute_result"
    },
    {
     "data": {
      "text/plain": [
       "'other'"
      ]
     },
     "execution_count": 27,
     "metadata": {},
     "output_type": "execute_result"
    },
    {
     "data": {
      "text/plain": [
       "'other'"
      ]
     },
     "execution_count": 27,
     "metadata": {},
     "output_type": "execute_result"
    },
    {
     "data": {
      "text/plain": [
       "'tap'"
      ]
     },
     "execution_count": 27,
     "metadata": {},
     "output_type": "execute_result"
    },
    {
     "data": {
      "text/plain": [
       "'tap'"
      ]
     },
     "execution_count": 27,
     "metadata": {},
     "output_type": "execute_result"
    },
    {
     "data": {
      "text/plain": [
       "'other'"
      ]
     },
     "execution_count": 27,
     "metadata": {},
     "output_type": "execute_result"
    },
    {
     "data": {
      "text/plain": [
       "'dryer'"
      ]
     },
     "execution_count": 27,
     "metadata": {},
     "output_type": "execute_result"
    },
    {
     "data": {
      "text/plain": [
       "'wc'"
      ]
     },
     "execution_count": 27,
     "metadata": {},
     "output_type": "execute_result"
    },
    {
     "data": {
      "text/plain": [
       "'other'"
      ]
     },
     "execution_count": 27,
     "metadata": {},
     "output_type": "execute_result"
    },
    {
     "data": {
      "text/plain": [
       "'other'"
      ]
     },
     "execution_count": 27,
     "metadata": {},
     "output_type": "execute_result"
    },
    {
     "data": {
      "text/plain": [
       "'bash'"
      ]
     },
     "execution_count": 27,
     "metadata": {},
     "output_type": "execute_result"
    },
    {
     "data": {
      "text/plain": [
       "'bash'"
      ]
     },
     "execution_count": 27,
     "metadata": {},
     "output_type": "execute_result"
    },
    {
     "data": {
      "text/plain": [
       "'bash'"
      ]
     },
     "execution_count": 27,
     "metadata": {},
     "output_type": "execute_result"
    },
    {
     "data": {
      "text/plain": [
       "'other'"
      ]
     },
     "execution_count": 27,
     "metadata": {},
     "output_type": "execute_result"
    },
    {
     "data": {
      "text/plain": [
       "'other'"
      ]
     },
     "execution_count": 27,
     "metadata": {},
     "output_type": "execute_result"
    },
    {
     "data": {
      "text/plain": [
       "'other'"
      ]
     },
     "execution_count": 27,
     "metadata": {},
     "output_type": "execute_result"
    },
    {
     "data": {
      "text/plain": [
       "'other'"
      ]
     },
     "execution_count": 27,
     "metadata": {},
     "output_type": "execute_result"
    },
    {
     "data": {
      "text/plain": [
       "'other'"
      ]
     },
     "execution_count": 27,
     "metadata": {},
     "output_type": "execute_result"
    },
    {
     "data": {
      "text/plain": [
       "'other'"
      ]
     },
     "execution_count": 27,
     "metadata": {},
     "output_type": "execute_result"
    },
    {
     "data": {
      "text/plain": [
       "'other'"
      ]
     },
     "execution_count": 27,
     "metadata": {},
     "output_type": "execute_result"
    },
    {
     "data": {
      "text/plain": [
       "'tap'"
      ]
     },
     "execution_count": 27,
     "metadata": {},
     "output_type": "execute_result"
    },
    {
     "data": {
      "text/plain": [
       "'other'"
      ]
     },
     "execution_count": 27,
     "metadata": {},
     "output_type": "execute_result"
    },
    {
     "data": {
      "text/plain": [
       "'other'"
      ]
     },
     "execution_count": 27,
     "metadata": {},
     "output_type": "execute_result"
    }
   ],
   "source": [
    "import sounddevice as sd\n",
    "from scipy.io.wavfile import write\n",
    "from IPython.display import clear_output\n",
    "fs = 44100  # Sample rate\n",
    "seconds = 3  # Duration of recording\n",
    "\n",
    "new_model = models.load_model('my_model.h5')\n",
    "\n",
    "def getLabel(i):\n",
    "    if i==0:\n",
    "        return \"silence\"\n",
    "    if i==1:\n",
    "        return \"wc\"\n",
    "    if i==2:\n",
    "        return \"tap\"\n",
    "    if i==3:\n",
    "        return \"bash\"\n",
    "    if i==4:\n",
    "        return \"dryer\"\n",
    "    if i==5:\n",
    "        return \"other\"\n",
    "    return \"na\"\n",
    "\n",
    "for x in range(40):\n",
    "    myrecording = sd.rec(int(seconds * fs), samplerate=fs, channels=2)\n",
    "    sd.wait()  # Wait until recording is finished\n",
    "    write('temp.wav', fs, myrecording)  # Save as WAV file \n",
    "\n",
    "\n",
    "    sig_temp , sr = librosa.load('temp.wav')\n",
    "    mfcc_temp = librosa.feature.mfcc(sig_temp , sr=sr, n_mfcc=13)\n",
    "    X_temp=[]\n",
    "    X_temp.append(mfcc_temp)\n",
    "    X_temp = np.array(X_temp) \n",
    "    X_temp = X_temp.reshape(X_temp.shape[0], X_temp.shape[1], X_temp.shape[2], 1)\n",
    "    Y_temp=new_model.predict(X_temp)\n",
    "    getLabel(np.argmax(Y_temp))\n",
    "    "
   ]
  },
  {
   "cell_type": "code",
   "execution_count": null,
   "metadata": {},
   "outputs": [],
   "source": []
  },
  {
   "cell_type": "code",
   "execution_count": null,
   "metadata": {},
   "outputs": [],
   "source": []
  },
  {
   "cell_type": "code",
   "execution_count": null,
   "metadata": {},
   "outputs": [],
   "source": []
  }
 ],
 "metadata": {
  "kernelspec": {
   "display_name": "Python 3",
   "language": "python",
   "name": "python3"
  },
  "language_info": {
   "codemirror_mode": {
    "name": "ipython",
    "version": 3
   },
   "file_extension": ".py",
   "mimetype": "text/x-python",
   "name": "python",
   "nbconvert_exporter": "python",
   "pygments_lexer": "ipython3",
   "version": "3.8.5"
  }
 },
 "nbformat": 4,
 "nbformat_minor": 4
}
