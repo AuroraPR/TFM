{
 "cells": [
  {
   "cell_type": "code",
   "execution_count": 1,
   "metadata": {},
   "outputs": [
    {
     "ename": "ModuleNotFoundError",
     "evalue": "No module named 'librosa'",
     "output_type": "error",
     "traceback": [
      "\u001b[1;31m---------------------------------------------------------------------------\u001b[0m",
      "\u001b[1;31mModuleNotFoundError\u001b[0m                       Traceback (most recent call last)",
      "\u001b[1;32m<ipython-input-1-2122874f523c>\u001b[0m in \u001b[0;36m<module>\u001b[1;34m\u001b[0m\n\u001b[0;32m      1\u001b[0m \u001b[1;32mimport\u001b[0m \u001b[0mpandas\u001b[0m \u001b[1;32mas\u001b[0m \u001b[0mpd\u001b[0m\u001b[1;33m\u001b[0m\u001b[1;33m\u001b[0m\u001b[0m\n\u001b[0;32m      2\u001b[0m \u001b[1;32mimport\u001b[0m \u001b[0mmatplotlib\u001b[0m\u001b[1;33m.\u001b[0m\u001b[0mpyplot\u001b[0m \u001b[1;32mas\u001b[0m \u001b[0mplt\u001b[0m\u001b[1;33m\u001b[0m\u001b[1;33m\u001b[0m\u001b[0m\n\u001b[1;32m----> 3\u001b[1;33m \u001b[1;32mimport\u001b[0m \u001b[0mlibrosa\u001b[0m\u001b[1;33m\u001b[0m\u001b[1;33m\u001b[0m\u001b[0m\n\u001b[0m\u001b[0;32m      4\u001b[0m \u001b[1;32mimport\u001b[0m \u001b[0mlibrosa\u001b[0m\u001b[1;33m.\u001b[0m\u001b[0mdisplay\u001b[0m\u001b[1;33m\u001b[0m\u001b[1;33m\u001b[0m\u001b[0m\n\u001b[0;32m      5\u001b[0m \u001b[1;32mfrom\u001b[0m \u001b[0mtqdm\u001b[0m \u001b[1;32mimport\u001b[0m \u001b[0mtqdm\u001b[0m\u001b[1;33m\u001b[0m\u001b[1;33m\u001b[0m\u001b[0m\n",
      "\u001b[1;31mModuleNotFoundError\u001b[0m: No module named 'librosa'"
     ]
    }
   ],
   "source": [
    "import pandas as pd\n",
    "import matplotlib.pyplot as plt\n",
    "import librosa\n",
    "import librosa.display\n",
    "from tqdm import tqdm\n",
    "import numpy as np\n",
    "from sklearn.model_selection import train_test_split\n",
    "import tensorflow as tf\n",
    "import tensorflow.keras.models as models\n",
    "import tensorflow.keras.layers as layers\n",
    "\n",
    "from IPython.core.interactiveshell import InteractiveShell\n",
    "InteractiveShell.ast_node_interactivity = \"all\"\n",
    "\n",
    "CSV_FILE_PATH = \"./wc_audio/audio_wc.csv\"  # path of csv file\n",
    "DATA_PATH = \"./wc_audio/sounds/\" # path to folde\n"
   ]
  },
  {
   "cell_type": "code",
   "execution_count": 2,
   "metadata": {},
   "outputs": [
    {
     "data": {
      "text/html": [
       "<div>\n",
       "<style scoped>\n",
       "    .dataframe tbody tr th:only-of-type {\n",
       "        vertical-align: middle;\n",
       "    }\n",
       "\n",
       "    .dataframe tbody tr th {\n",
       "        vertical-align: top;\n",
       "    }\n",
       "\n",
       "    .dataframe thead th {\n",
       "        text-align: right;\n",
       "    }\n",
       "</style>\n",
       "<table border=\"1\" class=\"dataframe\">\n",
       "  <thead>\n",
       "    <tr style=\"text-align: right;\">\n",
       "      <th></th>\n",
       "      <th>name</th>\n",
       "      <th>target</th>\n",
       "      <th>category</th>\n",
       "    </tr>\n",
       "  </thead>\n",
       "  <tbody>\n",
       "    <tr>\n",
       "      <th>0</th>\n",
       "      <td>bash-0.wav</td>\n",
       "      <td>3</td>\n",
       "      <td>bash</td>\n",
       "    </tr>\n",
       "    <tr>\n",
       "      <th>1</th>\n",
       "      <td>bash-1.wav</td>\n",
       "      <td>3</td>\n",
       "      <td>bash</td>\n",
       "    </tr>\n",
       "    <tr>\n",
       "      <th>2</th>\n",
       "      <td>bash-10.wav</td>\n",
       "      <td>3</td>\n",
       "      <td>bash</td>\n",
       "    </tr>\n",
       "    <tr>\n",
       "      <th>3</th>\n",
       "      <td>bash-11.wav</td>\n",
       "      <td>3</td>\n",
       "      <td>bash</td>\n",
       "    </tr>\n",
       "    <tr>\n",
       "      <th>4</th>\n",
       "      <td>bash-12.wav</td>\n",
       "      <td>3</td>\n",
       "      <td>bash</td>\n",
       "    </tr>\n",
       "    <tr>\n",
       "      <th>...</th>\n",
       "      <td>...</td>\n",
       "      <td>...</td>\n",
       "      <td>...</td>\n",
       "    </tr>\n",
       "    <tr>\n",
       "      <th>110</th>\n",
       "      <td>wc-2C.wav</td>\n",
       "      <td>1</td>\n",
       "      <td>wc</td>\n",
       "    </tr>\n",
       "    <tr>\n",
       "      <th>111</th>\n",
       "      <td>wc-2D.wav</td>\n",
       "      <td>1</td>\n",
       "      <td>wc</td>\n",
       "    </tr>\n",
       "    <tr>\n",
       "      <th>112</th>\n",
       "      <td>wc-3A.wav</td>\n",
       "      <td>1</td>\n",
       "      <td>wc</td>\n",
       "    </tr>\n",
       "    <tr>\n",
       "      <th>113</th>\n",
       "      <td>wc-3B.wav</td>\n",
       "      <td>1</td>\n",
       "      <td>wc</td>\n",
       "    </tr>\n",
       "    <tr>\n",
       "      <th>114</th>\n",
       "      <td>wc-3C.wav</td>\n",
       "      <td>1</td>\n",
       "      <td>wc</td>\n",
       "    </tr>\n",
       "  </tbody>\n",
       "</table>\n",
       "<p>115 rows × 3 columns</p>\n",
       "</div>"
      ],
      "text/plain": [
       "            name  target category\n",
       "0     bash-0.wav       3     bash\n",
       "1     bash-1.wav       3     bash\n",
       "2    bash-10.wav       3     bash\n",
       "3    bash-11.wav       3     bash\n",
       "4    bash-12.wav       3     bash\n",
       "..           ...     ...      ...\n",
       "110    wc-2C.wav       1       wc\n",
       "111    wc-2D.wav       1       wc\n",
       "112    wc-3A.wav       1       wc\n",
       "113    wc-3B.wav       1       wc\n",
       "114    wc-3C.wav       1       wc\n",
       "\n",
       "[115 rows x 3 columns]"
      ]
     },
     "execution_count": 2,
     "metadata": {},
     "output_type": "execute_result"
    }
   ],
   "source": [
    "df = pd.read_csv(CSV_FILE_PATH)\n",
    "df\n"
   ]
  },
  {
   "cell_type": "code",
   "execution_count": 3,
   "metadata": {},
   "outputs": [
    {
     "data": {
      "text/html": [
       "<div>\n",
       "<style scoped>\n",
       "    .dataframe tbody tr th:only-of-type {\n",
       "        vertical-align: middle;\n",
       "    }\n",
       "\n",
       "    .dataframe tbody tr th {\n",
       "        vertical-align: top;\n",
       "    }\n",
       "\n",
       "    .dataframe thead th {\n",
       "        text-align: right;\n",
       "    }\n",
       "</style>\n",
       "<table border=\"1\" class=\"dataframe\">\n",
       "  <thead>\n",
       "    <tr style=\"text-align: right;\">\n",
       "      <th></th>\n",
       "      <th>name</th>\n",
       "      <th>target</th>\n",
       "      <th>category</th>\n",
       "    </tr>\n",
       "  </thead>\n",
       "  <tbody>\n",
       "    <tr>\n",
       "      <th>0</th>\n",
       "      <td>bash-0.wav</td>\n",
       "      <td>3</td>\n",
       "      <td>bash</td>\n",
       "    </tr>\n",
       "    <tr>\n",
       "      <th>20</th>\n",
       "      <td>dryer-0.wav</td>\n",
       "      <td>4</td>\n",
       "      <td>dryer</td>\n",
       "    </tr>\n",
       "    <tr>\n",
       "      <th>40</th>\n",
       "      <td>other-0.wav</td>\n",
       "      <td>5</td>\n",
       "      <td>other</td>\n",
       "    </tr>\n",
       "    <tr>\n",
       "      <th>60</th>\n",
       "      <td>silence-0.wav</td>\n",
       "      <td>0</td>\n",
       "      <td>silence</td>\n",
       "    </tr>\n",
       "    <tr>\n",
       "      <th>80</th>\n",
       "      <td>tap-0.wav</td>\n",
       "      <td>2</td>\n",
       "      <td>tap</td>\n",
       "    </tr>\n",
       "    <tr>\n",
       "      <th>100</th>\n",
       "      <td>wc-0A.wav</td>\n",
       "      <td>1</td>\n",
       "      <td>wc</td>\n",
       "    </tr>\n",
       "  </tbody>\n",
       "</table>\n",
       "</div>"
      ],
      "text/plain": [
       "              name  target category\n",
       "0       bash-0.wav       3     bash\n",
       "20     dryer-0.wav       4    dryer\n",
       "40     other-0.wav       5    other\n",
       "60   silence-0.wav       0  silence\n",
       "80       tap-0.wav       2      tap\n",
       "100      wc-0A.wav       1       wc"
      ]
     },
     "execution_count": 3,
     "metadata": {},
     "output_type": "execute_result"
    }
   ],
   "source": [
    "sample_df = df.drop_duplicates(subset=['target'])\n",
    "sample_df"
   ]
  },
  {
   "cell_type": "code",
   "execution_count": 6,
   "metadata": {},
   "outputs": [
    {
     "name": "stderr",
     "output_type": "stream",
     "text": [
      "\r",
      "0it [00:00, ?it/s]"
     ]
    },
    {
     "data": {
      "text/plain": [
       "22050"
      ]
     },
     "execution_count": 6,
     "metadata": {},
     "output_type": "execute_result"
    },
    {
     "name": "stderr",
     "output_type": "stream",
     "text": [
      "\r",
      "1it [00:00,  8.79it/s]"
     ]
    },
    {
     "data": {
      "text/plain": [
       "22050"
      ]
     },
     "execution_count": 6,
     "metadata": {},
     "output_type": "execute_result"
    },
    {
     "name": "stderr",
     "output_type": "stream",
     "text": [
      "\r",
      "2it [00:00,  8.91it/s]"
     ]
    },
    {
     "data": {
      "text/plain": [
       "22050"
      ]
     },
     "execution_count": 6,
     "metadata": {},
     "output_type": "execute_result"
    },
    {
     "name": "stderr",
     "output_type": "stream",
     "text": [
      "\r",
      "3it [00:00,  9.07it/s]"
     ]
    },
    {
     "data": {
      "text/plain": [
       "22050"
      ]
     },
     "execution_count": 6,
     "metadata": {},
     "output_type": "execute_result"
    },
    {
     "data": {
      "text/plain": [
       "22050"
      ]
     },
     "execution_count": 6,
     "metadata": {},
     "output_type": "execute_result"
    },
    {
     "name": "stderr",
     "output_type": "stream",
     "text": [
      "\r",
      "5it [00:00,  9.29it/s]"
     ]
    },
    {
     "data": {
      "text/plain": [
       "22050"
      ]
     },
     "execution_count": 6,
     "metadata": {},
     "output_type": "execute_result"
    },
    {
     "name": "stderr",
     "output_type": "stream",
     "text": [
      "6it [00:00,  9.55it/s]\n"
     ]
    },
    {
     "data": {
      "image/png": "[encoded data removed]",
      "text/plain": [
       "<Figure size 2880x1440 with 10 Axes>"
      ]
     },
     "metadata": {
      "needs_background": "light"
     },
     "output_type": "display_data"
    },
    {
     "data": {
      "image/png": "[encoded data removed]",
      "text/plain": [
       "<Figure size 2880x1440 with 10 Axes>"
      ]
     },
     "metadata": {
      "needs_background": "light"
     },
     "output_type": "display_data"
    },
    {
     "data": {
      "image/png": "[encoded data removed]",
      "text/plain": [
       "<Figure size 2880x1440 with 10 Axes>"
      ]
     },
     "metadata": {
      "needs_background": "light"
     },
     "output_type": "display_data"
    }
   ],
   "source": [
    "signals = {}\n",
    "mel_spectrograms = {}\n",
    "mfccs = {}\n",
    "\n",
    "for row in tqdm(sample_df.iterrows()):  # every row will be like [[index], [filename , target , category]]\n",
    "    signal , rate = librosa.load(DATA_PATH+ row[1][0])\n",
    "    signals[row[1][2]] = signal    # row[1][2] will be the category of that signal. eg. signal[\"dog\"] = signal of dog sound\n",
    "    rate\n",
    "    \n",
    "    mel_spec = librosa.feature.melspectrogram(y=signal , sr=rate ,  n_fft=2048, hop_length=512)\n",
    "    mel_spec = librosa.power_to_db(mel_spec, ref=np.max)  #visualizing mel_spectrogram directly gives black image. So, coverting from power_to_db is required\n",
    "    mel_spectrograms[row[1][2]] = mel_spec\n",
    "    \n",
    "    mfcc = librosa.feature.mfcc(signal , rate , n_mfcc=13, dct_type=3)\n",
    "    mfccs[row[1][2]] = mfcc\n",
    "    \n",
    "def dis_feature(mfccs, cmap=None):\n",
    "    \"\"\"\n",
    "    this function will take the mfcc/mel_spectrogram dictionary and plot the signals\n",
    "    \"\"\"\n",
    "    fig ,axes= plt.subplots(nrows=5 , ncols=2 , sharex=False, sharey=True , figsize=(40,20))\n",
    "    fig.suptitle('mel')\n",
    "    i=0\n",
    "    for x in range(3):\n",
    "        for y in range(2):\n",
    "            axes[x,y].set_title(list(mfccs.keys())[i])\n",
    "            axes[x,y].imshow(list(mfccs.values())[i], cmap=cmap,interpolation='nearest')\n",
    "            axes[x,y].get_xaxis().set_visible(False)\n",
    "            axes[x,y].get_yaxis().set_visible(False)\n",
    "            i+=1\n",
    "            \n",
    "def plot_signal(signal):\n",
    "    \"\"\"\n",
    "    this function will take the signal dictionary and plot the signals\n",
    "    \"\"\"\n",
    "    fig , axes = plt.subplots(nrows=5 , ncols=2 , sharex =False ,sharey=True,\n",
    "                             figsize=(40,20))\n",
    "    fig.suptitle('Time series',size=15)\n",
    "    i=0\n",
    "    for x in range(3):\n",
    "        for y in range(2):\n",
    "            axes[x,y].set_title(list(signal.keys())[i])\n",
    "            axes[x,y].plot(list(signal.values())[i])\n",
    "            axes[x,y].get_xaxis().set_visible(False)\n",
    "            axes[x,y].get_yaxis().set_visible(False)\n",
    "            i +=1\n",
    "\n",
    "plot_signal(signals)\n",
    "dis_feature(mel_spectrograms)\n",
    "dis_feature(mfccs, cmap='hot')"
   ]
  },
  {
   "cell_type": "code",
   "execution_count": 46,
   "metadata": {},
   "outputs": [
    {
     "name": "stderr",
     "output_type": "stream",
     "text": [
      "\r",
      "0it [00:00, ?it/s]"
     ]
    },
    {
     "data": {
      "text/plain": [
       "(0,\n",
       " name        bash-0.wav\n",
       " target               3\n",
       " category          bash\n",
       " Name: 0, dtype: object)"
      ]
     },
     "execution_count": 46,
     "metadata": {},
     "output_type": "execute_result"
    },
    {
     "data": {
      "text/plain": [
       "22050"
      ]
     },
     "execution_count": 46,
     "metadata": {},
     "output_type": "execute_result"
    },
    {
     "name": "stderr",
     "output_type": "stream",
     "text": [
      "\r",
      "1it [00:00,  9.23it/s]"
     ]
    },
    {
     "data": {
      "text/plain": [
       "(1,\n",
       " name        bash-1.wav\n",
       " target               3\n",
       " category          bash\n",
       " Name: 1, dtype: object)"
      ]
     },
     "execution_count": 46,
     "metadata": {},
     "output_type": "execute_result"
    },
    {
     "data": {
      "text/plain": [
       "22050"
      ]
     },
     "execution_count": 46,
     "metadata": {},
     "output_type": "execute_result"
    },
    {
     "data": {
      "text/plain": [
       "(2,\n",
       " name        bash-10.wav\n",
       " target                3\n",
       " category           bash\n",
       " Name: 2, dtype: object)"
      ]
     },
     "execution_count": 46,
     "metadata": {},
     "output_type": "execute_result"
    },
    {
     "data": {
      "text/plain": [
       "22050"
      ]
     },
     "execution_count": 46,
     "metadata": {},
     "output_type": "execute_result"
    },
    {
     "name": "stderr",
     "output_type": "stream",
     "text": [
      "\r",
      "3it [00:00,  9.57it/s]"
     ]
    },
    {
     "data": {
      "text/plain": [
       "(3,\n",
       " name        bash-11.wav\n",
       " target                3\n",
       " category           bash\n",
       " Name: 3, dtype: object)"
      ]
     },
     "execution_count": 46,
     "metadata": {},
     "output_type": "execute_result"
    },
    {
     "data": {
      "text/plain": [
       "22050"
      ]
     },
     "execution_count": 46,
     "metadata": {},
     "output_type": "execute_result"
    },
    {
     "data": {
      "text/plain": [
       "(4,\n",
       " name        bash-12.wav\n",
       " target                3\n",
       " category           bash\n",
       " Name: 4, dtype: object)"
      ]
     },
     "execution_count": 46,
     "metadata": {},
     "output_type": "execute_result"
    },
    {
     "data": {
      "text/plain": [
       "22050"
      ]
     },
     "execution_count": 46,
     "metadata": {},
     "output_type": "execute_result"
    },
    {
     "name": "stderr",
     "output_type": "stream",
     "text": [
      "\r",
      "5it [00:00,  9.84it/s]"
     ]
    },
    {
     "data": {
      "text/plain": [
       "(5,\n",
       " name        bash-13.wav\n",
       " target                3\n",
       " category           bash\n",
       " Name: 5, dtype: object)"
      ]
     },
     "execution_count": 46,
     "metadata": {},
     "output_type": "execute_result"
    },
    {
     "data": {
      "text/plain": [
       "22050"
      ]
     },
     "execution_count": 46,
     "metadata": {},
     "output_type": "execute_result"
    },
    {
     "data": {
      "text/plain": [
       "(6,\n",
       " name        bash-14.wav\n",
       " target                3\n",
       " category           bash\n",
       " Name: 6, dtype: object)"
      ]
     },
     "execution_count": 46,
     "metadata": {},
     "output_type": "execute_result"
    },
    {
     "data": {
      "text/plain": [
       "22050"
      ]
     },
     "execution_count": 46,
     "metadata": {},
     "output_type": "execute_result"
    },
    {
     "name": "stderr",
     "output_type": "stream",
     "text": [
      "\r",
      "7it [00:00, 10.03it/s]"
     ]
    },
    {
     "data": {
      "text/plain": [
       "(7,\n",
       " name        bash-15.wav\n",
       " target                3\n",
       " category           bash\n",
       " Name: 7, dtype: object)"
      ]
     },
     "execution_count": 46,
     "metadata": {},
     "output_type": "execute_result"
    },
    {
     "data": {
      "text/plain": [
       "22050"
      ]
     },
     "execution_count": 46,
     "metadata": {},
     "output_type": "execute_result"
    },
    {
     "data": {
      "text/plain": [
       "(8,\n",
       " name        bash-16.wav\n",
       " target                3\n",
       " category           bash\n",
       " Name: 8, dtype: object)"
      ]
     },
     "execution_count": 46,
     "metadata": {},
     "output_type": "execute_result"
    },
    {
     "data": {
      "text/plain": [
       "22050"
      ]
     },
     "execution_count": 46,
     "metadata": {},
     "output_type": "execute_result"
    },
    {
     "name": "stderr",
     "output_type": "stream",
     "text": [
      "\r",
      "9it [00:00, 10.12it/s]"
     ]
    },
    {
     "data": {
      "text/plain": [
       "(9,\n",
       " name        bash-17.wav\n",
       " target                3\n",
       " category           bash\n",
       " Name: 9, dtype: object)"
      ]
     },
     "execution_count": 46,
     "metadata": {},
     "output_type": "execute_result"
    },
    {
     "data": {
      "text/plain": [
       "22050"
      ]
     },
     "execution_count": 46,
     "metadata": {},
     "output_type": "execute_result"
    },
    {
     "data": {
      "text/plain": [
       "(10,\n",
       " name        bash-18.wav\n",
       " target                3\n",
       " category           bash\n",
       " Name: 10, dtype: object)"
      ]
     },
     "execution_count": 46,
     "metadata": {},
     "output_type": "execute_result"
    },
    {
     "data": {
      "text/plain": [
       "22050"
      ]
     },
     "execution_count": 46,
     "metadata": {},
     "output_type": "execute_result"
    },
    {
     "name": "stderr",
     "output_type": "stream",
     "text": [
      "\r",
      "11it [00:01, 10.14it/s]"
     ]
    },
    {
     "data": {
      "text/plain": [
       "(11,\n",
       " name        bash-19.wav\n",
       " target                3\n",
       " category           bash\n",
       " Name: 11, dtype: object)"
      ]
     },
     "execution_count": 46,
     "metadata": {},
     "output_type": "execute_result"
    },
    {
     "data": {
      "text/plain": [
       "22050"
      ]
     },
     "execution_count": 46,
     "metadata": {},
     "output_type": "execute_result"
    },
    {
     "data": {
      "text/plain": [
       "(12,\n",
       " name        bash-2.wav\n",
       " target               3\n",
       " category          bash\n",
       " Name: 12, dtype: object)"
      ]
     },
     "execution_count": 46,
     "metadata": {},
     "output_type": "execute_result"
    },
    {
     "data": {
      "text/plain": [
       "22050"
      ]
     },
     "execution_count": 46,
     "metadata": {},
     "output_type": "execute_result"
    },
    {
     "name": "stderr",
     "output_type": "stream",
     "text": [
      "\r",
      "13it [00:01, 10.23it/s]"
     ]
    },
    {
     "data": {
      "text/plain": [
       "(13,\n",
       " name        bash-3.wav\n",
       " target               3\n",
       " category          bash\n",
       " Name: 13, dtype: object)"
      ]
     },
     "execution_count": 46,
     "metadata": {},
     "output_type": "execute_result"
    },
    {
     "data": {
      "text/plain": [
       "22050"
      ]
     },
     "execution_count": 46,
     "metadata": {},
     "output_type": "execute_result"
    },
    {
     "data": {
      "text/plain": [
       "(14,\n",
       " name        bash-4.wav\n",
       " target               3\n",
       " category          bash\n",
       " Name: 14, dtype: object)"
      ]
     },
     "execution_count": 46,
     "metadata": {},
     "output_type": "execute_result"
    },
    {
     "data": {
      "text/plain": [
       "22050"
      ]
     },
     "execution_count": 46,
     "metadata": {},
     "output_type": "execute_result"
    },
    {
     "name": "stderr",
     "output_type": "stream",
     "text": [
      "\r",
      "15it [00:01, 10.29it/s]"
     ]
    },
    {
     "data": {
      "text/plain": [
       "(15,\n",
       " name        bash-5.wav\n",
       " target               3\n",
       " category          bash\n",
       " Name: 15, dtype: object)"
      ]
     },
     "execution_count": 46,
     "metadata": {},
     "output_type": "execute_result"
    },
    {
     "data": {
      "text/plain": [
       "22050"
      ]
     },
     "execution_count": 46,
     "metadata": {},
     "output_type": "execute_result"
    },
    {
     "data": {
      "text/plain": [
       "(16,\n",
       " name        bash-6.wav\n",
       " target               3\n",
       " category          bash\n",
       " Name: 16, dtype: object)"
      ]
     },
     "execution_count": 46,
     "metadata": {},
     "output_type": "execute_result"
    },
    {
     "data": {
      "text/plain": [
       "22050"
      ]
     },
     "execution_count": 46,
     "metadata": {},
     "output_type": "execute_result"
    },
    {
     "name": "stderr",
     "output_type": "stream",
     "text": [
      "\r",
      "17it [00:01, 10.31it/s]"
     ]
    },
    {
     "data": {
      "text/plain": [
       "(17,\n",
       " name        bash-7.wav\n",
       " target               3\n",
       " category          bash\n",
       " Name: 17, dtype: object)"
      ]
     },
     "execution_count": 46,
     "metadata": {},
     "output_type": "execute_result"
    },
    {
     "data": {
      "text/plain": [
       "22050"
      ]
     },
     "execution_count": 46,
     "metadata": {},
     "output_type": "execute_result"
    },
    {
     "data": {
      "text/plain": [
       "(18,\n",
       " name        bash-8.wav\n",
       " target               3\n",
       " category          bash\n",
       " Name: 18, dtype: object)"
      ]
     },
     "execution_count": 46,
     "metadata": {},
     "output_type": "execute_result"
    },
    {
     "data": {
      "text/plain": [
       "22050"
      ]
     },
     "execution_count": 46,
     "metadata": {},
     "output_type": "execute_result"
    },
    {
     "name": "stderr",
     "output_type": "stream",
     "text": [
      "\r",
      "19it [00:01, 10.35it/s]"
     ]
    },
    {
     "data": {
      "text/plain": [
       "(19,\n",
       " name        bash-9.wav\n",
       " target               3\n",
       " category          bash\n",
       " Name: 19, dtype: object)"
      ]
     },
     "execution_count": 46,
     "metadata": {},
     "output_type": "execute_result"
    },
    {
     "data": {
      "text/plain": [
       "22050"
      ]
     },
     "execution_count": 46,
     "metadata": {},
     "output_type": "execute_result"
    },
    {
     "data": {
      "text/plain": [
       "(20,\n",
       " name        dryer-0.wav\n",
       " target                4\n",
       " category          dryer\n",
       " Name: 20, dtype: object)"
      ]
     },
     "execution_count": 46,
     "metadata": {},
     "output_type": "execute_result"
    },
    {
     "data": {
      "text/plain": [
       "22050"
      ]
     },
     "execution_count": 46,
     "metadata": {},
     "output_type": "execute_result"
    },
    {
     "name": "stderr",
     "output_type": "stream",
     "text": [
      "\r",
      "21it [00:02, 10.31it/s]"
     ]
    },
    {
     "data": {
      "text/plain": [
       "(21,\n",
       " name        dryer-1.wav\n",
       " target                4\n",
       " category          dryer\n",
       " Name: 21, dtype: object)"
      ]
     },
     "execution_count": 46,
     "metadata": {},
     "output_type": "execute_result"
    },
    {
     "data": {
      "text/plain": [
       "22050"
      ]
     },
     "execution_count": 46,
     "metadata": {},
     "output_type": "execute_result"
    },
    {
     "data": {
      "text/plain": [
       "(22,\n",
       " name        dryer-10.wav\n",
       " target                 4\n",
       " category           dryer\n",
       " Name: 22, dtype: object)"
      ]
     },
     "execution_count": 46,
     "metadata": {},
     "output_type": "execute_result"
    },
    {
     "data": {
      "text/plain": [
       "22050"
      ]
     },
     "execution_count": 46,
     "metadata": {},
     "output_type": "execute_result"
    },
    {
     "name": "stderr",
     "output_type": "stream",
     "text": [
      "\r",
      "23it [00:02, 10.35it/s]"
     ]
    },
    {
     "data": {
      "text/plain": [
       "(23,\n",
       " name        dryer-11.wav\n",
       " target                 4\n",
       " category           dryer\n",
       " Name: 23, dtype: object)"
      ]
     },
     "execution_count": 46,
     "metadata": {},
     "output_type": "execute_result"
    },
    {
     "data": {
      "text/plain": [
       "22050"
      ]
     },
     "execution_count": 46,
     "metadata": {},
     "output_type": "execute_result"
    },
    {
     "data": {
      "text/plain": [
       "(24,\n",
       " name        dryer-12.wav\n",
       " target                 4\n",
       " category           dryer\n",
       " Name: 24, dtype: object)"
      ]
     },
     "execution_count": 46,
     "metadata": {},
     "output_type": "execute_result"
    },
    {
     "data": {
      "text/plain": [
       "22050"
      ]
     },
     "execution_count": 46,
     "metadata": {},
     "output_type": "execute_result"
    },
    {
     "name": "stderr",
     "output_type": "stream",
     "text": [
      "\r",
      "25it [00:02, 10.38it/s]"
     ]
    },
    {
     "data": {
      "text/plain": [
       "(25,\n",
       " name        dryer-13.wav\n",
       " target                 4\n",
       " category           dryer\n",
       " Name: 25, dtype: object)"
      ]
     },
     "execution_count": 46,
     "metadata": {},
     "output_type": "execute_result"
    },
    {
     "data": {
      "text/plain": [
       "22050"
      ]
     },
     "execution_count": 46,
     "metadata": {},
     "output_type": "execute_result"
    },
    {
     "data": {
      "text/plain": [
       "(26,\n",
       " name        dryer-14.wav\n",
       " target                 4\n",
       " category           dryer\n",
       " Name: 26, dtype: object)"
      ]
     },
     "execution_count": 46,
     "metadata": {},
     "output_type": "execute_result"
    },
    {
     "data": {
      "text/plain": [
       "22050"
      ]
     },
     "execution_count": 46,
     "metadata": {},
     "output_type": "execute_result"
    },
    {
     "name": "stderr",
     "output_type": "stream",
     "text": [
      "\r",
      "27it [00:02, 10.43it/s]"
     ]
    },
    {
     "data": {
      "text/plain": [
       "(27,\n",
       " name        dryer-15.wav\n",
       " target                 4\n",
       " category           dryer\n",
       " Name: 27, dtype: object)"
      ]
     },
     "execution_count": 46,
     "metadata": {},
     "output_type": "execute_result"
    },
    {
     "data": {
      "text/plain": [
       "22050"
      ]
     },
     "execution_count": 46,
     "metadata": {},
     "output_type": "execute_result"
    },
    {
     "data": {
      "text/plain": [
       "(28,\n",
       " name        dryer-16.wav\n",
       " target                 4\n",
       " category           dryer\n",
       " Name: 28, dtype: object)"
      ]
     },
     "execution_count": 46,
     "metadata": {},
     "output_type": "execute_result"
    },
    {
     "data": {
      "text/plain": [
       "22050"
      ]
     },
     "execution_count": 46,
     "metadata": {},
     "output_type": "execute_result"
    },
    {
     "name": "stderr",
     "output_type": "stream",
     "text": [
      "\r",
      "29it [00:02, 10.50it/s]"
     ]
    },
    {
     "data": {
      "text/plain": [
       "(29,\n",
       " name        dryer-17.wav\n",
       " target                 4\n",
       " category           dryer\n",
       " Name: 29, dtype: object)"
      ]
     },
     "execution_count": 46,
     "metadata": {},
     "output_type": "execute_result"
    },
    {
     "data": {
      "text/plain": [
       "22050"
      ]
     },
     "execution_count": 46,
     "metadata": {},
     "output_type": "execute_result"
    },
    {
     "data": {
      "text/plain": [
       "(30,\n",
       " name        dryer-18.wav\n",
       " target                 4\n",
       " category           dryer\n",
       " Name: 30, dtype: object)"
      ]
     },
     "execution_count": 46,
     "metadata": {},
     "output_type": "execute_result"
    },
    {
     "data": {
      "text/plain": [
       "22050"
      ]
     },
     "execution_count": 46,
     "metadata": {},
     "output_type": "execute_result"
    },
    {
     "name": "stderr",
     "output_type": "stream",
     "text": [
      "\r",
      "31it [00:02, 10.53it/s]"
     ]
    },
    {
     "data": {
      "text/plain": [
       "(31,\n",
       " name        dryer-19.wav\n",
       " target                 4\n",
       " category           dryer\n",
       " Name: 31, dtype: object)"
      ]
     },
     "execution_count": 46,
     "metadata": {},
     "output_type": "execute_result"
    },
    {
     "data": {
      "text/plain": [
       "22050"
      ]
     },
     "execution_count": 46,
     "metadata": {},
     "output_type": "execute_result"
    },
    {
     "data": {
      "text/plain": [
       "(32,\n",
       " name        dryer-2.wav\n",
       " target                4\n",
       " category          dryer\n",
       " Name: 32, dtype: object)"
      ]
     },
     "execution_count": 46,
     "metadata": {},
     "output_type": "execute_result"
    },
    {
     "data": {
      "text/plain": [
       "22050"
      ]
     },
     "execution_count": 46,
     "metadata": {},
     "output_type": "execute_result"
    },
    {
     "name": "stderr",
     "output_type": "stream",
     "text": [
      "\r",
      "33it [00:03, 10.56it/s]"
     ]
    },
    {
     "data": {
      "text/plain": [
       "(33,\n",
       " name        dryer-3.wav\n",
       " target                4\n",
       " category          dryer\n",
       " Name: 33, dtype: object)"
      ]
     },
     "execution_count": 46,
     "metadata": {},
     "output_type": "execute_result"
    },
    {
     "data": {
      "text/plain": [
       "22050"
      ]
     },
     "execution_count": 46,
     "metadata": {},
     "output_type": "execute_result"
    },
    {
     "data": {
      "text/plain": [
       "(34,\n",
       " name        dryer-4.wav\n",
       " target                4\n",
       " category          dryer\n",
       " Name: 34, dtype: object)"
      ]
     },
     "execution_count": 46,
     "metadata": {},
     "output_type": "execute_result"
    },
    {
     "data": {
      "text/plain": [
       "22050"
      ]
     },
     "execution_count": 46,
     "metadata": {},
     "output_type": "execute_result"
    },
    {
     "name": "stderr",
     "output_type": "stream",
     "text": [
      "\r",
      "35it [00:03, 10.56it/s]"
     ]
    },
    {
     "data": {
      "text/plain": [
       "(35,\n",
       " name        dryer-5.wav\n",
       " target                4\n",
       " category          dryer\n",
       " Name: 35, dtype: object)"
      ]
     },
     "execution_count": 46,
     "metadata": {},
     "output_type": "execute_result"
    },
    {
     "data": {
      "text/plain": [
       "22050"
      ]
     },
     "execution_count": 46,
     "metadata": {},
     "output_type": "execute_result"
    },
    {
     "data": {
      "text/plain": [
       "(36,\n",
       " name        dryer-6.wav\n",
       " target                4\n",
       " category          dryer\n",
       " Name: 36, dtype: object)"
      ]
     },
     "execution_count": 46,
     "metadata": {},
     "output_type": "execute_result"
    },
    {
     "data": {
      "text/plain": [
       "22050"
      ]
     },
     "execution_count": 46,
     "metadata": {},
     "output_type": "execute_result"
    },
    {
     "name": "stderr",
     "output_type": "stream",
     "text": [
      "\r",
      "37it [00:03, 10.09it/s]"
     ]
    },
    {
     "data": {
      "text/plain": [
       "(37,\n",
       " name        dryer-7.wav\n",
       " target                4\n",
       " category          dryer\n",
       " Name: 37, dtype: object)"
      ]
     },
     "execution_count": 46,
     "metadata": {},
     "output_type": "execute_result"
    },
    {
     "data": {
      "text/plain": [
       "22050"
      ]
     },
     "execution_count": 46,
     "metadata": {},
     "output_type": "execute_result"
    },
    {
     "data": {
      "text/plain": [
       "(38,\n",
       " name        dryer-8.wav\n",
       " target                4\n",
       " category          dryer\n",
       " Name: 38, dtype: object)"
      ]
     },
     "execution_count": 46,
     "metadata": {},
     "output_type": "execute_result"
    },
    {
     "data": {
      "text/plain": [
       "22050"
      ]
     },
     "execution_count": 46,
     "metadata": {},
     "output_type": "execute_result"
    },
    {
     "name": "stderr",
     "output_type": "stream",
     "text": [
      "\r",
      "39it [00:03, 10.01it/s]"
     ]
    },
    {
     "data": {
      "text/plain": [
       "(39,\n",
       " name        dryer-9.wav\n",
       " target                4\n",
       " category          dryer\n",
       " Name: 39, dtype: object)"
      ]
     },
     "execution_count": 46,
     "metadata": {},
     "output_type": "execute_result"
    },
    {
     "data": {
      "text/plain": [
       "22050"
      ]
     },
     "execution_count": 46,
     "metadata": {},
     "output_type": "execute_result"
    },
    {
     "data": {
      "text/plain": [
       "(40,\n",
       " name        other-0.wav\n",
       " target                5\n",
       " category          other\n",
       " Name: 40, dtype: object)"
      ]
     },
     "execution_count": 46,
     "metadata": {},
     "output_type": "execute_result"
    },
    {
     "data": {
      "text/plain": [
       "22050"
      ]
     },
     "execution_count": 46,
     "metadata": {},
     "output_type": "execute_result"
    },
    {
     "name": "stderr",
     "output_type": "stream",
     "text": [
      "\r",
      "41it [00:03,  9.94it/s]"
     ]
    },
    {
     "data": {
      "text/plain": [
       "(41,\n",
       " name        other-1.wav\n",
       " target                5\n",
       " category          other\n",
       " Name: 41, dtype: object)"
      ]
     },
     "execution_count": 46,
     "metadata": {},
     "output_type": "execute_result"
    },
    {
     "data": {
      "text/plain": [
       "22050"
      ]
     },
     "execution_count": 46,
     "metadata": {},
     "output_type": "execute_result"
    },
    {
     "name": "stderr",
     "output_type": "stream",
     "text": [
      "\r",
      "42it [00:04,  9.85it/s]"
     ]
    },
    {
     "data": {
      "text/plain": [
       "(42,\n",
       " name        other-10.wav\n",
       " target                 5\n",
       " category           other\n",
       " Name: 42, dtype: object)"
      ]
     },
     "execution_count": 46,
     "metadata": {},
     "output_type": "execute_result"
    },
    {
     "data": {
      "text/plain": [
       "22050"
      ]
     },
     "execution_count": 46,
     "metadata": {},
     "output_type": "execute_result"
    },
    {
     "name": "stderr",
     "output_type": "stream",
     "text": [
      "\r",
      "43it [00:04,  9.73it/s]"
     ]
    },
    {
     "data": {
      "text/plain": [
       "(43,\n",
       " name        other-11.wav\n",
       " target                 5\n",
       " category           other\n",
       " Name: 43, dtype: object)"
      ]
     },
     "execution_count": 46,
     "metadata": {},
     "output_type": "execute_result"
    },
    {
     "data": {
      "text/plain": [
       "22050"
      ]
     },
     "execution_count": 46,
     "metadata": {},
     "output_type": "execute_result"
    },
    {
     "data": {
      "text/plain": [
       "(44,\n",
       " name        other-12.wav\n",
       " target                 5\n",
       " category           other\n",
       " Name: 44, dtype: object)"
      ]
     },
     "execution_count": 46,
     "metadata": {},
     "output_type": "execute_result"
    },
    {
     "data": {
      "text/plain": [
       "22050"
      ]
     },
     "execution_count": 46,
     "metadata": {},
     "output_type": "execute_result"
    },
    {
     "name": "stderr",
     "output_type": "stream",
     "text": [
      "\r",
      "45it [00:04,  9.92it/s]"
     ]
    },
    {
     "data": {
      "text/plain": [
       "(45,\n",
       " name        other-13.wav\n",
       " target                 5\n",
       " category           other\n",
       " Name: 45, dtype: object)"
      ]
     },
     "execution_count": 46,
     "metadata": {},
     "output_type": "execute_result"
    },
    {
     "data": {
      "text/plain": [
       "22050"
      ]
     },
     "execution_count": 46,
     "metadata": {},
     "output_type": "execute_result"
    },
    {
     "name": "stderr",
     "output_type": "stream",
     "text": [
      "\r",
      "46it [00:04,  9.89it/s]"
     ]
    },
    {
     "data": {
      "text/plain": [
       "(46,\n",
       " name        other-14.wav\n",
       " target                 5\n",
       " category           other\n",
       " Name: 46, dtype: object)"
      ]
     },
     "execution_count": 46,
     "metadata": {},
     "output_type": "execute_result"
    },
    {
     "data": {
      "text/plain": [
       "22050"
      ]
     },
     "execution_count": 46,
     "metadata": {},
     "output_type": "execute_result"
    },
    {
     "data": {
      "text/plain": [
       "(47,\n",
       " name        other-15.wav\n",
       " target                 5\n",
       " category           other\n",
       " Name: 47, dtype: object)"
      ]
     },
     "execution_count": 46,
     "metadata": {},
     "output_type": "execute_result"
    },
    {
     "data": {
      "text/plain": [
       "22050"
      ]
     },
     "execution_count": 46,
     "metadata": {},
     "output_type": "execute_result"
    },
    {
     "name": "stderr",
     "output_type": "stream",
     "text": [
      "\r",
      "48it [00:04, 10.02it/s]"
     ]
    },
    {
     "data": {
      "text/plain": [
       "(48,\n",
       " name        other-16.wav\n",
       " target                 5\n",
       " category           other\n",
       " Name: 48, dtype: object)"
      ]
     },
     "execution_count": 46,
     "metadata": {},
     "output_type": "execute_result"
    },
    {
     "data": {
      "text/plain": [
       "22050"
      ]
     },
     "execution_count": 46,
     "metadata": {},
     "output_type": "execute_result"
    },
    {
     "data": {
      "text/plain": [
       "(49,\n",
       " name        other-17.wav\n",
       " target                 5\n",
       " category           other\n",
       " Name: 49, dtype: object)"
      ]
     },
     "execution_count": 46,
     "metadata": {},
     "output_type": "execute_result"
    },
    {
     "data": {
      "text/plain": [
       "22050"
      ]
     },
     "execution_count": 46,
     "metadata": {},
     "output_type": "execute_result"
    },
    {
     "name": "stderr",
     "output_type": "stream",
     "text": [
      "\r",
      "50it [00:04,  9.87it/s]"
     ]
    },
    {
     "data": {
      "text/plain": [
       "(50,\n",
       " name        other-18.wav\n",
       " target                 5\n",
       " category           other\n",
       " Name: 50, dtype: object)"
      ]
     },
     "execution_count": 46,
     "metadata": {},
     "output_type": "execute_result"
    },
    {
     "data": {
      "text/plain": [
       "22050"
      ]
     },
     "execution_count": 46,
     "metadata": {},
     "output_type": "execute_result"
    },
    {
     "data": {
      "text/plain": [
       "(51,\n",
       " name        other-19.wav\n",
       " target                 5\n",
       " category           other\n",
       " Name: 51, dtype: object)"
      ]
     },
     "execution_count": 46,
     "metadata": {},
     "output_type": "execute_result"
    },
    {
     "data": {
      "text/plain": [
       "22050"
      ]
     },
     "execution_count": 46,
     "metadata": {},
     "output_type": "execute_result"
    },
    {
     "name": "stderr",
     "output_type": "stream",
     "text": [
      "\r",
      "52it [00:05, 10.01it/s]"
     ]
    },
    {
     "data": {
      "text/plain": [
       "(52,\n",
       " name        other-2.wav\n",
       " target                5\n",
       " category          other\n",
       " Name: 52, dtype: object)"
      ]
     },
     "execution_count": 46,
     "metadata": {},
     "output_type": "execute_result"
    },
    {
     "data": {
      "text/plain": [
       "22050"
      ]
     },
     "execution_count": 46,
     "metadata": {},
     "output_type": "execute_result"
    },
    {
     "data": {
      "text/plain": [
       "(53,\n",
       " name        other-3.wav\n",
       " target                5\n",
       " category          other\n",
       " Name: 53, dtype: object)"
      ]
     },
     "execution_count": 46,
     "metadata": {},
     "output_type": "execute_result"
    },
    {
     "data": {
      "text/plain": [
       "22050"
      ]
     },
     "execution_count": 46,
     "metadata": {},
     "output_type": "execute_result"
    },
    {
     "name": "stderr",
     "output_type": "stream",
     "text": [
      "\r",
      "54it [00:05, 10.09it/s]"
     ]
    },
    {
     "data": {
      "text/plain": [
       "(54,\n",
       " name        other-4.wav\n",
       " target                5\n",
       " category          other\n",
       " Name: 54, dtype: object)"
      ]
     },
     "execution_count": 46,
     "metadata": {},
     "output_type": "execute_result"
    },
    {
     "data": {
      "text/plain": [
       "22050"
      ]
     },
     "execution_count": 46,
     "metadata": {},
     "output_type": "execute_result"
    },
    {
     "data": {
      "text/plain": [
       "(55,\n",
       " name        other-5.wav\n",
       " target                5\n",
       " category          other\n",
       " Name: 55, dtype: object)"
      ]
     },
     "execution_count": 46,
     "metadata": {},
     "output_type": "execute_result"
    },
    {
     "data": {
      "text/plain": [
       "22050"
      ]
     },
     "execution_count": 46,
     "metadata": {},
     "output_type": "execute_result"
    },
    {
     "name": "stderr",
     "output_type": "stream",
     "text": [
      "\r",
      "56it [00:05,  9.65it/s]"
     ]
    },
    {
     "data": {
      "text/plain": [
       "(56,\n",
       " name        other-6.wav\n",
       " target                5\n",
       " category          other\n",
       " Name: 56, dtype: object)"
      ]
     },
     "execution_count": 46,
     "metadata": {},
     "output_type": "execute_result"
    },
    {
     "data": {
      "text/plain": [
       "22050"
      ]
     },
     "execution_count": 46,
     "metadata": {},
     "output_type": "execute_result"
    },
    {
     "name": "stderr",
     "output_type": "stream",
     "text": [
      "\r",
      "57it [00:05,  9.59it/s]"
     ]
    },
    {
     "data": {
      "text/plain": [
       "(57,\n",
       " name        other-7.wav\n",
       " target                5\n",
       " category          other\n",
       " Name: 57, dtype: object)"
      ]
     },
     "execution_count": 46,
     "metadata": {},
     "output_type": "execute_result"
    },
    {
     "data": {
      "text/plain": [
       "22050"
      ]
     },
     "execution_count": 46,
     "metadata": {},
     "output_type": "execute_result"
    },
    {
     "data": {
      "text/plain": [
       "(58,\n",
       " name        other-8.wav\n",
       " target                5\n",
       " category          other\n",
       " Name: 58, dtype: object)"
      ]
     },
     "execution_count": 46,
     "metadata": {},
     "output_type": "execute_result"
    },
    {
     "data": {
      "text/plain": [
       "22050"
      ]
     },
     "execution_count": 46,
     "metadata": {},
     "output_type": "execute_result"
    },
    {
     "name": "stderr",
     "output_type": "stream",
     "text": [
      "\r",
      "59it [00:05,  9.75it/s]"
     ]
    },
    {
     "data": {
      "text/plain": [
       "(59,\n",
       " name        other-9.wav\n",
       " target                5\n",
       " category          other\n",
       " Name: 59, dtype: object)"
      ]
     },
     "execution_count": 46,
     "metadata": {},
     "output_type": "execute_result"
    },
    {
     "data": {
      "text/plain": [
       "22050"
      ]
     },
     "execution_count": 46,
     "metadata": {},
     "output_type": "execute_result"
    },
    {
     "name": "stderr",
     "output_type": "stream",
     "text": [
      "\r",
      "60it [00:05,  9.69it/s]"
     ]
    },
    {
     "data": {
      "text/plain": [
       "(60,\n",
       " name        silence-0.wav\n",
       " target                  0\n",
       " category          silence\n",
       " Name: 60, dtype: object)"
      ]
     },
     "execution_count": 46,
     "metadata": {},
     "output_type": "execute_result"
    },
    {
     "data": {
      "text/plain": [
       "22050"
      ]
     },
     "execution_count": 46,
     "metadata": {},
     "output_type": "execute_result"
    },
    {
     "data": {
      "text/plain": [
       "(61,\n",
       " name        silence-1.wav\n",
       " target                  0\n",
       " category          silence\n",
       " Name: 61, dtype: object)"
      ]
     },
     "execution_count": 46,
     "metadata": {},
     "output_type": "execute_result"
    },
    {
     "data": {
      "text/plain": [
       "22050"
      ]
     },
     "execution_count": 46,
     "metadata": {},
     "output_type": "execute_result"
    },
    {
     "name": "stderr",
     "output_type": "stream",
     "text": [
      "\r",
      "62it [00:06,  9.86it/s]"
     ]
    },
    {
     "data": {
      "text/plain": [
       "(62,\n",
       " name        silence-10.wav\n",
       " target                   0\n",
       " category           silence\n",
       " Name: 62, dtype: object)"
      ]
     },
     "execution_count": 46,
     "metadata": {},
     "output_type": "execute_result"
    },
    {
     "data": {
      "text/plain": [
       "22050"
      ]
     },
     "execution_count": 46,
     "metadata": {},
     "output_type": "execute_result"
    },
    {
     "data": {
      "text/plain": [
       "(63,\n",
       " name        silence-11.wav\n",
       " target                   0\n",
       " category           silence\n",
       " Name: 63, dtype: object)"
      ]
     },
     "execution_count": 46,
     "metadata": {},
     "output_type": "execute_result"
    },
    {
     "data": {
      "text/plain": [
       "22050"
      ]
     },
     "execution_count": 46,
     "metadata": {},
     "output_type": "execute_result"
    },
    {
     "name": "stderr",
     "output_type": "stream",
     "text": [
      "\r",
      "64it [00:06, 10.03it/s]"
     ]
    },
    {
     "data": {
      "text/plain": [
       "(64,\n",
       " name        silence-12.wav\n",
       " target                   0\n",
       " category           silence\n",
       " Name: 64, dtype: object)"
      ]
     },
     "execution_count": 46,
     "metadata": {},
     "output_type": "execute_result"
    },
    {
     "data": {
      "text/plain": [
       "22050"
      ]
     },
     "execution_count": 46,
     "metadata": {},
     "output_type": "execute_result"
    },
    {
     "data": {
      "text/plain": [
       "(65,\n",
       " name        silence-13.wav\n",
       " target                   0\n",
       " category           silence\n",
       " Name: 65, dtype: object)"
      ]
     },
     "execution_count": 46,
     "metadata": {},
     "output_type": "execute_result"
    },
    {
     "data": {
      "text/plain": [
       "22050"
      ]
     },
     "execution_count": 46,
     "metadata": {},
     "output_type": "execute_result"
    },
    {
     "name": "stderr",
     "output_type": "stream",
     "text": [
      "\r",
      "66it [00:06,  9.95it/s]"
     ]
    },
    {
     "data": {
      "text/plain": [
       "(66,\n",
       " name        silence-14.wav\n",
       " target                   0\n",
       " category           silence\n",
       " Name: 66, dtype: object)"
      ]
     },
     "execution_count": 46,
     "metadata": {},
     "output_type": "execute_result"
    },
    {
     "data": {
      "text/plain": [
       "22050"
      ]
     },
     "execution_count": 46,
     "metadata": {},
     "output_type": "execute_result"
    },
    {
     "name": "stderr",
     "output_type": "stream",
     "text": [
      "\r",
      "67it [00:06,  9.80it/s]"
     ]
    },
    {
     "data": {
      "text/plain": [
       "(67,\n",
       " name        silence-15.wav\n",
       " target                   0\n",
       " category           silence\n",
       " Name: 67, dtype: object)"
      ]
     },
     "execution_count": 46,
     "metadata": {},
     "output_type": "execute_result"
    },
    {
     "data": {
      "text/plain": [
       "22050"
      ]
     },
     "execution_count": 46,
     "metadata": {},
     "output_type": "execute_result"
    },
    {
     "data": {
      "text/plain": [
       "(68,\n",
       " name        silence-16.wav\n",
       " target                   0\n",
       " category           silence\n",
       " Name: 68, dtype: object)"
      ]
     },
     "execution_count": 46,
     "metadata": {},
     "output_type": "execute_result"
    },
    {
     "data": {
      "text/plain": [
       "22050"
      ]
     },
     "execution_count": 46,
     "metadata": {},
     "output_type": "execute_result"
    },
    {
     "name": "stderr",
     "output_type": "stream",
     "text": [
      "\r",
      "69it [00:06,  9.97it/s]"
     ]
    },
    {
     "data": {
      "text/plain": [
       "(69,\n",
       " name        silence-17.wav\n",
       " target                   0\n",
       " category           silence\n",
       " Name: 69, dtype: object)"
      ]
     },
     "execution_count": 46,
     "metadata": {},
     "output_type": "execute_result"
    },
    {
     "data": {
      "text/plain": [
       "22050"
      ]
     },
     "execution_count": 46,
     "metadata": {},
     "output_type": "execute_result"
    },
    {
     "name": "stderr",
     "output_type": "stream",
     "text": [
      "\r",
      "70it [00:06,  9.81it/s]"
     ]
    },
    {
     "data": {
      "text/plain": [
       "(70,\n",
       " name        silence-18.wav\n",
       " target                   0\n",
       " category           silence\n",
       " Name: 70, dtype: object)"
      ]
     },
     "execution_count": 46,
     "metadata": {},
     "output_type": "execute_result"
    },
    {
     "data": {
      "text/plain": [
       "22050"
      ]
     },
     "execution_count": 46,
     "metadata": {},
     "output_type": "execute_result"
    },
    {
     "name": "stderr",
     "output_type": "stream",
     "text": [
      "\r",
      "71it [00:07,  9.65it/s]"
     ]
    },
    {
     "data": {
      "text/plain": [
       "(71,\n",
       " name        silence-19.wav\n",
       " target                   0\n",
       " category           silence\n",
       " Name: 71, dtype: object)"
      ]
     },
     "execution_count": 46,
     "metadata": {},
     "output_type": "execute_result"
    },
    {
     "data": {
      "text/plain": [
       "22050"
      ]
     },
     "execution_count": 46,
     "metadata": {},
     "output_type": "execute_result"
    },
    {
     "name": "stderr",
     "output_type": "stream",
     "text": [
      "\r",
      "72it [00:07,  9.51it/s]"
     ]
    },
    {
     "data": {
      "text/plain": [
       "(72,\n",
       " name        silence-2.wav\n",
       " target                  0\n",
       " category          silence\n",
       " Name: 72, dtype: object)"
      ]
     },
     "execution_count": 46,
     "metadata": {},
     "output_type": "execute_result"
    },
    {
     "data": {
      "text/plain": [
       "22050"
      ]
     },
     "execution_count": 46,
     "metadata": {},
     "output_type": "execute_result"
    },
    {
     "name": "stderr",
     "output_type": "stream",
     "text": [
      "\r",
      "73it [00:07,  9.55it/s]"
     ]
    },
    {
     "data": {
      "text/plain": [
       "(73,\n",
       " name        silence-3.wav\n",
       " target                  0\n",
       " category          silence\n",
       " Name: 73, dtype: object)"
      ]
     },
     "execution_count": 46,
     "metadata": {},
     "output_type": "execute_result"
    },
    {
     "data": {
      "text/plain": [
       "22050"
      ]
     },
     "execution_count": 46,
     "metadata": {},
     "output_type": "execute_result"
    },
    {
     "name": "stderr",
     "output_type": "stream",
     "text": [
      "\r",
      "74it [00:07,  9.26it/s]"
     ]
    },
    {
     "data": {
      "text/plain": [
       "(74,\n",
       " name        silence-4.wav\n",
       " target                  0\n",
       " category          silence\n",
       " Name: 74, dtype: object)"
      ]
     },
     "execution_count": 46,
     "metadata": {},
     "output_type": "execute_result"
    },
    {
     "data": {
      "text/plain": [
       "22050"
      ]
     },
     "execution_count": 46,
     "metadata": {},
     "output_type": "execute_result"
    },
    {
     "name": "stderr",
     "output_type": "stream",
     "text": [
      "\r",
      "75it [00:07,  9.16it/s]"
     ]
    },
    {
     "data": {
      "text/plain": [
       "(75,\n",
       " name        silence-5.wav\n",
       " target                  0\n",
       " category          silence\n",
       " Name: 75, dtype: object)"
      ]
     },
     "execution_count": 46,
     "metadata": {},
     "output_type": "execute_result"
    },
    {
     "data": {
      "text/plain": [
       "22050"
      ]
     },
     "execution_count": 46,
     "metadata": {},
     "output_type": "execute_result"
    },
    {
     "name": "stderr",
     "output_type": "stream",
     "text": [
      "\r",
      "76it [00:07,  9.10it/s]"
     ]
    },
    {
     "data": {
      "text/plain": [
       "(76,\n",
       " name        silence-6.wav\n",
       " target                  0\n",
       " category          silence\n",
       " Name: 76, dtype: object)"
      ]
     },
     "execution_count": 46,
     "metadata": {},
     "output_type": "execute_result"
    },
    {
     "data": {
      "text/plain": [
       "22050"
      ]
     },
     "execution_count": 46,
     "metadata": {},
     "output_type": "execute_result"
    },
    {
     "name": "stderr",
     "output_type": "stream",
     "text": [
      "\r",
      "77it [00:07,  9.10it/s]"
     ]
    },
    {
     "data": {
      "text/plain": [
       "(77,\n",
       " name        silence-7.wav\n",
       " target                  0\n",
       " category          silence\n",
       " Name: 77, dtype: object)"
      ]
     },
     "execution_count": 46,
     "metadata": {},
     "output_type": "execute_result"
    },
    {
     "data": {
      "text/plain": [
       "22050"
      ]
     },
     "execution_count": 46,
     "metadata": {},
     "output_type": "execute_result"
    },
    {
     "name": "stderr",
     "output_type": "stream",
     "text": [
      "\r",
      "78it [00:07,  9.16it/s]"
     ]
    },
    {
     "data": {
      "text/plain": [
       "(78,\n",
       " name        silence-8.wav\n",
       " target                  0\n",
       " category          silence\n",
       " Name: 78, dtype: object)"
      ]
     },
     "execution_count": 46,
     "metadata": {},
     "output_type": "execute_result"
    },
    {
     "data": {
      "text/plain": [
       "22050"
      ]
     },
     "execution_count": 46,
     "metadata": {},
     "output_type": "execute_result"
    },
    {
     "name": "stderr",
     "output_type": "stream",
     "text": [
      "\r",
      "79it [00:07,  9.25it/s]"
     ]
    },
    {
     "data": {
      "text/plain": [
       "(79,\n",
       " name        silence-9.wav\n",
       " target                  0\n",
       " category          silence\n",
       " Name: 79, dtype: object)"
      ]
     },
     "execution_count": 46,
     "metadata": {},
     "output_type": "execute_result"
    },
    {
     "data": {
      "text/plain": [
       "22050"
      ]
     },
     "execution_count": 46,
     "metadata": {},
     "output_type": "execute_result"
    },
    {
     "name": "stderr",
     "output_type": "stream",
     "text": [
      "\r",
      "80it [00:07,  9.33it/s]"
     ]
    },
    {
     "data": {
      "text/plain": [
       "(80,\n",
       " name        tap-0.wav\n",
       " target              2\n",
       " category          tap\n",
       " Name: 80, dtype: object)"
      ]
     },
     "execution_count": 46,
     "metadata": {},
     "output_type": "execute_result"
    },
    {
     "data": {
      "text/plain": [
       "22050"
      ]
     },
     "execution_count": 46,
     "metadata": {},
     "output_type": "execute_result"
    },
    {
     "name": "stderr",
     "output_type": "stream",
     "text": [
      "\r",
      "81it [00:08,  9.40it/s]"
     ]
    },
    {
     "data": {
      "text/plain": [
       "(81,\n",
       " name        tap-1.wav\n",
       " target              2\n",
       " category          tap\n",
       " Name: 81, dtype: object)"
      ]
     },
     "execution_count": 46,
     "metadata": {},
     "output_type": "execute_result"
    },
    {
     "data": {
      "text/plain": [
       "22050"
      ]
     },
     "execution_count": 46,
     "metadata": {},
     "output_type": "execute_result"
    },
    {
     "data": {
      "text/plain": [
       "(82,\n",
       " name        tap-10.wav\n",
       " target               2\n",
       " category           tap\n",
       " Name: 82, dtype: object)"
      ]
     },
     "execution_count": 46,
     "metadata": {},
     "output_type": "execute_result"
    },
    {
     "data": {
      "text/plain": [
       "22050"
      ]
     },
     "execution_count": 46,
     "metadata": {},
     "output_type": "execute_result"
    },
    {
     "name": "stderr",
     "output_type": "stream",
     "text": [
      "\r",
      "83it [00:08,  9.62it/s]"
     ]
    },
    {
     "data": {
      "text/plain": [
       "(83,\n",
       " name        tap-11.wav\n",
       " target               2\n",
       " category           tap\n",
       " Name: 83, dtype: object)"
      ]
     },
     "execution_count": 46,
     "metadata": {},
     "output_type": "execute_result"
    },
    {
     "data": {
      "text/plain": [
       "22050"
      ]
     },
     "execution_count": 46,
     "metadata": {},
     "output_type": "execute_result"
    },
    {
     "data": {
      "text/plain": [
       "(84,\n",
       " name        tap-12.wav\n",
       " target               2\n",
       " category           tap\n",
       " Name: 84, dtype: object)"
      ]
     },
     "execution_count": 46,
     "metadata": {},
     "output_type": "execute_result"
    },
    {
     "data": {
      "text/plain": [
       "22050"
      ]
     },
     "execution_count": 46,
     "metadata": {},
     "output_type": "execute_result"
    },
    {
     "name": "stderr",
     "output_type": "stream",
     "text": [
      "\r",
      "85it [00:08,  9.81it/s]"
     ]
    },
    {
     "data": {
      "text/plain": [
       "(85,\n",
       " name        tap-13.wav\n",
       " target               2\n",
       " category           tap\n",
       " Name: 85, dtype: object)"
      ]
     },
     "execution_count": 46,
     "metadata": {},
     "output_type": "execute_result"
    },
    {
     "data": {
      "text/plain": [
       "22050"
      ]
     },
     "execution_count": 46,
     "metadata": {},
     "output_type": "execute_result"
    },
    {
     "data": {
      "text/plain": [
       "(86,\n",
       " name        tap-14.wav\n",
       " target               2\n",
       " category           tap\n",
       " Name: 86, dtype: object)"
      ]
     },
     "execution_count": 46,
     "metadata": {},
     "output_type": "execute_result"
    },
    {
     "data": {
      "text/plain": [
       "22050"
      ]
     },
     "execution_count": 46,
     "metadata": {},
     "output_type": "execute_result"
    },
    {
     "name": "stderr",
     "output_type": "stream",
     "text": [
      "\r",
      "87it [00:08,  9.89it/s]"
     ]
    },
    {
     "data": {
      "text/plain": [
       "(87,\n",
       " name        tap-15.wav\n",
       " target               2\n",
       " category           tap\n",
       " Name: 87, dtype: object)"
      ]
     },
     "execution_count": 46,
     "metadata": {},
     "output_type": "execute_result"
    },
    {
     "data": {
      "text/plain": [
       "22050"
      ]
     },
     "execution_count": 46,
     "metadata": {},
     "output_type": "execute_result"
    },
    {
     "name": "stderr",
     "output_type": "stream",
     "text": [
      "\r",
      "88it [00:08,  9.78it/s]"
     ]
    },
    {
     "data": {
      "text/plain": [
       "(88,\n",
       " name        tap-16.wav\n",
       " target               2\n",
       " category           tap\n",
       " Name: 88, dtype: object)"
      ]
     },
     "execution_count": 46,
     "metadata": {},
     "output_type": "execute_result"
    },
    {
     "data": {
      "text/plain": [
       "22050"
      ]
     },
     "execution_count": 46,
     "metadata": {},
     "output_type": "execute_result"
    },
    {
     "name": "stderr",
     "output_type": "stream",
     "text": [
      "\r",
      "89it [00:08,  9.66it/s]"
     ]
    },
    {
     "data": {
      "text/plain": [
       "(89,\n",
       " name        tap-17.wav\n",
       " target               2\n",
       " category           tap\n",
       " Name: 89, dtype: object)"
      ]
     },
     "execution_count": 46,
     "metadata": {},
     "output_type": "execute_result"
    },
    {
     "data": {
      "text/plain": [
       "22050"
      ]
     },
     "execution_count": 46,
     "metadata": {},
     "output_type": "execute_result"
    },
    {
     "data": {
      "text/plain": [
       "(90,\n",
       " name        tap-18.wav\n",
       " target               2\n",
       " category           tap\n",
       " Name: 90, dtype: object)"
      ]
     },
     "execution_count": 46,
     "metadata": {},
     "output_type": "execute_result"
    },
    {
     "data": {
      "text/plain": [
       "22050"
      ]
     },
     "execution_count": 46,
     "metadata": {},
     "output_type": "execute_result"
    },
    {
     "name": "stderr",
     "output_type": "stream",
     "text": [
      "\r",
      "91it [00:09,  9.79it/s]"
     ]
    },
    {
     "data": {
      "text/plain": [
       "(91,\n",
       " name        tap-19.wav\n",
       " target               2\n",
       " category           tap\n",
       " Name: 91, dtype: object)"
      ]
     },
     "execution_count": 46,
     "metadata": {},
     "output_type": "execute_result"
    },
    {
     "data": {
      "text/plain": [
       "22050"
      ]
     },
     "execution_count": 46,
     "metadata": {},
     "output_type": "execute_result"
    },
    {
     "name": "stderr",
     "output_type": "stream",
     "text": [
      "\r",
      "92it [00:09,  9.80it/s]"
     ]
    },
    {
     "data": {
      "text/plain": [
       "(92,\n",
       " name        tap-2.wav\n",
       " target              2\n",
       " category          tap\n",
       " Name: 92, dtype: object)"
      ]
     },
     "execution_count": 46,
     "metadata": {},
     "output_type": "execute_result"
    },
    {
     "data": {
      "text/plain": [
       "22050"
      ]
     },
     "execution_count": 46,
     "metadata": {},
     "output_type": "execute_result"
    },
    {
     "name": "stderr",
     "output_type": "stream",
     "text": [
      "\r",
      "93it [00:09,  9.70it/s]"
     ]
    },
    {
     "data": {
      "text/plain": [
       "(93,\n",
       " name        tap-3.wav\n",
       " target              2\n",
       " category          tap\n",
       " Name: 93, dtype: object)"
      ]
     },
     "execution_count": 46,
     "metadata": {},
     "output_type": "execute_result"
    },
    {
     "data": {
      "text/plain": [
       "22050"
      ]
     },
     "execution_count": 46,
     "metadata": {},
     "output_type": "execute_result"
    },
    {
     "name": "stderr",
     "output_type": "stream",
     "text": [
      "\r",
      "94it [00:09,  9.74it/s]"
     ]
    },
    {
     "data": {
      "text/plain": [
       "(94,\n",
       " name        tap-4.wav\n",
       " target              2\n",
       " category          tap\n",
       " Name: 94, dtype: object)"
      ]
     },
     "execution_count": 46,
     "metadata": {},
     "output_type": "execute_result"
    },
    {
     "data": {
      "text/plain": [
       "22050"
      ]
     },
     "execution_count": 46,
     "metadata": {},
     "output_type": "execute_result"
    },
    {
     "name": "stderr",
     "output_type": "stream",
     "text": [
      "\r",
      "95it [00:09,  9.49it/s]"
     ]
    },
    {
     "data": {
      "text/plain": [
       "(95,\n",
       " name        tap-5.wav\n",
       " target              2\n",
       " category          tap\n",
       " Name: 95, dtype: object)"
      ]
     },
     "execution_count": 46,
     "metadata": {},
     "output_type": "execute_result"
    },
    {
     "data": {
      "text/plain": [
       "22050"
      ]
     },
     "execution_count": 46,
     "metadata": {},
     "output_type": "execute_result"
    },
    {
     "data": {
      "text/plain": [
       "(96,\n",
       " name        tap-6.wav\n",
       " target              2\n",
       " category          tap\n",
       " Name: 96, dtype: object)"
      ]
     },
     "execution_count": 46,
     "metadata": {},
     "output_type": "execute_result"
    },
    {
     "data": {
      "text/plain": [
       "22050"
      ]
     },
     "execution_count": 46,
     "metadata": {},
     "output_type": "execute_result"
    },
    {
     "name": "stderr",
     "output_type": "stream",
     "text": [
      "\r",
      "97it [00:09,  9.71it/s]"
     ]
    },
    {
     "data": {
      "text/plain": [
       "(97,\n",
       " name        tap-7.wav\n",
       " target              2\n",
       " category          tap\n",
       " Name: 97, dtype: object)"
      ]
     },
     "execution_count": 46,
     "metadata": {},
     "output_type": "execute_result"
    },
    {
     "data": {
      "text/plain": [
       "22050"
      ]
     },
     "execution_count": 46,
     "metadata": {},
     "output_type": "execute_result"
    },
    {
     "data": {
      "text/plain": [
       "(98,\n",
       " name        tap-8.wav\n",
       " target              2\n",
       " category          tap\n",
       " Name: 98, dtype: object)"
      ]
     },
     "execution_count": 46,
     "metadata": {},
     "output_type": "execute_result"
    },
    {
     "data": {
      "text/plain": [
       "22050"
      ]
     },
     "execution_count": 46,
     "metadata": {},
     "output_type": "execute_result"
    },
    {
     "name": "stderr",
     "output_type": "stream",
     "text": [
      "\r",
      "99it [00:09,  9.91it/s]"
     ]
    },
    {
     "data": {
      "text/plain": [
       "(99,\n",
       " name        tap-9.wav\n",
       " target              2\n",
       " category          tap\n",
       " Name: 99, dtype: object)"
      ]
     },
     "execution_count": 46,
     "metadata": {},
     "output_type": "execute_result"
    },
    {
     "data": {
      "text/plain": [
       "22050"
      ]
     },
     "execution_count": 46,
     "metadata": {},
     "output_type": "execute_result"
    },
    {
     "data": {
      "text/plain": [
       "(100,\n",
       " name        wc-0A.wav\n",
       " target              1\n",
       " category           wc\n",
       " Name: 100, dtype: object)"
      ]
     },
     "execution_count": 46,
     "metadata": {},
     "output_type": "execute_result"
    },
    {
     "data": {
      "text/plain": [
       "22050"
      ]
     },
     "execution_count": 46,
     "metadata": {},
     "output_type": "execute_result"
    },
    {
     "name": "stderr",
     "output_type": "stream",
     "text": [
      "\r",
      "101it [00:10, 10.08it/s]"
     ]
    },
    {
     "data": {
      "text/plain": [
       "(101,\n",
       " name        wc-0B.wav\n",
       " target              1\n",
       " category           wc\n",
       " Name: 101, dtype: object)"
      ]
     },
     "execution_count": 46,
     "metadata": {},
     "output_type": "execute_result"
    },
    {
     "data": {
      "text/plain": [
       "22050"
      ]
     },
     "execution_count": 46,
     "metadata": {},
     "output_type": "execute_result"
    },
    {
     "data": {
      "text/plain": [
       "(102,\n",
       " name        wc-0C.wav\n",
       " target              1\n",
       " category           wc\n",
       " Name: 102, dtype: object)"
      ]
     },
     "execution_count": 46,
     "metadata": {},
     "output_type": "execute_result"
    },
    {
     "data": {
      "text/plain": [
       "22050"
      ]
     },
     "execution_count": 46,
     "metadata": {},
     "output_type": "execute_result"
    },
    {
     "name": "stderr",
     "output_type": "stream",
     "text": [
      "\r",
      "103it [00:10,  9.77it/s]"
     ]
    },
    {
     "data": {
      "text/plain": [
       "(103,\n",
       " name        wc-0D.wav\n",
       " target              1\n",
       " category           wc\n",
       " Name: 103, dtype: object)"
      ]
     },
     "execution_count": 46,
     "metadata": {},
     "output_type": "execute_result"
    },
    {
     "data": {
      "text/plain": [
       "22050"
      ]
     },
     "execution_count": 46,
     "metadata": {},
     "output_type": "execute_result"
    },
    {
     "data": {
      "text/plain": [
       "(104,\n",
       " name        wc-1A.wav\n",
       " target              1\n",
       " category           wc\n",
       " Name: 104, dtype: object)"
      ]
     },
     "execution_count": 46,
     "metadata": {},
     "output_type": "execute_result"
    },
    {
     "data": {
      "text/plain": [
       "22050"
      ]
     },
     "execution_count": 46,
     "metadata": {},
     "output_type": "execute_result"
    },
    {
     "name": "stderr",
     "output_type": "stream",
     "text": [
      "\r",
      "105it [00:10,  9.93it/s]"
     ]
    },
    {
     "data": {
      "text/plain": [
       "(105,\n",
       " name        wc-1B.wav\n",
       " target              1\n",
       " category           wc\n",
       " Name: 105, dtype: object)"
      ]
     },
     "execution_count": 46,
     "metadata": {},
     "output_type": "execute_result"
    },
    {
     "data": {
      "text/plain": [
       "22050"
      ]
     },
     "execution_count": 46,
     "metadata": {},
     "output_type": "execute_result"
    },
    {
     "data": {
      "text/plain": [
       "(106,\n",
       " name        wc-1C.wav\n",
       " target              1\n",
       " category           wc\n",
       " Name: 106, dtype: object)"
      ]
     },
     "execution_count": 46,
     "metadata": {},
     "output_type": "execute_result"
    },
    {
     "data": {
      "text/plain": [
       "22050"
      ]
     },
     "execution_count": 46,
     "metadata": {},
     "output_type": "execute_result"
    },
    {
     "name": "stderr",
     "output_type": "stream",
     "text": [
      "\r",
      "107it [00:10,  9.95it/s]"
     ]
    },
    {
     "data": {
      "text/plain": [
       "(107,\n",
       " name        wc-1D.wav\n",
       " target              1\n",
       " category           wc\n",
       " Name: 107, dtype: object)"
      ]
     },
     "execution_count": 46,
     "metadata": {},
     "output_type": "execute_result"
    },
    {
     "data": {
      "text/plain": [
       "22050"
      ]
     },
     "execution_count": 46,
     "metadata": {},
     "output_type": "execute_result"
    },
    {
     "name": "stderr",
     "output_type": "stream",
     "text": [
      "\r",
      "108it [00:10,  9.80it/s]"
     ]
    },
    {
     "data": {
      "text/plain": [
       "(108,\n",
       " name        wc-2A.wav\n",
       " target              1\n",
       " category           wc\n",
       " Name: 108, dtype: object)"
      ]
     },
     "execution_count": 46,
     "metadata": {},
     "output_type": "execute_result"
    },
    {
     "data": {
      "text/plain": [
       "22050"
      ]
     },
     "execution_count": 46,
     "metadata": {},
     "output_type": "execute_result"
    },
    {
     "data": {
      "text/plain": [
       "(109,\n",
       " name        wc-2B.wav\n",
       " target              1\n",
       " category           wc\n",
       " Name: 109, dtype: object)"
      ]
     },
     "execution_count": 46,
     "metadata": {},
     "output_type": "execute_result"
    },
    {
     "data": {
      "text/plain": [
       "22050"
      ]
     },
     "execution_count": 46,
     "metadata": {},
     "output_type": "execute_result"
    },
    {
     "name": "stderr",
     "output_type": "stream",
     "text": [
      "\r",
      "110it [00:11, 10.01it/s]"
     ]
    },
    {
     "data": {
      "text/plain": [
       "(110,\n",
       " name        wc-2C.wav\n",
       " target              1\n",
       " category           wc\n",
       " Name: 110, dtype: object)"
      ]
     },
     "execution_count": 46,
     "metadata": {},
     "output_type": "execute_result"
    },
    {
     "data": {
      "text/plain": [
       "22050"
      ]
     },
     "execution_count": 46,
     "metadata": {},
     "output_type": "execute_result"
    },
    {
     "data": {
      "text/plain": [
       "(111,\n",
       " name        wc-2D.wav\n",
       " target              1\n",
       " category           wc\n",
       " Name: 111, dtype: object)"
      ]
     },
     "execution_count": 46,
     "metadata": {},
     "output_type": "execute_result"
    },
    {
     "data": {
      "text/plain": [
       "22050"
      ]
     },
     "execution_count": 46,
     "metadata": {},
     "output_type": "execute_result"
    },
    {
     "name": "stderr",
     "output_type": "stream",
     "text": [
      "\r",
      "112it [00:11, 10.09it/s]"
     ]
    },
    {
     "data": {
      "text/plain": [
       "(112,\n",
       " name        wc-3A.wav\n",
       " target              1\n",
       " category           wc\n",
       " Name: 112, dtype: object)"
      ]
     },
     "execution_count": 46,
     "metadata": {},
     "output_type": "execute_result"
    },
    {
     "name": "stderr",
     "output_type": "stream",
     "text": [
      "112it [00:11,  9.91it/s]\n"
     ]
    },
    {
     "ename": "KeyboardInterrupt",
     "evalue": "",
     "output_type": "error",
     "traceback": [
      "\u001b[1;31m---------------------------------------------------------------------------\u001b[0m",
      "\u001b[1;31mKeyboardInterrupt\u001b[0m                         Traceback (most recent call last)",
      "\u001b[1;32m<ipython-input-46-539c35bf3855>\u001b[0m in \u001b[0;36m<module>\u001b[1;34m\u001b[0m\n\u001b[0;32m      2\u001b[0m \u001b[1;32mfor\u001b[0m \u001b[0mdata\u001b[0m \u001b[1;32min\u001b[0m \u001b[0mtqdm\u001b[0m\u001b[1;33m(\u001b[0m\u001b[0mdf\u001b[0m\u001b[1;33m.\u001b[0m\u001b[0miterrows\u001b[0m\u001b[1;33m(\u001b[0m\u001b[1;33m)\u001b[0m\u001b[1;33m)\u001b[0m\u001b[1;33m:\u001b[0m\u001b[1;33m\u001b[0m\u001b[1;33m\u001b[0m\u001b[0m\n\u001b[0;32m      3\u001b[0m   \u001b[0mdata\u001b[0m\u001b[1;33m\u001b[0m\u001b[1;33m\u001b[0m\u001b[0m\n\u001b[1;32m----> 4\u001b[1;33m   \u001b[0msig\u001b[0m \u001b[1;33m,\u001b[0m \u001b[0msr\u001b[0m \u001b[1;33m=\u001b[0m \u001b[0mlibrosa\u001b[0m\u001b[1;33m.\u001b[0m\u001b[0mload\u001b[0m\u001b[1;33m(\u001b[0m\u001b[0mDATA_PATH\u001b[0m\u001b[1;33m+\u001b[0m\u001b[0mdata\u001b[0m\u001b[1;33m[\u001b[0m\u001b[1;36m1\u001b[0m\u001b[1;33m]\u001b[0m\u001b[1;33m[\u001b[0m\u001b[1;36m0\u001b[0m\u001b[1;33m]\u001b[0m\u001b[1;33m)\u001b[0m\u001b[1;33m\u001b[0m\u001b[1;33m\u001b[0m\u001b[0m\n\u001b[0m\u001b[0;32m      5\u001b[0m   \u001b[0msr\u001b[0m\u001b[1;33m\u001b[0m\u001b[1;33m\u001b[0m\u001b[0m\n\u001b[0;32m      6\u001b[0m   \u001b[1;32mfor\u001b[0m \u001b[0mi\u001b[0m \u001b[1;32min\u001b[0m \u001b[0mrange\u001b[0m\u001b[1;33m(\u001b[0m\u001b[1;36m2\u001b[0m\u001b[1;33m)\u001b[0m\u001b[1;33m:\u001b[0m\u001b[1;33m\u001b[0m\u001b[1;33m\u001b[0m\u001b[0m\n",
      "\u001b[1;32mc:\\users\\uja\\appdata\\local\\programs\\python\\python38\\lib\\site-packages\\librosa\\core\\audio.py\u001b[0m in \u001b[0;36mload\u001b[1;34m(path, sr, mono, offset, duration, dtype, res_type)\u001b[0m\n\u001b[0;32m    170\u001b[0m \u001b[1;33m\u001b[0m\u001b[0m\n\u001b[0;32m    171\u001b[0m     \u001b[1;32mif\u001b[0m \u001b[0msr\u001b[0m \u001b[1;32mis\u001b[0m \u001b[1;32mnot\u001b[0m \u001b[1;32mNone\u001b[0m\u001b[1;33m:\u001b[0m\u001b[1;33m\u001b[0m\u001b[1;33m\u001b[0m\u001b[0m\n\u001b[1;32m--> 172\u001b[1;33m         \u001b[0my\u001b[0m \u001b[1;33m=\u001b[0m \u001b[0mresample\u001b[0m\u001b[1;33m(\u001b[0m\u001b[0my\u001b[0m\u001b[1;33m,\u001b[0m \u001b[0msr_native\u001b[0m\u001b[1;33m,\u001b[0m \u001b[0msr\u001b[0m\u001b[1;33m,\u001b[0m \u001b[0mres_type\u001b[0m\u001b[1;33m=\u001b[0m\u001b[0mres_type\u001b[0m\u001b[1;33m)\u001b[0m\u001b[1;33m\u001b[0m\u001b[1;33m\u001b[0m\u001b[0m\n\u001b[0m\u001b[0;32m    173\u001b[0m \u001b[1;33m\u001b[0m\u001b[0m\n\u001b[0;32m    174\u001b[0m     \u001b[1;32melse\u001b[0m\u001b[1;33m:\u001b[0m\u001b[1;33m\u001b[0m\u001b[1;33m\u001b[0m\u001b[0m\n",
      "\u001b[1;32mc:\\users\\uja\\appdata\\local\\programs\\python\\python38\\lib\\site-packages\\librosa\\core\\audio.py\u001b[0m in \u001b[0;36mresample\u001b[1;34m(y, orig_sr, target_sr, res_type, fix, scale, **kwargs)\u001b[0m\n\u001b[0;32m    582\u001b[0m         \u001b[0my_hat\u001b[0m \u001b[1;33m=\u001b[0m \u001b[0msamplerate\u001b[0m\u001b[1;33m.\u001b[0m\u001b[0mresample\u001b[0m\u001b[1;33m(\u001b[0m\u001b[0my\u001b[0m\u001b[1;33m.\u001b[0m\u001b[0mT\u001b[0m\u001b[1;33m,\u001b[0m \u001b[0mratio\u001b[0m\u001b[1;33m,\u001b[0m \u001b[0mconverter_type\u001b[0m\u001b[1;33m=\u001b[0m\u001b[0mres_type\u001b[0m\u001b[1;33m)\u001b[0m\u001b[1;33m.\u001b[0m\u001b[0mT\u001b[0m\u001b[1;33m\u001b[0m\u001b[1;33m\u001b[0m\u001b[0m\n\u001b[0;32m    583\u001b[0m     \u001b[1;32melse\u001b[0m\u001b[1;33m:\u001b[0m\u001b[1;33m\u001b[0m\u001b[1;33m\u001b[0m\u001b[0m\n\u001b[1;32m--> 584\u001b[1;33m         \u001b[0my_hat\u001b[0m \u001b[1;33m=\u001b[0m \u001b[0mresampy\u001b[0m\u001b[1;33m.\u001b[0m\u001b[0mresample\u001b[0m\u001b[1;33m(\u001b[0m\u001b[0my\u001b[0m\u001b[1;33m,\u001b[0m \u001b[0morig_sr\u001b[0m\u001b[1;33m,\u001b[0m \u001b[0mtarget_sr\u001b[0m\u001b[1;33m,\u001b[0m \u001b[0mfilter\u001b[0m\u001b[1;33m=\u001b[0m\u001b[0mres_type\u001b[0m\u001b[1;33m,\u001b[0m \u001b[0maxis\u001b[0m\u001b[1;33m=\u001b[0m\u001b[1;33m-\u001b[0m\u001b[1;36m1\u001b[0m\u001b[1;33m)\u001b[0m\u001b[1;33m\u001b[0m\u001b[1;33m\u001b[0m\u001b[0m\n\u001b[0m\u001b[0;32m    585\u001b[0m \u001b[1;33m\u001b[0m\u001b[0m\n\u001b[0;32m    586\u001b[0m     \u001b[1;32mif\u001b[0m \u001b[0mfix\u001b[0m\u001b[1;33m:\u001b[0m\u001b[1;33m\u001b[0m\u001b[1;33m\u001b[0m\u001b[0m\n",
      "\u001b[1;32mc:\\users\\uja\\appdata\\local\\programs\\python\\python38\\lib\\site-packages\\resampy\\core.py\u001b[0m in \u001b[0;36mresample\u001b[1;34m(x, sr_orig, sr_new, axis, filter, **kwargs)\u001b[0m\n\u001b[0;32m    118\u001b[0m     \u001b[0mx_2d\u001b[0m \u001b[1;33m=\u001b[0m \u001b[0mx\u001b[0m\u001b[1;33m.\u001b[0m\u001b[0mswapaxes\u001b[0m\u001b[1;33m(\u001b[0m\u001b[1;36m0\u001b[0m\u001b[1;33m,\u001b[0m \u001b[0maxis\u001b[0m\u001b[1;33m)\u001b[0m\u001b[1;33m.\u001b[0m\u001b[0mreshape\u001b[0m\u001b[1;33m(\u001b[0m\u001b[1;33m(\u001b[0m\u001b[0mx\u001b[0m\u001b[1;33m.\u001b[0m\u001b[0mshape\u001b[0m\u001b[1;33m[\u001b[0m\u001b[0maxis\u001b[0m\u001b[1;33m]\u001b[0m\u001b[1;33m,\u001b[0m \u001b[1;33m-\u001b[0m\u001b[1;36m1\u001b[0m\u001b[1;33m)\u001b[0m\u001b[1;33m)\u001b[0m\u001b[1;33m\u001b[0m\u001b[1;33m\u001b[0m\u001b[0m\n\u001b[0;32m    119\u001b[0m     \u001b[0my_2d\u001b[0m \u001b[1;33m=\u001b[0m \u001b[0my\u001b[0m\u001b[1;33m.\u001b[0m\u001b[0mswapaxes\u001b[0m\u001b[1;33m(\u001b[0m\u001b[1;36m0\u001b[0m\u001b[1;33m,\u001b[0m \u001b[0maxis\u001b[0m\u001b[1;33m)\u001b[0m\u001b[1;33m.\u001b[0m\u001b[0mreshape\u001b[0m\u001b[1;33m(\u001b[0m\u001b[1;33m(\u001b[0m\u001b[0my\u001b[0m\u001b[1;33m.\u001b[0m\u001b[0mshape\u001b[0m\u001b[1;33m[\u001b[0m\u001b[0maxis\u001b[0m\u001b[1;33m]\u001b[0m\u001b[1;33m,\u001b[0m \u001b[1;33m-\u001b[0m\u001b[1;36m1\u001b[0m\u001b[1;33m)\u001b[0m\u001b[1;33m)\u001b[0m\u001b[1;33m\u001b[0m\u001b[1;33m\u001b[0m\u001b[0m\n\u001b[1;32m--> 120\u001b[1;33m     \u001b[0mresample_f\u001b[0m\u001b[1;33m(\u001b[0m\u001b[0mx_2d\u001b[0m\u001b[1;33m,\u001b[0m \u001b[0my_2d\u001b[0m\u001b[1;33m,\u001b[0m \u001b[0msample_ratio\u001b[0m\u001b[1;33m,\u001b[0m \u001b[0minterp_win\u001b[0m\u001b[1;33m,\u001b[0m \u001b[0minterp_delta\u001b[0m\u001b[1;33m,\u001b[0m \u001b[0mprecision\u001b[0m\u001b[1;33m)\u001b[0m\u001b[1;33m\u001b[0m\u001b[1;33m\u001b[0m\u001b[0m\n\u001b[0m\u001b[0;32m    121\u001b[0m \u001b[1;33m\u001b[0m\u001b[0m\n\u001b[0;32m    122\u001b[0m     \u001b[1;32mreturn\u001b[0m \u001b[0my\u001b[0m\u001b[1;33m\u001b[0m\u001b[1;33m\u001b[0m\u001b[0m\n",
      "\u001b[1;31mKeyboardInterrupt\u001b[0m: "
     ]
    }
   ],
   "source": [
    "X , y = [] , []\n",
    "for data in tqdm(df.iterrows()):\n",
    "  data  \n",
    "  sig , sr = librosa.load(DATA_PATH+data[1][0])\n",
    "  sr\n",
    "  for i in range(2):\n",
    "    n = np.random.randint(0, len(sig)-(sr*2))\n",
    "    sig_ = sig[n : int(n+(sr*2))]\n",
    "    mfcc_ = librosa.feature.mfcc(sig_ , sr=sr, n_mfcc=13)\n",
    "    X.append(mfcc_)\n",
    "    y.append(data[1][1])\n",
    "\n",
    "# convert list to numpy array\n",
    "X = np.array(X) \n",
    "y = np.array(y)\n",
    "\n",
    "#one-hot encoding the target\n",
    "y = tf.keras.utils.to_categorical(y , num_classes=6)\n",
    "\n",
    "# our tensorflow model takes input as (no_of_sample , height , width , channel).\n",
    "# here X has dimension (no_of_sample , height , width).\n",
    "# So, the below code will reshape it to (no_of_sample , height , width , 1).\n",
    "X = X.reshape(X.shape[0], X.shape[1], X.shape[2], 1)"
   ]
  },
  {
   "cell_type": "code",
   "execution_count": 12,
   "metadata": {},
   "outputs": [
    {
     "data": {
      "text/plain": [
       "(345, 13, 87, 1)"
      ]
     },
     "execution_count": 12,
     "metadata": {},
     "output_type": "execute_result"
    },
    {
     "data": {
      "text/plain": [
       "(345, 6)"
      ]
     },
     "execution_count": 12,
     "metadata": {},
     "output_type": "execute_result"
    },
    {
     "name": "stdout",
     "output_type": "stream",
     "text": [
      "Model: \"sequential_2\"\n",
      "_________________________________________________________________\n",
      "Layer (type)                 Output Shape              Param #   \n",
      "=================================================================\n",
      "conv2d_12 (Conv2D)           (None, 11, 85, 16)        160       \n",
      "_________________________________________________________________\n",
      "conv2d_13 (Conv2D)           (None, 9, 83, 16)         2320      \n",
      "_________________________________________________________________\n",
      "conv2d_14 (Conv2D)           (None, 7, 81, 32)         4640      \n",
      "_________________________________________________________________\n",
      "conv2d_15 (Conv2D)           (None, 5, 79, 32)         9248      \n",
      "_________________________________________________________________\n",
      "conv2d_16 (Conv2D)           (None, 3, 77, 64)         18496     \n",
      "_________________________________________________________________\n",
      "conv2d_17 (Conv2D)           (None, 1, 75, 32)         18464     \n",
      "_________________________________________________________________\n",
      "global_average_pooling2d_2 ( (None, 32)                0         \n",
      "_________________________________________________________________\n",
      "dense_4 (Dense)              (None, 32)                1056      \n",
      "_________________________________________________________________\n",
      "dense_5 (Dense)              (None, 6)                 198       \n",
      "=================================================================\n",
      "Total params: 54,582\n",
      "Trainable params: 54,582\n",
      "Non-trainable params: 0\n",
      "_________________________________________________________________\n"
     ]
    }
   ],
   "source": [
    "X.shape\n",
    "y.shape\n",
    "\n",
    "x_train , x_val , y_train , y_val = train_test_split(X , y ,test_size=0.2, random_state=2020)\n",
    "\n",
    "INPUTSHAPE = (13,87,1)\n",
    "\n",
    "model =  models.Sequential([\n",
    "                          layers.Conv2D(16 , (3,3),activation = 'relu',padding='valid', input_shape = INPUTSHAPE),\n",
    "                          layers.Conv2D(16, (3,3), activation='relu',padding='valid'),\n",
    "\n",
    "                          layers.Conv2D(32, (3,3), activation='relu',padding='valid'),\n",
    "                          layers.Conv2D(32, (3,3), activation='relu',padding='valid'),\n",
    "\n",
    "                          layers.Conv2D(64, (3,3), activation='relu',padding='valid'),\n",
    "                          layers.Conv2D(32, (3,3), activation='relu',padding='valid'),\n",
    "                          layers.GlobalAveragePooling2D(),\n",
    "\n",
    "\n",
    "                          layers.Dense(32 , activation = 'relu'),\n",
    "                          layers.Dense(6 , activation = 'softmax')\n",
    "])\n",
    "\n",
    "model.compile(loss = 'categorical_crossentropy', optimizer = 'adam', metrics = 'acc')\n",
    "\n",
    "model.summary()\n"
   ]
  },
  {
   "cell_type": "code",
   "execution_count": 14,
   "metadata": {},
   "outputs": [
    {
     "name": "stdout",
     "output_type": "stream",
     "text": [
      "Epoch 1/40\n",
      "9/9 [==============================] - 0s 40ms/step - loss: 1.1818e-04 - acc: 1.0000 - val_loss: 0.0842 - val_acc: 0.9855\n",
      "Epoch 2/40\n",
      "9/9 [==============================] - 0s 40ms/step - loss: 1.1030e-04 - acc: 1.0000 - val_loss: 0.0843 - val_acc: 0.9855\n",
      "Epoch 3/40\n",
      "9/9 [==============================] - 0s 40ms/step - loss: 1.0111e-04 - acc: 1.0000 - val_loss: 0.0849 - val_acc: 0.9855\n",
      "Epoch 4/40\n",
      "9/9 [==============================] - 0s 40ms/step - loss: 9.4847e-05 - acc: 1.0000 - val_loss: 0.0841 - val_acc: 0.9855\n",
      "Epoch 5/40\n",
      "9/9 [==============================] - 0s 40ms/step - loss: 8.8151e-05 - acc: 1.0000 - val_loss: 0.0858 - val_acc: 0.9855\n",
      "Epoch 6/40\n",
      "9/9 [==============================] - 0s 39ms/step - loss: 8.2859e-05 - acc: 1.0000 - val_loss: 0.0850 - val_acc: 0.9855\n",
      "Epoch 7/40\n",
      "9/9 [==============================] - 0s 39ms/step - loss: 7.5465e-05 - acc: 1.0000 - val_loss: 0.0856 - val_acc: 0.9855\n",
      "Epoch 8/40\n",
      "9/9 [==============================] - 0s 39ms/step - loss: 6.9527e-05 - acc: 1.0000 - val_loss: 0.0877 - val_acc: 0.9855\n",
      "Epoch 9/40\n",
      "9/9 [==============================] - 0s 41ms/step - loss: 6.4568e-05 - acc: 1.0000 - val_loss: 0.0886 - val_acc: 0.9855\n",
      "Epoch 10/40\n",
      "9/9 [==============================] - 0s 41ms/step - loss: 5.9503e-05 - acc: 1.0000 - val_loss: 0.0881 - val_acc: 0.9855\n",
      "Epoch 11/40\n",
      "9/9 [==============================] - 0s 41ms/step - loss: 5.4792e-05 - acc: 1.0000 - val_loss: 0.0882 - val_acc: 0.9855\n",
      "Epoch 12/40\n",
      "9/9 [==============================] - 0s 41ms/step - loss: 5.3390e-05 - acc: 1.0000 - val_loss: 0.0904 - val_acc: 0.9855\n",
      "Epoch 13/40\n",
      "9/9 [==============================] - 0s 41ms/step - loss: 4.6952e-05 - acc: 1.0000 - val_loss: 0.0890 - val_acc: 0.9855\n",
      "Epoch 14/40\n",
      "9/9 [==============================] - 0s 41ms/step - loss: 4.6262e-05 - acc: 1.0000 - val_loss: 0.0891 - val_acc: 0.9855\n",
      "Epoch 15/40\n",
      "9/9 [==============================] - 0s 42ms/step - loss: 4.1969e-05 - acc: 1.0000 - val_loss: 0.0916 - val_acc: 0.9855\n",
      "Epoch 16/40\n",
      "9/9 [==============================] - 0s 42ms/step - loss: 4.0775e-05 - acc: 1.0000 - val_loss: 0.0937 - val_acc: 0.9855\n",
      "Epoch 17/40\n",
      "9/9 [==============================] - 0s 43ms/step - loss: 4.0102e-05 - acc: 1.0000 - val_loss: 0.0915 - val_acc: 0.9855\n",
      "Epoch 18/40\n",
      "9/9 [==============================] - 0s 42ms/step - loss: 3.5192e-05 - acc: 1.0000 - val_loss: 0.0926 - val_acc: 0.9855\n",
      "Epoch 19/40\n",
      "9/9 [==============================] - 0s 42ms/step - loss: 3.3206e-05 - acc: 1.0000 - val_loss: 0.0947 - val_acc: 0.9855\n",
      "Epoch 20/40\n",
      "9/9 [==============================] - 0s 42ms/step - loss: 3.2392e-05 - acc: 1.0000 - val_loss: 0.0944 - val_acc: 0.9855\n",
      "Epoch 21/40\n",
      "9/9 [==============================] - 0s 45ms/step - loss: 3.0642e-05 - acc: 1.0000 - val_loss: 0.0948 - val_acc: 0.9855\n",
      "Epoch 22/40\n",
      "9/9 [==============================] - 0s 45ms/step - loss: 2.9489e-05 - acc: 1.0000 - val_loss: 0.0971 - val_acc: 0.9855\n",
      "Epoch 23/40\n",
      "9/9 [==============================] - 0s 43ms/step - loss: 2.7110e-05 - acc: 1.0000 - val_loss: 0.0956 - val_acc: 0.9855\n",
      "Epoch 24/40\n",
      "9/9 [==============================] - 0s 46ms/step - loss: 2.9182e-05 - acc: 1.0000 - val_loss: 0.0951 - val_acc: 0.9855\n",
      "Epoch 25/40\n",
      "9/9 [==============================] - 0s 45ms/step - loss: 2.8724e-05 - acc: 1.0000 - val_loss: 0.0997 - val_acc: 0.9855\n",
      "Epoch 26/40\n",
      "9/9 [==============================] - 0s 42ms/step - loss: 2.5379e-05 - acc: 1.0000 - val_loss: 0.0942 - val_acc: 0.9855\n",
      "Epoch 27/40\n",
      "9/9 [==============================] - 0s 42ms/step - loss: 2.4613e-05 - acc: 1.0000 - val_loss: 0.0965 - val_acc: 0.9855\n",
      "Epoch 28/40\n",
      "9/9 [==============================] - 0s 42ms/step - loss: 2.2167e-05 - acc: 1.0000 - val_loss: 0.0988 - val_acc: 0.9855\n",
      "Epoch 29/40\n",
      "9/9 [==============================] - 0s 41ms/step - loss: 2.1832e-05 - acc: 1.0000 - val_loss: 0.0991 - val_acc: 0.9855\n",
      "Epoch 30/40\n",
      "9/9 [==============================] - 0s 41ms/step - loss: 2.0479e-05 - acc: 1.0000 - val_loss: 0.1003 - val_acc: 0.9855\n",
      "Epoch 31/40\n",
      "9/9 [==============================] - 0s 42ms/step - loss: 1.9879e-05 - acc: 1.0000 - val_loss: 0.1002 - val_acc: 0.9855\n",
      "Epoch 32/40\n",
      "9/9 [==============================] - 0s 41ms/step - loss: 1.9041e-05 - acc: 1.0000 - val_loss: 0.1007 - val_acc: 0.9855\n",
      "Epoch 33/40\n",
      "9/9 [==============================] - 0s 42ms/step - loss: 1.8210e-05 - acc: 1.0000 - val_loss: 0.1007 - val_acc: 0.9855\n",
      "Epoch 34/40\n",
      "9/9 [==============================] - 0s 42ms/step - loss: 1.7613e-05 - acc: 1.0000 - val_loss: 0.1011 - val_acc: 0.9855\n",
      "Epoch 35/40\n",
      "9/9 [==============================] - 0s 42ms/step - loss: 1.6594e-05 - acc: 1.0000 - val_loss: 0.0994 - val_acc: 0.9855\n",
      "Epoch 36/40\n",
      "9/9 [==============================] - 0s 42ms/step - loss: 1.6227e-05 - acc: 1.0000 - val_loss: 0.0997 - val_acc: 0.9855\n",
      "Epoch 37/40\n",
      "9/9 [==============================] - 0s 42ms/step - loss: 1.5416e-05 - acc: 1.0000 - val_loss: 0.1012 - val_acc: 0.9855\n",
      "Epoch 38/40\n",
      "9/9 [==============================] - 0s 41ms/step - loss: 1.5165e-05 - acc: 1.0000 - val_loss: 0.1021 - val_acc: 0.9855\n",
      "Epoch 39/40\n",
      "9/9 [==============================] - 0s 41ms/step - loss: 1.5326e-05 - acc: 1.0000 - val_loss: 0.1005 - val_acc: 0.9855\n",
      "Epoch 40/40\n",
      "9/9 [==============================] - 0s 42ms/step - loss: 1.4210e-05 - acc: 1.0000 - val_loss: 0.1044 - val_acc: 0.9855\n"
     ]
    }
   ],
   "source": [
    "LOGDIR = \"logs\"\n",
    "CPKT = \"cpkt/\"\n",
    "\n",
    "#this callback is used to prevent overfitting.\n",
    "callback_1 = tf.keras.callbacks.EarlyStopping(\n",
    "    monitor='val_loss', min_delta=0, patience=3, verbose=0, mode='auto',\n",
    "    baseline=None, restore_best_weights=False\n",
    ")\n",
    "\n",
    "#this checkpoint saves the best weights of model at every epoch\n",
    "callback_2 = tf.keras.callbacks.ModelCheckpoint(\n",
    "    CPKT, monitor='val_loss', verbose=0, save_best_only=True,\n",
    "    save_weights_only=True, mode='auto', save_freq='epoch', options=None\n",
    ")\n",
    "\n",
    "#this is for tensorboard\n",
    "tensorboard_callback = tf.keras.callbacks.TensorBoard(log_dir=LOGDIR)\n",
    "\n",
    "\n",
    "history = model.fit(x_train,y_train ,\n",
    "            validation_data=(x_val,y_val),\n",
    "            epochs=40)\n",
    "# Guardar el Modelo\n",
    "model.save('my_model.h5')\n",
    "\n"
   ]
  },
  {
   "cell_type": "code",
   "execution_count": 17,
   "metadata": {},
   "outputs": [],
   "source": []
  },
  {
   "cell_type": "code",
   "execution_count": 42,
   "metadata": {},
   "outputs": [
    {
     "data": {
      "text/plain": [
       "(1, 13, 87, 1)"
      ]
     },
     "execution_count": 42,
     "metadata": {},
     "output_type": "execute_result"
    },
    {
     "data": {
      "text/plain": [
       "3"
      ]
     },
     "execution_count": 42,
     "metadata": {},
     "output_type": "execute_result"
    },
    {
     "data": {
      "text/plain": [
       "(1, 13, 87, 1)"
      ]
     },
     "execution_count": 42,
     "metadata": {},
     "output_type": "execute_result"
    },
    {
     "data": {
      "text/plain": [
       "5"
      ]
     },
     "execution_count": 42,
     "metadata": {},
     "output_type": "execute_result"
    },
    {
     "data": {
      "text/plain": [
       "(1, 13, 87, 1)"
      ]
     },
     "execution_count": 42,
     "metadata": {},
     "output_type": "execute_result"
    },
    {
     "data": {
      "text/plain": [
       "0"
      ]
     },
     "execution_count": 42,
     "metadata": {},
     "output_type": "execute_result"
    },
    {
     "data": {
      "text/plain": [
       "(1, 13, 87, 1)"
      ]
     },
     "execution_count": 42,
     "metadata": {},
     "output_type": "execute_result"
    },
    {
     "data": {
      "text/plain": [
       "2"
      ]
     },
     "execution_count": 42,
     "metadata": {},
     "output_type": "execute_result"
    },
    {
     "data": {
      "text/plain": [
       "(1, 13, 87, 1)"
      ]
     },
     "execution_count": 42,
     "metadata": {},
     "output_type": "execute_result"
    },
    {
     "data": {
      "text/plain": [
       "3"
      ]
     },
     "execution_count": 42,
     "metadata": {},
     "output_type": "execute_result"
    },
    {
     "data": {
      "text/plain": [
       "(1, 13, 87, 1)"
      ]
     },
     "execution_count": 42,
     "metadata": {},
     "output_type": "execute_result"
    },
    {
     "data": {
      "text/plain": [
       "5"
      ]
     },
     "execution_count": 42,
     "metadata": {},
     "output_type": "execute_result"
    },
    {
     "data": {
      "text/plain": [
       "(1, 13, 87, 1)"
      ]
     },
     "execution_count": 42,
     "metadata": {},
     "output_type": "execute_result"
    },
    {
     "data": {
      "text/plain": [
       "3"
      ]
     },
     "execution_count": 42,
     "metadata": {},
     "output_type": "execute_result"
    },
    {
     "data": {
      "text/plain": [
       "(1, 13, 87, 1)"
      ]
     },
     "execution_count": 42,
     "metadata": {},
     "output_type": "execute_result"
    },
    {
     "data": {
      "text/plain": [
       "0"
      ]
     },
     "execution_count": 42,
     "metadata": {},
     "output_type": "execute_result"
    },
    {
     "data": {
      "text/plain": [
       "(1, 13, 87, 1)"
      ]
     },
     "execution_count": 42,
     "metadata": {},
     "output_type": "execute_result"
    },
    {
     "data": {
      "text/plain": [
       "3"
      ]
     },
     "execution_count": 42,
     "metadata": {},
     "output_type": "execute_result"
    },
    {
     "data": {
      "text/plain": [
       "(1, 13, 87, 1)"
      ]
     },
     "execution_count": 42,
     "metadata": {},
     "output_type": "execute_result"
    },
    {
     "data": {
      "text/plain": [
       "0"
      ]
     },
     "execution_count": 42,
     "metadata": {},
     "output_type": "execute_result"
    },
    {
     "data": {
      "text/plain": [
       "(1, 13, 87, 1)"
      ]
     },
     "execution_count": 42,
     "metadata": {},
     "output_type": "execute_result"
    },
    {
     "data": {
      "text/plain": [
       "2"
      ]
     },
     "execution_count": 42,
     "metadata": {},
     "output_type": "execute_result"
    },
    {
     "data": {
      "text/plain": [
       "(1, 13, 87, 1)"
      ]
     },
     "execution_count": 42,
     "metadata": {},
     "output_type": "execute_result"
    },
    {
     "data": {
      "text/plain": [
       "3"
      ]
     },
     "execution_count": 42,
     "metadata": {},
     "output_type": "execute_result"
    },
    {
     "data": {
      "text/plain": [
       "(1, 13, 87, 1)"
      ]
     },
     "execution_count": 42,
     "metadata": {},
     "output_type": "execute_result"
    },
    {
     "data": {
      "text/plain": [
       "3"
      ]
     },
     "execution_count": 42,
     "metadata": {},
     "output_type": "execute_result"
    },
    {
     "data": {
      "text/plain": [
       "(1, 13, 87, 1)"
      ]
     },
     "execution_count": 42,
     "metadata": {},
     "output_type": "execute_result"
    },
    {
     "data": {
      "text/plain": [
       "0"
      ]
     },
     "execution_count": 42,
     "metadata": {},
     "output_type": "execute_result"
    },
    {
     "data": {
      "text/plain": [
       "(1, 13, 87, 1)"
      ]
     },
     "execution_count": 42,
     "metadata": {},
     "output_type": "execute_result"
    },
    {
     "data": {
      "text/plain": [
       "3"
      ]
     },
     "execution_count": 42,
     "metadata": {},
     "output_type": "execute_result"
    },
    {
     "data": {
      "text/plain": [
       "(1, 13, 87, 1)"
      ]
     },
     "execution_count": 42,
     "metadata": {},
     "output_type": "execute_result"
    },
    {
     "data": {
      "text/plain": [
       "3"
      ]
     },
     "execution_count": 42,
     "metadata": {},
     "output_type": "execute_result"
    },
    {
     "data": {
      "text/plain": [
       "(1, 13, 87, 1)"
      ]
     },
     "execution_count": 42,
     "metadata": {},
     "output_type": "execute_result"
    },
    {
     "data": {
      "text/plain": [
       "3"
      ]
     },
     "execution_count": 42,
     "metadata": {},
     "output_type": "execute_result"
    },
    {
     "data": {
      "text/plain": [
       "(1, 13, 87, 1)"
      ]
     },
     "execution_count": 42,
     "metadata": {},
     "output_type": "execute_result"
    },
    {
     "data": {
      "text/plain": [
       "3"
      ]
     },
     "execution_count": 42,
     "metadata": {},
     "output_type": "execute_result"
    },
    {
     "data": {
      "text/plain": [
       "(1, 13, 87, 1)"
      ]
     },
     "execution_count": 42,
     "metadata": {},
     "output_type": "execute_result"
    },
    {
     "data": {
      "text/plain": [
       "5"
      ]
     },
     "execution_count": 42,
     "metadata": {},
     "output_type": "execute_result"
    },
    {
     "data": {
      "text/plain": [
       "(1, 13, 87, 1)"
      ]
     },
     "execution_count": 42,
     "metadata": {},
     "output_type": "execute_result"
    },
    {
     "data": {
      "text/plain": [
       "1"
      ]
     },
     "execution_count": 42,
     "metadata": {},
     "output_type": "execute_result"
    },
    {
     "data": {
      "text/plain": [
       "(1, 13, 87, 1)"
      ]
     },
     "execution_count": 42,
     "metadata": {},
     "output_type": "execute_result"
    },
    {
     "data": {
      "text/plain": [
       "1"
      ]
     },
     "execution_count": 42,
     "metadata": {},
     "output_type": "execute_result"
    },
    {
     "data": {
      "text/plain": [
       "(1, 13, 87, 1)"
      ]
     },
     "execution_count": 42,
     "metadata": {},
     "output_type": "execute_result"
    },
    {
     "data": {
      "text/plain": [
       "1"
      ]
     },
     "execution_count": 42,
     "metadata": {},
     "output_type": "execute_result"
    },
    {
     "data": {
      "text/plain": [
       "(1, 13, 87, 1)"
      ]
     },
     "execution_count": 42,
     "metadata": {},
     "output_type": "execute_result"
    },
    {
     "data": {
      "text/plain": [
       "1"
      ]
     },
     "execution_count": 42,
     "metadata": {},
     "output_type": "execute_result"
    },
    {
     "data": {
      "text/plain": [
       "(1, 13, 87, 1)"
      ]
     },
     "execution_count": 42,
     "metadata": {},
     "output_type": "execute_result"
    },
    {
     "data": {
      "text/plain": [
       "1"
      ]
     },
     "execution_count": 42,
     "metadata": {},
     "output_type": "execute_result"
    },
    {
     "data": {
      "text/plain": [
       "(1, 13, 87, 1)"
      ]
     },
     "execution_count": 42,
     "metadata": {},
     "output_type": "execute_result"
    },
    {
     "data": {
      "text/plain": [
       "5"
      ]
     },
     "execution_count": 42,
     "metadata": {},
     "output_type": "execute_result"
    },
    {
     "data": {
      "text/plain": [
       "(1, 13, 87, 1)"
      ]
     },
     "execution_count": 42,
     "metadata": {},
     "output_type": "execute_result"
    },
    {
     "data": {
      "text/plain": [
       "0"
      ]
     },
     "execution_count": 42,
     "metadata": {},
     "output_type": "execute_result"
    },
    {
     "ename": "KeyboardInterrupt",
     "evalue": "",
     "output_type": "error",
     "traceback": [
      "\u001b[1;31m---------------------------------------------------------------------------\u001b[0m",
      "\u001b[1;31mKeyboardInterrupt\u001b[0m                         Traceback (most recent call last)",
      "\u001b[1;32m<ipython-input-42-62e187985bbb>\u001b[0m in \u001b[0;36m<module>\u001b[1;34m\u001b[0m\n\u001b[0;32m      9\u001b[0m \u001b[1;32mfor\u001b[0m \u001b[0mx\u001b[0m \u001b[1;32min\u001b[0m \u001b[0mrange\u001b[0m\u001b[1;33m(\u001b[0m\u001b[1;36m40\u001b[0m\u001b[1;33m)\u001b[0m\u001b[1;33m:\u001b[0m\u001b[1;33m\u001b[0m\u001b[1;33m\u001b[0m\u001b[0m\n\u001b[0;32m     10\u001b[0m     \u001b[0mmyrecording\u001b[0m \u001b[1;33m=\u001b[0m \u001b[0msd\u001b[0m\u001b[1;33m.\u001b[0m\u001b[0mrec\u001b[0m\u001b[1;33m(\u001b[0m\u001b[0mint\u001b[0m\u001b[1;33m(\u001b[0m\u001b[0mseconds\u001b[0m \u001b[1;33m*\u001b[0m \u001b[0mfs\u001b[0m\u001b[1;33m)\u001b[0m\u001b[1;33m,\u001b[0m \u001b[0msamplerate\u001b[0m\u001b[1;33m=\u001b[0m\u001b[0mfs\u001b[0m\u001b[1;33m,\u001b[0m \u001b[0mchannels\u001b[0m\u001b[1;33m=\u001b[0m\u001b[1;36m2\u001b[0m\u001b[1;33m)\u001b[0m\u001b[1;33m\u001b[0m\u001b[1;33m\u001b[0m\u001b[0m\n\u001b[1;32m---> 11\u001b[1;33m     \u001b[0msd\u001b[0m\u001b[1;33m.\u001b[0m\u001b[0mwait\u001b[0m\u001b[1;33m(\u001b[0m\u001b[1;33m)\u001b[0m  \u001b[1;31m# Wait until recording is finished\u001b[0m\u001b[1;33m\u001b[0m\u001b[1;33m\u001b[0m\u001b[0m\n\u001b[0m\u001b[0;32m     12\u001b[0m     \u001b[0mwrite\u001b[0m\u001b[1;33m(\u001b[0m\u001b[1;34m'temp.wav'\u001b[0m\u001b[1;33m,\u001b[0m \u001b[0mfs\u001b[0m\u001b[1;33m,\u001b[0m \u001b[0mmyrecording\u001b[0m\u001b[1;33m)\u001b[0m  \u001b[1;31m# Save as WAV file\u001b[0m\u001b[1;33m\u001b[0m\u001b[1;33m\u001b[0m\u001b[0m\n\u001b[0;32m     13\u001b[0m \u001b[1;33m\u001b[0m\u001b[0m\n",
      "\u001b[1;32mc:\\users\\uja\\appdata\\local\\programs\\python\\python38\\lib\\site-packages\\sounddevice.py\u001b[0m in \u001b[0;36mwait\u001b[1;34m(ignore_errors)\u001b[0m\n\u001b[0;32m    390\u001b[0m     \"\"\"\n\u001b[0;32m    391\u001b[0m     \u001b[1;32mif\u001b[0m \u001b[0m_last_callback\u001b[0m\u001b[1;33m:\u001b[0m\u001b[1;33m\u001b[0m\u001b[1;33m\u001b[0m\u001b[0m\n\u001b[1;32m--> 392\u001b[1;33m         \u001b[1;32mreturn\u001b[0m \u001b[0m_last_callback\u001b[0m\u001b[1;33m.\u001b[0m\u001b[0mwait\u001b[0m\u001b[1;33m(\u001b[0m\u001b[0mignore_errors\u001b[0m\u001b[1;33m)\u001b[0m\u001b[1;33m\u001b[0m\u001b[1;33m\u001b[0m\u001b[0m\n\u001b[0m\u001b[0;32m    393\u001b[0m \u001b[1;33m\u001b[0m\u001b[0m\n\u001b[0;32m    394\u001b[0m \u001b[1;33m\u001b[0m\u001b[0m\n",
      "\u001b[1;32mc:\\users\\uja\\appdata\\local\\programs\\python\\python38\\lib\\site-packages\\sounddevice.py\u001b[0m in \u001b[0;36mwait\u001b[1;34m(self, ignore_errors)\u001b[0m\n\u001b[0;32m   2590\u001b[0m         \"\"\"\n\u001b[0;32m   2591\u001b[0m         \u001b[1;32mtry\u001b[0m\u001b[1;33m:\u001b[0m\u001b[1;33m\u001b[0m\u001b[1;33m\u001b[0m\u001b[0m\n\u001b[1;32m-> 2592\u001b[1;33m             \u001b[0mself\u001b[0m\u001b[1;33m.\u001b[0m\u001b[0mevent\u001b[0m\u001b[1;33m.\u001b[0m\u001b[0mwait\u001b[0m\u001b[1;33m(\u001b[0m\u001b[1;33m)\u001b[0m\u001b[1;33m\u001b[0m\u001b[1;33m\u001b[0m\u001b[0m\n\u001b[0m\u001b[0;32m   2593\u001b[0m         \u001b[1;32mfinally\u001b[0m\u001b[1;33m:\u001b[0m\u001b[1;33m\u001b[0m\u001b[1;33m\u001b[0m\u001b[0m\n\u001b[0;32m   2594\u001b[0m             \u001b[0mself\u001b[0m\u001b[1;33m.\u001b[0m\u001b[0mstream\u001b[0m\u001b[1;33m.\u001b[0m\u001b[0mclose\u001b[0m\u001b[1;33m(\u001b[0m\u001b[0mignore_errors\u001b[0m\u001b[1;33m)\u001b[0m\u001b[1;33m\u001b[0m\u001b[1;33m\u001b[0m\u001b[0m\n",
      "\u001b[1;32mc:\\users\\uja\\appdata\\local\\programs\\python\\python38\\lib\\threading.py\u001b[0m in \u001b[0;36mwait\u001b[1;34m(self, timeout)\u001b[0m\n\u001b[0;32m    556\u001b[0m             \u001b[0msignaled\u001b[0m \u001b[1;33m=\u001b[0m \u001b[0mself\u001b[0m\u001b[1;33m.\u001b[0m\u001b[0m_flag\u001b[0m\u001b[1;33m\u001b[0m\u001b[1;33m\u001b[0m\u001b[0m\n\u001b[0;32m    557\u001b[0m             \u001b[1;32mif\u001b[0m \u001b[1;32mnot\u001b[0m \u001b[0msignaled\u001b[0m\u001b[1;33m:\u001b[0m\u001b[1;33m\u001b[0m\u001b[1;33m\u001b[0m\u001b[0m\n\u001b[1;32m--> 558\u001b[1;33m                 \u001b[0msignaled\u001b[0m \u001b[1;33m=\u001b[0m \u001b[0mself\u001b[0m\u001b[1;33m.\u001b[0m\u001b[0m_cond\u001b[0m\u001b[1;33m.\u001b[0m\u001b[0mwait\u001b[0m\u001b[1;33m(\u001b[0m\u001b[0mtimeout\u001b[0m\u001b[1;33m)\u001b[0m\u001b[1;33m\u001b[0m\u001b[1;33m\u001b[0m\u001b[0m\n\u001b[0m\u001b[0;32m    559\u001b[0m             \u001b[1;32mreturn\u001b[0m \u001b[0msignaled\u001b[0m\u001b[1;33m\u001b[0m\u001b[1;33m\u001b[0m\u001b[0m\n\u001b[0;32m    560\u001b[0m \u001b[1;33m\u001b[0m\u001b[0m\n",
      "\u001b[1;32mc:\\users\\uja\\appdata\\local\\programs\\python\\python38\\lib\\threading.py\u001b[0m in \u001b[0;36mwait\u001b[1;34m(self, timeout)\u001b[0m\n\u001b[0;32m    300\u001b[0m         \u001b[1;32mtry\u001b[0m\u001b[1;33m:\u001b[0m    \u001b[1;31m# restore state no matter what (e.g., KeyboardInterrupt)\u001b[0m\u001b[1;33m\u001b[0m\u001b[1;33m\u001b[0m\u001b[0m\n\u001b[0;32m    301\u001b[0m             \u001b[1;32mif\u001b[0m \u001b[0mtimeout\u001b[0m \u001b[1;32mis\u001b[0m \u001b[1;32mNone\u001b[0m\u001b[1;33m:\u001b[0m\u001b[1;33m\u001b[0m\u001b[1;33m\u001b[0m\u001b[0m\n\u001b[1;32m--> 302\u001b[1;33m                 \u001b[0mwaiter\u001b[0m\u001b[1;33m.\u001b[0m\u001b[0macquire\u001b[0m\u001b[1;33m(\u001b[0m\u001b[1;33m)\u001b[0m\u001b[1;33m\u001b[0m\u001b[1;33m\u001b[0m\u001b[0m\n\u001b[0m\u001b[0;32m    303\u001b[0m                 \u001b[0mgotit\u001b[0m \u001b[1;33m=\u001b[0m \u001b[1;32mTrue\u001b[0m\u001b[1;33m\u001b[0m\u001b[1;33m\u001b[0m\u001b[0m\n\u001b[0;32m    304\u001b[0m             \u001b[1;32melse\u001b[0m\u001b[1;33m:\u001b[0m\u001b[1;33m\u001b[0m\u001b[1;33m\u001b[0m\u001b[0m\n",
      "\u001b[1;31mKeyboardInterrupt\u001b[0m: "
     ]
    }
   ],
   "source": [
    "import sounddevice as sd\n",
    "from scipy.io.wavfile import write\n",
    "from IPython.display import clear_output\n",
    "fs = 44100  # Sample rate\n",
    "seconds = 3  # Duration of recording\n",
    "\n",
    "new_model = models.load_model('my_model.h5')\n",
    "\n",
    "for x in range(40):\n",
    "    myrecording = sd.rec(int(seconds * fs), samplerate=fs, channels=2)\n",
    "    sd.wait()  # Wait until recording is finished\n",
    "    write('temp.wav', fs, myrecording)  # Save as WAV file \n",
    "\n",
    "\n",
    "    sig_temp , sr = librosa.load('temp.wav')\n",
    "    n = np.random.randint(0, len(sig_temp)-(sr*2))\n",
    "    sig_temp = sig_temp[n : int(n+(sr*2))]\n",
    "    mfcc_temp = librosa.feature.mfcc(sig_temp , sr=sr, n_mfcc=13)\n",
    "    X_temp=[]\n",
    "    X_temp.append(mfcc_temp)\n",
    "    X_temp = np.array(X_temp) \n",
    "    X_temp = X_temp.reshape(X_temp.shape[0], X_temp.shape[1], X_temp.shape[2], 1)\n",
    "    X_temp.shape\n",
    "    Y_temp=new_model.predict(X_temp)\n",
    "    np.argmax(Y_temp)\n",
    "    "
   ]
  },
  {
   "cell_type": "code",
   "execution_count": null,
   "metadata": {},
   "outputs": [],
   "source": []
  },
  {
   "cell_type": "code",
   "execution_count": null,
   "metadata": {},
   "outputs": [],
   "source": []
  }
 ],
 "metadata": {
  "kernelspec": {
   "display_name": "Python 3",
   "language": "python",
   "name": "python3"
  },
  "language_info": {
   "codemirror_mode": {
    "name": "ipython",
    "version": 3
   },
   "file_extension": ".py",
   "mimetype": "text/x-python",
   "name": "python",
   "nbconvert_exporter": "python",
   "pygments_lexer": "ipython3",
   "version": "3.8.5"
  }
 },
 "nbformat": 4,
 "nbformat_minor": 4
}
